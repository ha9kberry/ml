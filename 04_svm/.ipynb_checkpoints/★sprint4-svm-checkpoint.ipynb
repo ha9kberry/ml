{
 "cells": [
  {
   "cell_type": "markdown",
   "metadata": {},
   "source": [
    "# 毒キノコの判定 SVM\n",
    "SVMを用いて、毒キノコの判定\n",
    "- 導入\n",
    "- データの取得\n",
    "- 前処理\n",
    "- ハイパーパラメータの調整\n",
    "- SVMの実行"
   ]
  },
  {
   "cell_type": "markdown",
   "metadata": {},
   "source": [
    "## 導入\n",
    "### SVMとは何か\n",
    "以下の要素を含みながらSVMについて簡潔に説明してください。\n",
    "\n",
    "- どのようなときに使うのか\n",
    "- どのような仕組みなのか\n",
    "- どういった利点欠点があるのか"
   ]
  },
  {
   "cell_type": "code",
   "execution_count": 1,
   "metadata": {
    "collapsed": true
   },
   "outputs": [],
   "source": [
    "# 回答\n",
    "教師あり機械学習方法"
   ]
  },
  {
   "cell_type": "code",
   "execution_count": 2,
   "metadata": {
    "collapsed": true
   },
   "outputs": [],
   "source": [
    "import numpy as np\n",
    "import pandas as pd\n",
    "import matplotlib.pyplot as plt\n",
    "%matplotlib inline\n",
    "from IPython.display import display\n",
    "\n",
    "pd.options.display.max_rows = None\n",
    "pd.options.display.max_columns = None"
   ]
  },
  {
   "cell_type": "markdown",
   "metadata": {},
   "source": [
    "## データの取得\n",
    "UCIのMushroom Data Setを使用  \n",
    "[UCI Machine Learning Repository: Mushroom Data Set](https://archive.ics.uci.edu/ml/datasets/Mushroom)\n",
    "\n",
    "23種類のキノコについての8124のサンプルが集められたデータセット  \n",
    "特徴量は22個で、ターゲットはedible（食べられる）poisonous（毒がある）の2種類"
   ]
  },
  {
   "cell_type": "code",
   "execution_count": 3,
   "metadata": {},
   "outputs": [
    {
     "data": {
      "text/html": [
       "<div>\n",
       "<style>\n",
       "    .dataframe thead tr:only-child th {\n",
       "        text-align: right;\n",
       "    }\n",
       "\n",
       "    .dataframe thead th {\n",
       "        text-align: left;\n",
       "    }\n",
       "\n",
       "    .dataframe tbody tr th {\n",
       "        vertical-align: top;\n",
       "    }\n",
       "</style>\n",
       "<table border=\"1\" class=\"dataframe\">\n",
       "  <thead>\n",
       "    <tr style=\"text-align: right;\">\n",
       "      <th></th>\n",
       "      <th>classification</th>\n",
       "      <th>cap-shape</th>\n",
       "      <th>cap-surface</th>\n",
       "      <th>cap-color</th>\n",
       "      <th>bruises?</th>\n",
       "      <th>odor</th>\n",
       "      <th>gill-attachment</th>\n",
       "      <th>gill-spacing</th>\n",
       "      <th>gill-size</th>\n",
       "      <th>gill-color</th>\n",
       "      <th>stalk-shape</th>\n",
       "      <th>stalk-root</th>\n",
       "      <th>stalk-surface-above-ring</th>\n",
       "      <th>stalk-surface-below-ring</th>\n",
       "      <th>stalk-color-above-ring</th>\n",
       "      <th>stalk-color-below-ring</th>\n",
       "      <th>veil-type</th>\n",
       "      <th>veil-color</th>\n",
       "      <th>ring-number</th>\n",
       "      <th>ring-type</th>\n",
       "      <th>spore-print-color</th>\n",
       "      <th>population</th>\n",
       "      <th>habitat</th>\n",
       "    </tr>\n",
       "  </thead>\n",
       "  <tbody>\n",
       "    <tr>\n",
       "      <th>0</th>\n",
       "      <td>EDIBLE</td>\n",
       "      <td>CONVEX</td>\n",
       "      <td>SMOOTH</td>\n",
       "      <td>WHITE</td>\n",
       "      <td>BRUISES</td>\n",
       "      <td>ALMOND</td>\n",
       "      <td>FREE</td>\n",
       "      <td>CROWDED</td>\n",
       "      <td>NARROW</td>\n",
       "      <td>WHITE</td>\n",
       "      <td>TAPERING</td>\n",
       "      <td>BULBOUS</td>\n",
       "      <td>SMOOTH</td>\n",
       "      <td>SMOOTH</td>\n",
       "      <td>WHITE</td>\n",
       "      <td>WHITE</td>\n",
       "      <td>PARTIAL</td>\n",
       "      <td>WHITE</td>\n",
       "      <td>ONE</td>\n",
       "      <td>PENDANT</td>\n",
       "      <td>PURPLE</td>\n",
       "      <td>SEVERAL</td>\n",
       "      <td>WOODS</td>\n",
       "    </tr>\n",
       "    <tr>\n",
       "      <th>1</th>\n",
       "      <td>EDIBLE</td>\n",
       "      <td>CONVEX</td>\n",
       "      <td>SMOOTH</td>\n",
       "      <td>WHITE</td>\n",
       "      <td>BRUISES</td>\n",
       "      <td>ALMOND</td>\n",
       "      <td>FREE</td>\n",
       "      <td>CROWDED</td>\n",
       "      <td>NARROW</td>\n",
       "      <td>WHITE</td>\n",
       "      <td>TAPERING</td>\n",
       "      <td>BULBOUS</td>\n",
       "      <td>SMOOTH</td>\n",
       "      <td>SMOOTH</td>\n",
       "      <td>WHITE</td>\n",
       "      <td>WHITE</td>\n",
       "      <td>PARTIAL</td>\n",
       "      <td>WHITE</td>\n",
       "      <td>ONE</td>\n",
       "      <td>PENDANT</td>\n",
       "      <td>BROWN</td>\n",
       "      <td>SEVERAL</td>\n",
       "      <td>WOODS</td>\n",
       "    </tr>\n",
       "    <tr>\n",
       "      <th>2</th>\n",
       "      <td>EDIBLE</td>\n",
       "      <td>CONVEX</td>\n",
       "      <td>SMOOTH</td>\n",
       "      <td>WHITE</td>\n",
       "      <td>BRUISES</td>\n",
       "      <td>ALMOND</td>\n",
       "      <td>FREE</td>\n",
       "      <td>CROWDED</td>\n",
       "      <td>NARROW</td>\n",
       "      <td>PINK</td>\n",
       "      <td>TAPERING</td>\n",
       "      <td>BULBOUS</td>\n",
       "      <td>SMOOTH</td>\n",
       "      <td>SMOOTH</td>\n",
       "      <td>WHITE</td>\n",
       "      <td>WHITE</td>\n",
       "      <td>PARTIAL</td>\n",
       "      <td>WHITE</td>\n",
       "      <td>ONE</td>\n",
       "      <td>PENDANT</td>\n",
       "      <td>PURPLE</td>\n",
       "      <td>SEVERAL</td>\n",
       "      <td>WOODS</td>\n",
       "    </tr>\n",
       "    <tr>\n",
       "      <th>3</th>\n",
       "      <td>EDIBLE</td>\n",
       "      <td>CONVEX</td>\n",
       "      <td>SMOOTH</td>\n",
       "      <td>WHITE</td>\n",
       "      <td>BRUISES</td>\n",
       "      <td>ALMOND</td>\n",
       "      <td>FREE</td>\n",
       "      <td>CROWDED</td>\n",
       "      <td>NARROW</td>\n",
       "      <td>PINK</td>\n",
       "      <td>TAPERING</td>\n",
       "      <td>BULBOUS</td>\n",
       "      <td>SMOOTH</td>\n",
       "      <td>SMOOTH</td>\n",
       "      <td>WHITE</td>\n",
       "      <td>WHITE</td>\n",
       "      <td>PARTIAL</td>\n",
       "      <td>WHITE</td>\n",
       "      <td>ONE</td>\n",
       "      <td>PENDANT</td>\n",
       "      <td>BROWN</td>\n",
       "      <td>SEVERAL</td>\n",
       "      <td>WOODS</td>\n",
       "    </tr>\n",
       "    <tr>\n",
       "      <th>4</th>\n",
       "      <td>EDIBLE</td>\n",
       "      <td>CONVEX</td>\n",
       "      <td>SMOOTH</td>\n",
       "      <td>WHITE</td>\n",
       "      <td>BRUISES</td>\n",
       "      <td>ALMOND</td>\n",
       "      <td>FREE</td>\n",
       "      <td>CROWDED</td>\n",
       "      <td>NARROW</td>\n",
       "      <td>BROWN</td>\n",
       "      <td>TAPERING</td>\n",
       "      <td>BULBOUS</td>\n",
       "      <td>SMOOTH</td>\n",
       "      <td>SMOOTH</td>\n",
       "      <td>WHITE</td>\n",
       "      <td>WHITE</td>\n",
       "      <td>PARTIAL</td>\n",
       "      <td>WHITE</td>\n",
       "      <td>ONE</td>\n",
       "      <td>PENDANT</td>\n",
       "      <td>PURPLE</td>\n",
       "      <td>SEVERAL</td>\n",
       "      <td>WOODS</td>\n",
       "    </tr>\n",
       "  </tbody>\n",
       "</table>\n",
       "</div>"
      ],
      "text/plain": [
       "  classification cap-shape cap-surface cap-color bruises?    odor  \\\n",
       "0         EDIBLE    CONVEX      SMOOTH     WHITE  BRUISES  ALMOND   \n",
       "1         EDIBLE    CONVEX      SMOOTH     WHITE  BRUISES  ALMOND   \n",
       "2         EDIBLE    CONVEX      SMOOTH     WHITE  BRUISES  ALMOND   \n",
       "3         EDIBLE    CONVEX      SMOOTH     WHITE  BRUISES  ALMOND   \n",
       "4         EDIBLE    CONVEX      SMOOTH     WHITE  BRUISES  ALMOND   \n",
       "\n",
       "  gill-attachment gill-spacing gill-size gill-color stalk-shape stalk-root  \\\n",
       "0            FREE      CROWDED    NARROW      WHITE    TAPERING    BULBOUS   \n",
       "1            FREE      CROWDED    NARROW      WHITE    TAPERING    BULBOUS   \n",
       "2            FREE      CROWDED    NARROW       PINK    TAPERING    BULBOUS   \n",
       "3            FREE      CROWDED    NARROW       PINK    TAPERING    BULBOUS   \n",
       "4            FREE      CROWDED    NARROW      BROWN    TAPERING    BULBOUS   \n",
       "\n",
       "  stalk-surface-above-ring stalk-surface-below-ring stalk-color-above-ring  \\\n",
       "0                   SMOOTH                   SMOOTH                  WHITE   \n",
       "1                   SMOOTH                   SMOOTH                  WHITE   \n",
       "2                   SMOOTH                   SMOOTH                  WHITE   \n",
       "3                   SMOOTH                   SMOOTH                  WHITE   \n",
       "4                   SMOOTH                   SMOOTH                  WHITE   \n",
       "\n",
       "  stalk-color-below-ring veil-type veil-color ring-number ring-type  \\\n",
       "0                  WHITE   PARTIAL      WHITE         ONE   PENDANT   \n",
       "1                  WHITE   PARTIAL      WHITE         ONE   PENDANT   \n",
       "2                  WHITE   PARTIAL      WHITE         ONE   PENDANT   \n",
       "3                  WHITE   PARTIAL      WHITE         ONE   PENDANT   \n",
       "4                  WHITE   PARTIAL      WHITE         ONE   PENDANT   \n",
       "\n",
       "  spore-print-color population habitat  \n",
       "0            PURPLE    SEVERAL   WOODS  \n",
       "1             BROWN    SEVERAL   WOODS  \n",
       "2            PURPLE    SEVERAL   WOODS  \n",
       "3             BROWN    SEVERAL   WOODS  \n",
       "4            PURPLE    SEVERAL   WOODS  "
      ]
     },
     "execution_count": 3,
     "metadata": {},
     "output_type": "execute_result"
    }
   ],
   "source": [
    "df = pd.read_csv(\"input/expanded.txt\",header=None)\n",
    "df.columns=['classification', 'cap-shape','cap-surface','cap-color','bruises?',\n",
    "            'odor','gill-attachment','gill-spacing','gill-size','gill-color',\n",
    "            'stalk-shape','stalk-root','stalk-surface-above-ring','stalk-surface-below-ring','stalk-color-above-ring',\n",
    "            'stalk-color-below-ring','veil-type','veil-color','ring-number','ring-type',\n",
    "            'spore-print-color','population','habitat']\n",
    "df.head()\n",
    "#df.info()"
   ]
  },
  {
   "cell_type": "markdown",
   "metadata": {},
   "source": [
    "## 前処理\n",
    "### データの変換\n",
    "\n",
    "このデータセットではターゲットも特徴量も全て文字列なので、SVMで利用できるようにそれらを整数に変換  \n",
    "sklearn.preprocessingの中のメソッドが利用できる"
   ]
  },
  {
   "cell_type": "code",
   "execution_count": 4,
   "metadata": {
    "collapsed": true
   },
   "outputs": [],
   "source": [
    "#文字列から整数へ変換するコードを記述"
   ]
  },
  {
   "cell_type": "markdown",
   "metadata": {},
   "source": [
    "### データセットの分割\n",
    "testデータとtrainデータに分割"
   ]
  },
  {
   "cell_type": "code",
   "execution_count": 5,
   "metadata": {
    "collapsed": true
   },
   "outputs": [],
   "source": [
    "#データセットを分割するコードの記述"
   ]
  },
  {
   "cell_type": "markdown",
   "metadata": {},
   "source": [
    "### 標準化\n",
    "Feature Scalingのテキストを参考"
   ]
  },
  {
   "cell_type": "code",
   "execution_count": 6,
   "metadata": {
    "collapsed": true
   },
   "outputs": [],
   "source": [
    "#標準化を行うコードを記述"
   ]
  },
  {
   "cell_type": "markdown",
   "metadata": {},
   "source": [
    "### なぜSVMを行う際に標準化が必要なのか"
   ]
  },
  {
   "cell_type": "code",
   "execution_count": 7,
   "metadata": {
    "collapsed": true
   },
   "outputs": [],
   "source": [
    "# 回答"
   ]
  },
  {
   "cell_type": "markdown",
   "metadata": {},
   "source": [
    "## ハイパーパラメータの調整"
   ]
  },
  {
   "cell_type": "markdown",
   "metadata": {},
   "source": [
    "### カーネルとは何か\n",
    "SVMにおいて重要になってくるカーネルとは何でしょうか。簡潔に説明してください。また、カーネルはどう使い分けるのが良いか調べて記述してください。"
   ]
  },
  {
   "cell_type": "code",
   "execution_count": 8,
   "metadata": {
    "collapsed": true
   },
   "outputs": [],
   "source": [
    "#回答"
   ]
  },
  {
   "cell_type": "markdown",
   "metadata": {},
   "source": [
    "### コストペナルティCとは何か\n",
    "ハイパーパラメータとして設定するコストペナルティCについて簡潔に説明してください。"
   ]
  },
  {
   "cell_type": "code",
   "execution_count": 9,
   "metadata": {
    "collapsed": true
   },
   "outputs": [],
   "source": [
    "#回答"
   ]
  },
  {
   "cell_type": "markdown",
   "metadata": {},
   "source": [
    "### ハイパーパラメータを調整する\n",
    "\n",
    "テキストでは実装しませんでしたが、SVMには様々なハイパーパラメータが存在し、その設定によって結果に違いが出ることを学びました。グリッドサーチを行うことでハイパーパラメータを決定してください。なお、実行にはある程度時間がかかることが予想されます。\n",
    "\n",
    "カーネルもハイパーパラメータのひとつと考えられます。"
   ]
  },
  {
   "cell_type": "code",
   "execution_count": 10,
   "metadata": {
    "collapsed": true
   },
   "outputs": [],
   "source": [
    "#グリッドサーチのコードを記述"
   ]
  },
  {
   "cell_type": "markdown",
   "metadata": {},
   "source": [
    "## SVMの実行\n",
    "### 学習およびテスト\n",
    "選択したハイパーパラメータを利用して、学習およびテストを行ってください。精度も表示しましょう。"
   ]
  },
  {
   "cell_type": "code",
   "execution_count": 11,
   "metadata": {
    "collapsed": true
   },
   "outputs": [],
   "source": [
    "#SVMの学習およびテストをするコードを記述"
   ]
  }
 ],
 "metadata": {
  "kernelspec": {
   "display_name": "Python 3",
   "language": "python",
   "name": "python3"
  },
  "language_info": {
   "codemirror_mode": {
    "name": "ipython",
    "version": 3
   },
   "file_extension": ".py",
   "mimetype": "text/x-python",
   "name": "python",
   "nbconvert_exporter": "python",
   "pygments_lexer": "ipython3",
   "version": "3.6.1"
  }
 },
 "nbformat": 4,
 "nbformat_minor": 2
}
