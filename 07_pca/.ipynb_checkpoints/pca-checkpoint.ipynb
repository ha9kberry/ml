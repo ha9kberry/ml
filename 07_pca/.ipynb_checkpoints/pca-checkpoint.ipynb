{
 "cells": [
  {
   "cell_type": "markdown",
   "metadata": {},
   "source": [
    "# 主成分分析\n",
    "\n",
    "1. 主成分分析について\n",
    "2. データ作成\n",
    "3. 分散共分散行列から相関行列を求める\n",
    "4. Pandasから相関行列を求める\n",
    "5. 固有値、固有ベクトル\n",
    "6. 寄与率、累積寄与率\n",
    "7. 主成分をプロット（現在進行中）\n",
    "8. 今後の課題"
   ]
  },
  {
   "cell_type": "markdown",
   "metadata": {},
   "source": [
    "## 1. 主成分分析について\n",
    "\n",
    "多くの説明変数を持つ多次元データの情報量をできるだけ損なわずに、新しく合成された変数に置き換え、数を減らすことで、データの特徴が、より可視化され、データを新しい視点で解釈できるようにすることを** 主成分分析 **という。このようなプロセスを「次元の縮約」と呼ぶ。\n",
    "\n",
    "例えば、散布図だけでは、データ全体の特徴や傾向、別のデータ郡との比較など把握しにくい。（説明変数が複数であれば、なおさら）\n",
    "\n",
    "そこで全データの重心（平均値）を求め、**重心からデータの分散（バラつき）が最大となる方向を見つけ、軸（第1主成分軸）**を引く。  \n",
    "**その軸と直交する方向に対して分散が最大となる方向を探し、軸（第2主成分軸）**を引く。  \n",
    "これをデータの次元分繰り返す。（説明変数の数だけ軸ができる）\n",
    "\n",
    "データのバラつきが大きい主成分軸のみで構成された座標上にデータをプロットしていくことで、データの関係性を把握し、新たな視点での解釈の気付きとなる。プロットの値は、各データの** 主成分得点 **より算出できる。  \n",
    "**主成分得点：主成分軸である固有ベクトルの各要素に、実際のデータの値を掛けた総和**\n",
    "\n",
    "逆にバラつきが少ない主成分軸はデータに共通するパターンなので、あまり意味をなさないと判断でき、切り捨てることができる。  \n",
    "各主成分の** 寄与率 **を大きい順に足しあげていった** 累積寄与率 **が70～80％（目安）に達した以降の主成分軸は切り捨ての対象になり得る。  \n",
    "**寄与率：ある主成分の分散と、すべての主成分の分散の総和、との割合**\n",
    "\n",
    "https://qiita.com/supersaiakujin/items/138c0d8e6511735f1f45"
   ]
  },
  {
   "cell_type": "code",
   "execution_count": 1,
   "metadata": {},
   "outputs": [],
   "source": [
    "import numpy as np\n",
    "import pandas as pd\n",
    "import matplotlib.pyplot as plt"
   ]
  },
  {
   "cell_type": "markdown",
   "metadata": {},
   "source": [
    "## 2. データ作成\n",
    "\n",
    "あるクラスの生徒10人の国社理英数の成績  \n",
    "国語 / 社会 / 理科 は 100点満点  \n",
    "英語 / 数学 は 200点満点"
   ]
  },
  {
   "cell_type": "code",
   "execution_count": 2,
   "metadata": {},
   "outputs": [],
   "source": [
    "matrix = [\n",
    "    [93, 100, 89, 168, 154],\n",
    "    [100, 98, 89, 190, 172],\n",
    "    [84, 84, 99, 170, 200],\n",
    "    [70, 73, 92, 132, 154],\n",
    "    [70, 72, 89, 132, 150],\n",
    "    [66, 68, 95, 114, 164],\n",
    "    [74, 70, 96, 186, 176],\n",
    "    [74, 75, 95, 140, 158],\n",
    "    [76, 77, 92, 156, 163],\n",
    "    [79, 88, 100, 172, 200]\n",
    "]\n",
    "df = pd.DataFrame(\n",
    "    matrix,\n",
    "    index=['A', 'B', 'C', 'D', 'E', 'F', 'G', 'H', 'I', 'J'],\n",
    "    columns=['国語', '社会', '理科', '英語', '数学']\n",
    ")"
   ]
  },
  {
   "cell_type": "code",
   "execution_count": 3,
   "metadata": {},
   "outputs": [
    {
     "data": {
      "text/html": [
       "<div>\n",
       "<table border=\"1\" class=\"dataframe\">\n",
       "  <thead>\n",
       "    <tr style=\"text-align: right;\">\n",
       "      <th></th>\n",
       "      <th>国語</th>\n",
       "      <th>社会</th>\n",
       "      <th>理科</th>\n",
       "      <th>英語</th>\n",
       "      <th>数学</th>\n",
       "    </tr>\n",
       "  </thead>\n",
       "  <tbody>\n",
       "    <tr>\n",
       "      <th>A</th>\n",
       "      <td>93</td>\n",
       "      <td>100</td>\n",
       "      <td>89</td>\n",
       "      <td>168</td>\n",
       "      <td>154</td>\n",
       "    </tr>\n",
       "    <tr>\n",
       "      <th>B</th>\n",
       "      <td>100</td>\n",
       "      <td>98</td>\n",
       "      <td>89</td>\n",
       "      <td>190</td>\n",
       "      <td>172</td>\n",
       "    </tr>\n",
       "    <tr>\n",
       "      <th>C</th>\n",
       "      <td>84</td>\n",
       "      <td>84</td>\n",
       "      <td>99</td>\n",
       "      <td>170</td>\n",
       "      <td>200</td>\n",
       "    </tr>\n",
       "    <tr>\n",
       "      <th>D</th>\n",
       "      <td>70</td>\n",
       "      <td>73</td>\n",
       "      <td>92</td>\n",
       "      <td>132</td>\n",
       "      <td>154</td>\n",
       "    </tr>\n",
       "    <tr>\n",
       "      <th>E</th>\n",
       "      <td>70</td>\n",
       "      <td>72</td>\n",
       "      <td>89</td>\n",
       "      <td>132</td>\n",
       "      <td>150</td>\n",
       "    </tr>\n",
       "    <tr>\n",
       "      <th>F</th>\n",
       "      <td>66</td>\n",
       "      <td>68</td>\n",
       "      <td>95</td>\n",
       "      <td>114</td>\n",
       "      <td>164</td>\n",
       "    </tr>\n",
       "    <tr>\n",
       "      <th>G</th>\n",
       "      <td>74</td>\n",
       "      <td>70</td>\n",
       "      <td>96</td>\n",
       "      <td>186</td>\n",
       "      <td>176</td>\n",
       "    </tr>\n",
       "    <tr>\n",
       "      <th>H</th>\n",
       "      <td>74</td>\n",
       "      <td>75</td>\n",
       "      <td>95</td>\n",
       "      <td>140</td>\n",
       "      <td>158</td>\n",
       "    </tr>\n",
       "    <tr>\n",
       "      <th>I</th>\n",
       "      <td>76</td>\n",
       "      <td>77</td>\n",
       "      <td>92</td>\n",
       "      <td>156</td>\n",
       "      <td>163</td>\n",
       "    </tr>\n",
       "    <tr>\n",
       "      <th>J</th>\n",
       "      <td>79</td>\n",
       "      <td>88</td>\n",
       "      <td>100</td>\n",
       "      <td>172</td>\n",
       "      <td>200</td>\n",
       "    </tr>\n",
       "  </tbody>\n",
       "</table>\n",
       "</div>"
      ],
      "text/plain": [
       "    国語   社会   理科   英語   数学\n",
       "A   93  100   89  168  154\n",
       "B  100   98   89  190  172\n",
       "C   84   84   99  170  200\n",
       "D   70   73   92  132  154\n",
       "E   70   72   89  132  150\n",
       "F   66   68   95  114  164\n",
       "G   74   70   96  186  176\n",
       "H   74   75   95  140  158\n",
       "I   76   77   92  156  163\n",
       "J   79   88  100  172  200"
      ]
     },
     "execution_count": 3,
     "metadata": {},
     "output_type": "execute_result"
    }
   ],
   "source": [
    "df"
   ]
  },
  {
   "cell_type": "markdown",
   "metadata": {},
   "source": [
    "## 3. 分散共分散行列から相関行列を求める\n",
    "\n",
    "### 分散共分散行列（共分散行列）\n",
    "対角成分が分散で、そのほかの要素が共分散の行列"
   ]
  },
  {
   "cell_type": "code",
   "execution_count": 4,
   "metadata": {},
   "outputs": [
    {
     "data": {
      "text/html": [
       "<div>\n",
       "<table border=\"1\" class=\"dataframe\">\n",
       "  <thead>\n",
       "    <tr style=\"text-align: right;\">\n",
       "      <th></th>\n",
       "      <th>国語</th>\n",
       "      <th>社会</th>\n",
       "      <th>理科</th>\n",
       "      <th>英語</th>\n",
       "      <th>数学</th>\n",
       "    </tr>\n",
       "  </thead>\n",
       "  <tbody>\n",
       "    <tr>\n",
       "      <th>国語</th>\n",
       "      <td>116.711111</td>\n",
       "      <td>117.222222</td>\n",
       "      <td>-12.288889</td>\n",
       "      <td>206.666667</td>\n",
       "      <td>46.377778</td>\n",
       "    </tr>\n",
       "    <tr>\n",
       "      <th>社会</th>\n",
       "      <td>117.222222</td>\n",
       "      <td>132.500000</td>\n",
       "      <td>-10.777778</td>\n",
       "      <td>186.666667</td>\n",
       "      <td>49.500000</td>\n",
       "    </tr>\n",
       "    <tr>\n",
       "      <th>理科</th>\n",
       "      <td>-12.288889</td>\n",
       "      <td>-10.777778</td>\n",
       "      <td>16.488889</td>\n",
       "      <td>11.777778</td>\n",
       "      <td>59.600000</td>\n",
       "    </tr>\n",
       "    <tr>\n",
       "      <th>英語</th>\n",
       "      <td>206.666667</td>\n",
       "      <td>186.666667</td>\n",
       "      <td>11.777778</td>\n",
       "      <td>647.111111</td>\n",
       "      <td>251.555556</td>\n",
       "    </tr>\n",
       "    <tr>\n",
       "      <th>数学</th>\n",
       "      <td>46.377778</td>\n",
       "      <td>49.500000</td>\n",
       "      <td>59.600000</td>\n",
       "      <td>251.555556</td>\n",
       "      <td>330.322222</td>\n",
       "    </tr>\n",
       "  </tbody>\n",
       "</table>\n",
       "</div>"
      ],
      "text/plain": [
       "            国語          社会         理科          英語          数学\n",
       "国語  116.711111  117.222222 -12.288889  206.666667   46.377778\n",
       "社会  117.222222  132.500000 -10.777778  186.666667   49.500000\n",
       "理科  -12.288889  -10.777778  16.488889   11.777778   59.600000\n",
       "英語  206.666667  186.666667  11.777778  647.111111  251.555556\n",
       "数学   46.377778   49.500000  59.600000  251.555556  330.322222"
      ]
     },
     "execution_count": 4,
     "metadata": {},
     "output_type": "execute_result"
    }
   ],
   "source": [
    "cov=df.cov()\n",
    "cov"
   ]
  },
  {
   "cell_type": "code",
   "execution_count": 5,
   "metadata": {},
   "outputs": [
    {
     "data": {
      "text/plain": [
       "array([116.71111111, 132.5       ,  16.48888889, 647.11111111,\n",
       "       330.32222222])"
      ]
     },
     "execution_count": 5,
     "metadata": {},
     "output_type": "execute_result"
    }
   ],
   "source": [
    "# 対角成分抽出\n",
    "np.diag(cov)"
   ]
  },
  {
   "cell_type": "code",
   "execution_count": 6,
   "metadata": {},
   "outputs": [
    {
     "data": {
      "text/plain": [
       "array([0.09256438, 0.08687445, 0.24626591, 0.03931068, 0.05502133])"
      ]
     },
     "execution_count": 6,
     "metadata": {},
     "output_type": "execute_result"
    }
   ],
   "source": [
    "# 各対角成分を -1/2乗\n",
    "np.power(np.diag(cov),-0.5)"
   ]
  },
  {
   "cell_type": "code",
   "execution_count": 7,
   "metadata": {},
   "outputs": [
    {
     "data": {
      "text/plain": [
       "array([[0.09256438, 0.        , 0.        , 0.        , 0.        ],\n",
       "       [0.        , 0.08687445, 0.        , 0.        , 0.        ],\n",
       "       [0.        , 0.        , 0.24626591, 0.        , 0.        ],\n",
       "       [0.        , 0.        , 0.        , 0.03931068, 0.        ],\n",
       "       [0.        , 0.        , 0.        , 0.        , 0.05502133]])"
      ]
     },
     "execution_count": 7,
     "metadata": {},
     "output_type": "execute_result"
    }
   ],
   "source": [
    "# 対角行列を作成\n",
    "D=np.diag(np.power(np.diag(cov),-0.5))\n",
    "D"
   ]
  },
  {
   "cell_type": "code",
   "execution_count": 8,
   "metadata": {},
   "outputs": [
    {
     "data": {
      "text/plain": [
       "array([[10.80329168, 10.85060236, -1.13751339, 19.12997194,  4.29293026],\n",
       "       [10.18361591, 11.51086443, -0.9363135 , 16.21656373,  4.3002852 ],\n",
       "       [-3.02633445, -2.65419929,  4.06065129,  2.90046521, 14.67744846],\n",
       "       [ 8.12420748,  7.33799386,  0.46299247, 25.4383787 ,  9.88882029],\n",
       "       [ 2.55176713,  2.72355596,  3.27927142, 13.84092188, 18.17476884]])"
      ]
     },
     "execution_count": 8,
     "metadata": {},
     "output_type": "execute_result"
    }
   ],
   "source": [
    "# 対角行列と分散共分散行列の行列積\n",
    "np.dot(D,cov)"
   ]
  },
  {
   "cell_type": "code",
   "execution_count": 9,
   "metadata": {},
   "outputs": [
    {
     "data": {
      "text/plain": [
       "array([[ 1.        ,  0.9426401 , -0.28013077,  0.75201223,  0.23620274],\n",
       "       [ 0.9426401 ,  1.        , -0.2305821 ,  0.63748417,  0.23660742],\n",
       "       [-0.28013077, -0.2305821 ,  1.        ,  0.11401926,  0.80757277],\n",
       "       [ 0.75201223,  0.63748417,  0.11401926,  1.        ,  0.54409607],\n",
       "       [ 0.23620274,  0.23660742,  0.80757277,  0.54409607,  1.        ]])"
      ]
     },
     "execution_count": 9,
     "metadata": {},
     "output_type": "execute_result"
    }
   ],
   "source": [
    "# さらに対角行列との行列積\n",
    "np.dot(np.dot(D,cov),D)"
   ]
  },
  {
   "cell_type": "markdown",
   "metadata": {
    "collapsed": true
   },
   "source": [
    "## 4. Pandasから相関行列を求める"
   ]
  },
  {
   "cell_type": "code",
   "execution_count": 10,
   "metadata": {},
   "outputs": [],
   "source": [
    "# 標準化\n",
    "from sklearn.preprocessing import StandardScaler\n",
    "sc = StandardScaler()\n"
   ]
  },
  {
   "cell_type": "code",
   "execution_count": 11,
   "metadata": {},
   "outputs": [],
   "source": [
    "df_std = pd.DataFrame(\n",
    "    sc.fit_transform(df),\n",
    "    index=['A', 'B', 'C', 'D', 'E', 'F', 'G', 'H', 'I', 'J'],\n",
    "    columns=['国語', '社会', '理科', '英語', '数学']\n",
    ")"
   ]
  },
  {
   "cell_type": "code",
   "execution_count": 12,
   "metadata": {},
   "outputs": [
    {
     "data": {
      "text/html": [
       "<div>\n",
       "<table border=\"1\" class=\"dataframe\">\n",
       "  <thead>\n",
       "    <tr style=\"text-align: right;\">\n",
       "      <th></th>\n",
       "      <th>国語</th>\n",
       "      <th>社会</th>\n",
       "      <th>理科</th>\n",
       "      <th>英語</th>\n",
       "      <th>数学</th>\n",
       "    </tr>\n",
       "  </thead>\n",
       "  <tbody>\n",
       "    <tr>\n",
       "      <th>A</th>\n",
       "      <td>1.405029</td>\n",
       "      <td>1.785687</td>\n",
       "      <td>-1.194101</td>\n",
       "      <td>0.497245</td>\n",
       "      <td>-0.875763</td>\n",
       "    </tr>\n",
       "    <tr>\n",
       "      <th>B</th>\n",
       "      <td>2.088028</td>\n",
       "      <td>1.602540</td>\n",
       "      <td>-1.194101</td>\n",
       "      <td>1.408861</td>\n",
       "      <td>0.168193</td>\n",
       "    </tr>\n",
       "    <tr>\n",
       "      <th>C</th>\n",
       "      <td>0.526886</td>\n",
       "      <td>0.320508</td>\n",
       "      <td>1.401770</td>\n",
       "      <td>0.580119</td>\n",
       "      <td>1.792125</td>\n",
       "    </tr>\n",
       "    <tr>\n",
       "      <th>D</th>\n",
       "      <td>-0.839114</td>\n",
       "      <td>-0.686803</td>\n",
       "      <td>-0.415339</td>\n",
       "      <td>-0.994490</td>\n",
       "      <td>-0.875763</td>\n",
       "    </tr>\n",
       "    <tr>\n",
       "      <th>E</th>\n",
       "      <td>-0.839114</td>\n",
       "      <td>-0.778377</td>\n",
       "      <td>-1.194101</td>\n",
       "      <td>-0.994490</td>\n",
       "      <td>-1.107754</td>\n",
       "    </tr>\n",
       "    <tr>\n",
       "      <th>F</th>\n",
       "      <td>-1.229400</td>\n",
       "      <td>-1.144671</td>\n",
       "      <td>0.363422</td>\n",
       "      <td>-1.740358</td>\n",
       "      <td>-0.295788</td>\n",
       "    </tr>\n",
       "    <tr>\n",
       "      <th>G</th>\n",
       "      <td>-0.448829</td>\n",
       "      <td>-0.961524</td>\n",
       "      <td>0.623009</td>\n",
       "      <td>1.243113</td>\n",
       "      <td>0.400183</td>\n",
       "    </tr>\n",
       "    <tr>\n",
       "      <th>H</th>\n",
       "      <td>-0.448829</td>\n",
       "      <td>-0.503655</td>\n",
       "      <td>0.363422</td>\n",
       "      <td>-0.662994</td>\n",
       "      <td>-0.643773</td>\n",
       "    </tr>\n",
       "    <tr>\n",
       "      <th>I</th>\n",
       "      <td>-0.253686</td>\n",
       "      <td>-0.320508</td>\n",
       "      <td>-0.415339</td>\n",
       "      <td>0.000000</td>\n",
       "      <td>-0.353785</td>\n",
       "    </tr>\n",
       "    <tr>\n",
       "      <th>J</th>\n",
       "      <td>0.039029</td>\n",
       "      <td>0.686803</td>\n",
       "      <td>1.661357</td>\n",
       "      <td>0.662994</td>\n",
       "      <td>1.792125</td>\n",
       "    </tr>\n",
       "  </tbody>\n",
       "</table>\n",
       "</div>"
      ],
      "text/plain": [
       "         国語        社会        理科        英語        数学\n",
       "A  1.405029  1.785687 -1.194101  0.497245 -0.875763\n",
       "B  2.088028  1.602540 -1.194101  1.408861  0.168193\n",
       "C  0.526886  0.320508  1.401770  0.580119  1.792125\n",
       "D -0.839114 -0.686803 -0.415339 -0.994490 -0.875763\n",
       "E -0.839114 -0.778377 -1.194101 -0.994490 -1.107754\n",
       "F -1.229400 -1.144671  0.363422 -1.740358 -0.295788\n",
       "G -0.448829 -0.961524  0.623009  1.243113  0.400183\n",
       "H -0.448829 -0.503655  0.363422 -0.662994 -0.643773\n",
       "I -0.253686 -0.320508 -0.415339  0.000000 -0.353785\n",
       "J  0.039029  0.686803  1.661357  0.662994  1.792125"
      ]
     },
     "execution_count": 12,
     "metadata": {},
     "output_type": "execute_result"
    }
   ],
   "source": [
    "df_std"
   ]
  },
  {
   "cell_type": "code",
   "execution_count": 13,
   "metadata": {},
   "outputs": [
    {
     "data": {
      "text/html": [
       "<div>\n",
       "<table border=\"1\" class=\"dataframe\">\n",
       "  <thead>\n",
       "    <tr style=\"text-align: right;\">\n",
       "      <th></th>\n",
       "      <th>国語</th>\n",
       "      <th>社会</th>\n",
       "      <th>理科</th>\n",
       "      <th>英語</th>\n",
       "      <th>数学</th>\n",
       "    </tr>\n",
       "  </thead>\n",
       "  <tbody>\n",
       "    <tr>\n",
       "      <th>国語</th>\n",
       "      <td>1.000000</td>\n",
       "      <td>0.942640</td>\n",
       "      <td>-0.280131</td>\n",
       "      <td>0.752012</td>\n",
       "      <td>0.236203</td>\n",
       "    </tr>\n",
       "    <tr>\n",
       "      <th>社会</th>\n",
       "      <td>0.942640</td>\n",
       "      <td>1.000000</td>\n",
       "      <td>-0.230582</td>\n",
       "      <td>0.637484</td>\n",
       "      <td>0.236607</td>\n",
       "    </tr>\n",
       "    <tr>\n",
       "      <th>理科</th>\n",
       "      <td>-0.280131</td>\n",
       "      <td>-0.230582</td>\n",
       "      <td>1.000000</td>\n",
       "      <td>0.114019</td>\n",
       "      <td>0.807573</td>\n",
       "    </tr>\n",
       "    <tr>\n",
       "      <th>英語</th>\n",
       "      <td>0.752012</td>\n",
       "      <td>0.637484</td>\n",
       "      <td>0.114019</td>\n",
       "      <td>1.000000</td>\n",
       "      <td>0.544096</td>\n",
       "    </tr>\n",
       "    <tr>\n",
       "      <th>数学</th>\n",
       "      <td>0.236203</td>\n",
       "      <td>0.236607</td>\n",
       "      <td>0.807573</td>\n",
       "      <td>0.544096</td>\n",
       "      <td>1.000000</td>\n",
       "    </tr>\n",
       "  </tbody>\n",
       "</table>\n",
       "</div>"
      ],
      "text/plain": [
       "          国語        社会        理科        英語        数学\n",
       "国語  1.000000  0.942640 -0.280131  0.752012  0.236203\n",
       "社会  0.942640  1.000000 -0.230582  0.637484  0.236607\n",
       "理科 -0.280131 -0.230582  1.000000  0.114019  0.807573\n",
       "英語  0.752012  0.637484  0.114019  1.000000  0.544096\n",
       "数学  0.236203  0.236607  0.807573  0.544096  1.000000"
      ]
     },
     "execution_count": 13,
     "metadata": {},
     "output_type": "execute_result"
    }
   ],
   "source": [
    "# Pandasのcorr()メソッドは、列間の相関を計算\n",
    "# ちなみにNumPyのcorrcoefはデフォルトでは行間の相関係数を計算\n",
    "\n",
    "correlation_matrix=df_std.corr()\n",
    "correlation_matrix"
   ]
  },
  {
   "cell_type": "markdown",
   "metadata": {},
   "source": [
    "分散共分散行列からの相関行列と一致"
   ]
  },
  {
   "cell_type": "markdown",
   "metadata": {},
   "source": [
    "## 5. 固有値、固有ベクトル"
   ]
  },
  {
   "cell_type": "code",
   "execution_count": 14,
   "metadata": {},
   "outputs": [],
   "source": [
    "w,v=np.linalg.eig(correlation_matrix)"
   ]
  },
  {
   "cell_type": "markdown",
   "metadata": {},
   "source": [
    "### 固有値\n",
    "固有値は説明変数の数と一致  \n",
    "値が大きい順に第１主成分、第２主成分、・・・、第５主成分"
   ]
  },
  {
   "cell_type": "code",
   "execution_count": 15,
   "metadata": {},
   "outputs": [
    {
     "data": {
      "text/plain": [
       "array([2.75351334, 1.85890988, 0.29707803, 0.02963954, 0.0608592 ])"
      ]
     },
     "execution_count": 15,
     "metadata": {},
     "output_type": "execute_result"
    }
   ],
   "source": [
    "w"
   ]
  },
  {
   "cell_type": "markdown",
   "metadata": {},
   "source": [
    "### 固有ベクトル\n",
    "固有ベクトルは、説明変数の数と一致  \n",
    "固有ベクトル内の要素数も説明変数の数と一致"
   ]
  },
  {
   "cell_type": "code",
   "execution_count": 16,
   "metadata": {},
   "outputs": [
    {
     "data": {
      "text/plain": [
       "array([[ 0.55992543,  0.24599271,  0.13545814, -0.76330003,  0.15809885],\n",
       "       [ 0.53756194,  0.23171743,  0.55348613,  0.50210283, -0.31445196],\n",
       "       [ 0.02537413, -0.71904976,  0.21112241, -0.29800409, -0.59071523],\n",
       "       [ 0.53860062, -0.08865464, -0.78316789,  0.17809881, -0.23870189],\n",
       "       [ 0.32676627, -0.60075154,  0.13183163,  0.21151875,  0.6857125 ]])"
      ]
     },
     "execution_count": 16,
     "metadata": {},
     "output_type": "execute_result"
    }
   ],
   "source": [
    "v"
   ]
  },
  {
   "cell_type": "markdown",
   "metadata": {},
   "source": [
    "## 6. 寄与率、累積寄与率"
   ]
  },
  {
   "cell_type": "code",
   "execution_count": 17,
   "metadata": {},
   "outputs": [
    {
     "data": {
      "text/plain": [
       "4.999999999999996"
      ]
     },
     "execution_count": 17,
     "metadata": {},
     "output_type": "execute_result"
    }
   ],
   "source": [
    "# 固有値の合計は、説明変数の数と一致？\n",
    "w.sum()"
   ]
  },
  {
   "cell_type": "code",
   "execution_count": 18,
   "metadata": {},
   "outputs": [
    {
     "data": {
      "text/plain": [
       "[2.753513342409681,\n",
       " 1.858909881571479,\n",
       " 0.2970780266174042,\n",
       " 0.06085920491248133,\n",
       " 0.029639544488949652]"
      ]
     },
     "execution_count": 18,
     "metadata": {},
     "output_type": "execute_result"
    }
   ],
   "source": [
    "# sorted()：元のリストはそのままで、並び替えられたリストを返す\n",
    "w_sort=sorted(w, reverse=True)\n",
    "w_sort"
   ]
  },
  {
   "cell_type": "code",
   "execution_count": 19,
   "metadata": {},
   "outputs": [
    {
     "name": "stdout",
     "output_type": "stream",
     "text": [
      "第1主成分寄与率： 55.07026684819362\n",
      "第2主成分寄与率： 37.17819763142958\n",
      "第3主成分寄与率： 5.941560532348084\n",
      "第4主成分寄与率： 1.2171840982496265\n",
      "第5主成分寄与率： 0.592790889778993\n"
     ]
    }
   ],
   "source": [
    "# 各主成分の寄与率：（固有値 / 固有値の数）*100→つまり１説明変数あたりの固有値の値は1\n",
    "for i in range(5):\n",
    "    print(\"第\"+str(i+1)+\"主成分寄与率：\",w_sort[i]/len(w)*100)"
   ]
  },
  {
   "cell_type": "markdown",
   "metadata": {},
   "source": [
    "第2主成分までで、累積寄与率が90％を超えている。"
   ]
  },
  {
   "cell_type": "markdown",
   "metadata": {},
   "source": [
    "## 7. 主成分をプロット（現在進行中）\n",
    "分析結果を検討する。"
   ]
  },
  {
   "cell_type": "code",
   "execution_count": 20,
   "metadata": {},
   "outputs": [
    {
     "data": {
      "text/plain": [
       "array([ 0.54622219,  0.35281   ,  0.40426831, -0.07441368, -0.2391071 ,\n",
       "        0.36092702, -1.28904637,  0.07830558, -0.33308183,  0.19311587])"
      ]
     },
     "execution_count": 20,
     "metadata": {},
     "output_type": "execute_result"
    }
   ],
   "source": [
    "# 第1主成分得点\n",
    "z1=np.dot(df_std,v[0])\n",
    "z1"
   ]
  },
  {
   "cell_type": "code",
   "execution_count": 21,
   "metadata": {},
   "outputs": [
    {
     "data": {
      "text/plain": [
       "array([ 1.0332004 ,  1.48736764,  0.86110362, -1.06405549, -1.44335843,\n",
       "       -1.50579766,  0.37908389, -0.28728513, -0.32927515,  0.86901631])"
      ]
     },
     "execution_count": 21,
     "metadata": {},
     "output_type": "execute_result"
    }
   ],
   "source": [
    "# 第2主成分得点\n",
    "z2=np.dot(df_std,v[1])\n",
    "z2"
   ]
  },
  {
   "cell_type": "code",
   "execution_count": 22,
   "metadata": {},
   "outputs": [
    {
     "data": {
      "image/png": "[encoded data removed]",
      "text/plain": [
       "<Figure size 432x288 with 1 Axes>"
      ]
     },
     "metadata": {},
     "output_type": "display_data"
    }
   ],
   "source": [
    "plt.scatter(z1,z2)\n",
    "plt.xlabel(\"z2\")\n",
    "plt.ylabel(\"z1\")\n",
    "#plt.hlines([0],-2,2)  # y=0を描画\n",
    "#plt.vlines([0],-2,2)  # x=0を描画\n",
    "plt.grid(color='gray', alpha=0.2)\n",
    "plt.show()"
   ]
  },
  {
   "cell_type": "markdown",
   "metadata": {
    "collapsed": true
   },
   "source": [
    "## 8. 今後の課題\n",
    "\n",
    "- 主成分分析が、なぜ固有値、固有ベクトル問題になるのか。（まずは、ラグランジュの未定乗数法をキャッチアップ）\n",
    "- なぜ固有値の合計は、説明変数の数と一致するのか。"
   ]
  },
  {
   "cell_type": "code",
   "execution_count": null,
   "metadata": {},
   "outputs": [],
   "source": []
  }
 ],
 "metadata": {
  "kernelspec": {
   "display_name": "Python 3",
   "language": "python",
   "name": "python3"
  },
  "language_info": {
   "codemirror_mode": {
    "name": "ipython",
    "version": 3
   },
   "file_extension": ".py",
   "mimetype": "text/x-python",
   "name": "python",
   "nbconvert_exporter": "python",
   "pygments_lexer": "ipython3",
   "version": "3.6.6"
  }
 },
 "nbformat": 4,
 "nbformat_minor": 2
}
