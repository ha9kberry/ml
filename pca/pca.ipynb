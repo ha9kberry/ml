{
 "cells": [
  {
   "cell_type": "markdown",
   "metadata": {},
   "source": [
    "# PCA\n",
    "http://zellij.hatenablog.com/entry/20130510/p1  \n",
    "http://heycere.com/statistics/covariance/\n",
    "  \n",
    "ラグランジュの未定乗数法？"
   ]
  },
  {
   "cell_type": "code",
   "execution_count": 1,
   "metadata": {
    "collapsed": true
   },
   "outputs": [],
   "source": [
    "import numpy as np\n",
    "import pandas as pd"
   ]
  },
  {
   "cell_type": "code",
   "execution_count": 3,
   "metadata": {
    "collapsed": true
   },
   "outputs": [],
   "source": [
    "matrix = [\n",
    "    [93, 100, 89, 168, 154],\n",
    "    [100, 98, 89, 190, 172],\n",
    "    [84, 84, 99, 170, 200],\n",
    "    [70, 73, 92, 132, 154],\n",
    "    [70, 72, 89, 132, 150],\n",
    "    [66, 68, 95, 114, 164],\n",
    "    [74, 70, 96, 186, 176],\n",
    "    [74, 75, 95, 140, 158],\n",
    "    [76, 77, 92, 156, 163],\n",
    "    [79, 88, 100, 172, 200]\n",
    "]\n",
    "df = pd.DataFrame(\n",
    "    matrix,\n",
    "    index=['A', 'B', 'C', 'D', 'E', 'F', 'G', 'H', 'I', 'J'],\n",
    "    columns=['国語', '社会', '理科', '英語', '数学']\n",
    ")"
   ]
  },
  {
   "cell_type": "code",
   "execution_count": 4,
   "metadata": {},
   "outputs": [
    {
     "name": "stdout",
     "output_type": "stream",
     "text": [
      "国語 / 社会 / 理科 : 100点満点\n",
      "英語 / 数学 : 200点満点\n"
     ]
    },
    {
     "data": {
      "text/html": [
       "<div>\n",
       "<style scoped>\n",
       "    .dataframe tbody tr th:only-of-type {\n",
       "        vertical-align: middle;\n",
       "    }\n",
       "\n",
       "    .dataframe tbody tr th {\n",
       "        vertical-align: top;\n",
       "    }\n",
       "\n",
       "    .dataframe thead th {\n",
       "        text-align: right;\n",
       "    }\n",
       "</style>\n",
       "<table border=\"1\" class=\"dataframe\">\n",
       "  <thead>\n",
       "    <tr style=\"text-align: right;\">\n",
       "      <th></th>\n",
       "      <th>国語</th>\n",
       "      <th>社会</th>\n",
       "      <th>理科</th>\n",
       "      <th>英語</th>\n",
       "      <th>数学</th>\n",
       "    </tr>\n",
       "  </thead>\n",
       "  <tbody>\n",
       "    <tr>\n",
       "      <th>A</th>\n",
       "      <td>93</td>\n",
       "      <td>100</td>\n",
       "      <td>89</td>\n",
       "      <td>168</td>\n",
       "      <td>154</td>\n",
       "    </tr>\n",
       "    <tr>\n",
       "      <th>B</th>\n",
       "      <td>100</td>\n",
       "      <td>98</td>\n",
       "      <td>89</td>\n",
       "      <td>190</td>\n",
       "      <td>172</td>\n",
       "    </tr>\n",
       "    <tr>\n",
       "      <th>C</th>\n",
       "      <td>84</td>\n",
       "      <td>84</td>\n",
       "      <td>99</td>\n",
       "      <td>170</td>\n",
       "      <td>200</td>\n",
       "    </tr>\n",
       "    <tr>\n",
       "      <th>D</th>\n",
       "      <td>70</td>\n",
       "      <td>73</td>\n",
       "      <td>92</td>\n",
       "      <td>132</td>\n",
       "      <td>154</td>\n",
       "    </tr>\n",
       "    <tr>\n",
       "      <th>E</th>\n",
       "      <td>70</td>\n",
       "      <td>72</td>\n",
       "      <td>89</td>\n",
       "      <td>132</td>\n",
       "      <td>150</td>\n",
       "    </tr>\n",
       "    <tr>\n",
       "      <th>F</th>\n",
       "      <td>66</td>\n",
       "      <td>68</td>\n",
       "      <td>95</td>\n",
       "      <td>114</td>\n",
       "      <td>164</td>\n",
       "    </tr>\n",
       "    <tr>\n",
       "      <th>G</th>\n",
       "      <td>74</td>\n",
       "      <td>70</td>\n",
       "      <td>96</td>\n",
       "      <td>186</td>\n",
       "      <td>176</td>\n",
       "    </tr>\n",
       "    <tr>\n",
       "      <th>H</th>\n",
       "      <td>74</td>\n",
       "      <td>75</td>\n",
       "      <td>95</td>\n",
       "      <td>140</td>\n",
       "      <td>158</td>\n",
       "    </tr>\n",
       "    <tr>\n",
       "      <th>I</th>\n",
       "      <td>76</td>\n",
       "      <td>77</td>\n",
       "      <td>92</td>\n",
       "      <td>156</td>\n",
       "      <td>163</td>\n",
       "    </tr>\n",
       "    <tr>\n",
       "      <th>J</th>\n",
       "      <td>79</td>\n",
       "      <td>88</td>\n",
       "      <td>100</td>\n",
       "      <td>172</td>\n",
       "      <td>200</td>\n",
       "    </tr>\n",
       "  </tbody>\n",
       "</table>\n",
       "</div>"
      ],
      "text/plain": [
       "    国語   社会   理科   英語   数学\n",
       "A   93  100   89  168  154\n",
       "B  100   98   89  190  172\n",
       "C   84   84   99  170  200\n",
       "D   70   73   92  132  154\n",
       "E   70   72   89  132  150\n",
       "F   66   68   95  114  164\n",
       "G   74   70   96  186  176\n",
       "H   74   75   95  140  158\n",
       "I   76   77   92  156  163\n",
       "J   79   88  100  172  200"
      ]
     },
     "execution_count": 4,
     "metadata": {},
     "output_type": "execute_result"
    }
   ],
   "source": [
    "print(\"国語 / 社会 / 理科 : 100点満点\")\n",
    "print(\"英語 / 数学 : 200点満点\")\n",
    "df"
   ]
  },
  {
   "cell_type": "markdown",
   "metadata": {},
   "source": [
    "## 分散共分散行列（共分散行列）\n",
    "\n",
    "https://omedstu.jimdo.com/2018/03/28/%E5%88%86%E6%95%A3%E5%85%B1%E5%88%86%E6%95%A3%E8%A1%8C%E5%88%97%E3%82%92%E7%9B%B8%E9%96%A2%E8%A1%8C%E5%88%97-%E5%81%8F%E7%9B%B8%E9%96%A2%E4%BF%82%E6%95%B0%E3%81%AB%E5%A4%89%E6%8F%9B-python/"
   ]
  },
  {
   "cell_type": "code",
   "execution_count": 56,
   "metadata": {
    "collapsed": true
   },
   "outputs": [],
   "source": [
    "cov=df.cov()"
   ]
  },
  {
   "cell_type": "code",
   "execution_count": 57,
   "metadata": {},
   "outputs": [
    {
     "data": {
      "text/html": [
       "<div>\n",
       "<style scoped>\n",
       "    .dataframe tbody tr th:only-of-type {\n",
       "        vertical-align: middle;\n",
       "    }\n",
       "\n",
       "    .dataframe tbody tr th {\n",
       "        vertical-align: top;\n",
       "    }\n",
       "\n",
       "    .dataframe thead th {\n",
       "        text-align: right;\n",
       "    }\n",
       "</style>\n",
       "<table border=\"1\" class=\"dataframe\">\n",
       "  <thead>\n",
       "    <tr style=\"text-align: right;\">\n",
       "      <th></th>\n",
       "      <th>国語</th>\n",
       "      <th>社会</th>\n",
       "      <th>理科</th>\n",
       "      <th>英語</th>\n",
       "      <th>数学</th>\n",
       "    </tr>\n",
       "  </thead>\n",
       "  <tbody>\n",
       "    <tr>\n",
       "      <th>国語</th>\n",
       "      <td>116.711111</td>\n",
       "      <td>117.222222</td>\n",
       "      <td>-12.288889</td>\n",
       "      <td>206.666667</td>\n",
       "      <td>46.377778</td>\n",
       "    </tr>\n",
       "    <tr>\n",
       "      <th>社会</th>\n",
       "      <td>117.222222</td>\n",
       "      <td>132.500000</td>\n",
       "      <td>-10.777778</td>\n",
       "      <td>186.666667</td>\n",
       "      <td>49.500000</td>\n",
       "    </tr>\n",
       "    <tr>\n",
       "      <th>理科</th>\n",
       "      <td>-12.288889</td>\n",
       "      <td>-10.777778</td>\n",
       "      <td>16.488889</td>\n",
       "      <td>11.777778</td>\n",
       "      <td>59.600000</td>\n",
       "    </tr>\n",
       "    <tr>\n",
       "      <th>英語</th>\n",
       "      <td>206.666667</td>\n",
       "      <td>186.666667</td>\n",
       "      <td>11.777778</td>\n",
       "      <td>647.111111</td>\n",
       "      <td>251.555556</td>\n",
       "    </tr>\n",
       "    <tr>\n",
       "      <th>数学</th>\n",
       "      <td>46.377778</td>\n",
       "      <td>49.500000</td>\n",
       "      <td>59.600000</td>\n",
       "      <td>251.555556</td>\n",
       "      <td>330.322222</td>\n",
       "    </tr>\n",
       "  </tbody>\n",
       "</table>\n",
       "</div>"
      ],
      "text/plain": [
       "            国語          社会         理科          英語          数学\n",
       "国語  116.711111  117.222222 -12.288889  206.666667   46.377778\n",
       "社会  117.222222  132.500000 -10.777778  186.666667   49.500000\n",
       "理科  -12.288889  -10.777778  16.488889   11.777778   59.600000\n",
       "英語  206.666667  186.666667  11.777778  647.111111  251.555556\n",
       "数学   46.377778   49.500000  59.600000  251.555556  330.322222"
      ]
     },
     "execution_count": 57,
     "metadata": {},
     "output_type": "execute_result"
    }
   ],
   "source": [
    "cov"
   ]
  },
  {
   "cell_type": "code",
   "execution_count": 71,
   "metadata": {},
   "outputs": [
    {
     "data": {
      "text/plain": [
       "array([116.71111111, 132.5       ,  16.48888889, 647.11111111,\n",
       "       330.32222222])"
      ]
     },
     "execution_count": 71,
     "metadata": {},
     "output_type": "execute_result"
    }
   ],
   "source": [
    "# 対角成分抽出\n",
    "np.diag(cov)"
   ]
  },
  {
   "cell_type": "code",
   "execution_count": 72,
   "metadata": {},
   "outputs": [
    {
     "data": {
      "text/plain": [
       "array([0.09256438, 0.08687445, 0.24626591, 0.03931068, 0.05502133])"
      ]
     },
     "execution_count": 72,
     "metadata": {},
     "output_type": "execute_result"
    }
   ],
   "source": [
    "# 各対角成分を -1/2乗\n",
    "np.power(np.diag(cov),-0.5)"
   ]
  },
  {
   "cell_type": "code",
   "execution_count": 76,
   "metadata": {},
   "outputs": [
    {
     "data": {
      "text/plain": [
       "array([[0.09256438, 0.        , 0.        , 0.        , 0.        ],\n",
       "       [0.        , 0.08687445, 0.        , 0.        , 0.        ],\n",
       "       [0.        , 0.        , 0.24626591, 0.        , 0.        ],\n",
       "       [0.        , 0.        , 0.        , 0.03931068, 0.        ],\n",
       "       [0.        , 0.        , 0.        , 0.        , 0.05502133]])"
      ]
     },
     "execution_count": 76,
     "metadata": {},
     "output_type": "execute_result"
    }
   ],
   "source": [
    "# 対角行列を作成\n",
    "D=np.diag(np.power(np.diag(cov),-0.5))\n",
    "D"
   ]
  },
  {
   "cell_type": "code",
   "execution_count": null,
   "metadata": {
    "collapsed": true
   },
   "outputs": [],
   "source": []
  },
  {
   "cell_type": "code",
   "execution_count": 75,
   "metadata": {},
   "outputs": [
    {
     "data": {
      "text/plain": [
       "array([[10.80329168, 10.85060236, -1.13751339, 19.12997194,  4.29293026],\n",
       "       [10.18361591, 11.51086443, -0.9363135 , 16.21656373,  4.3002852 ],\n",
       "       [-3.02633445, -2.65419929,  4.06065129,  2.90046521, 14.67744846],\n",
       "       [ 8.12420748,  7.33799386,  0.46299247, 25.4383787 ,  9.88882029],\n",
       "       [ 2.55176713,  2.72355596,  3.27927142, 13.84092188, 18.17476884]])"
      ]
     },
     "execution_count": 75,
     "metadata": {},
     "output_type": "execute_result"
    }
   ],
   "source": [
    "np.dot(D,cov)"
   ]
  },
  {
   "cell_type": "code",
   "execution_count": 77,
   "metadata": {},
   "outputs": [
    {
     "data": {
      "text/plain": [
       "array([[ 1.        ,  0.9426401 , -0.28013077,  0.75201223,  0.23620274],\n",
       "       [ 0.9426401 ,  1.        , -0.2305821 ,  0.63748417,  0.23660742],\n",
       "       [-0.28013077, -0.2305821 ,  1.        ,  0.11401926,  0.80757277],\n",
       "       [ 0.75201223,  0.63748417,  0.11401926,  1.        ,  0.54409607],\n",
       "       [ 0.23620274,  0.23660742,  0.80757277,  0.54409607,  1.        ]])"
      ]
     },
     "execution_count": 77,
     "metadata": {},
     "output_type": "execute_result"
    }
   ],
   "source": [
    "np.dot(np.dot(D,cov),D)"
   ]
  },
  {
   "cell_type": "code",
   "execution_count": null,
   "metadata": {
    "collapsed": true
   },
   "outputs": [],
   "source": []
  },
  {
   "cell_type": "markdown",
   "metadata": {},
   "source": [
    "## 標準化"
   ]
  },
  {
   "cell_type": "code",
   "execution_count": 52,
   "metadata": {
    "collapsed": true
   },
   "outputs": [],
   "source": [
    "from sklearn.preprocessing import StandardScaler\n",
    "sc = StandardScaler()\n"
   ]
  },
  {
   "cell_type": "code",
   "execution_count": 53,
   "metadata": {
    "collapsed": true
   },
   "outputs": [],
   "source": [
    "df_std = pd.DataFrame(\n",
    "    sc.fit_transform(df),\n",
    "    index=['A', 'B', 'C', 'D', 'E', 'F', 'G', 'H', 'I', 'J'],\n",
    "    columns=['国語', '社会', '理科', '英語', '数学']\n",
    ")"
   ]
  },
  {
   "cell_type": "code",
   "execution_count": 54,
   "metadata": {},
   "outputs": [
    {
     "data": {
      "text/html": [
       "<div>\n",
       "<style scoped>\n",
       "    .dataframe tbody tr th:only-of-type {\n",
       "        vertical-align: middle;\n",
       "    }\n",
       "\n",
       "    .dataframe tbody tr th {\n",
       "        vertical-align: top;\n",
       "    }\n",
       "\n",
       "    .dataframe thead th {\n",
       "        text-align: right;\n",
       "    }\n",
       "</style>\n",
       "<table border=\"1\" class=\"dataframe\">\n",
       "  <thead>\n",
       "    <tr style=\"text-align: right;\">\n",
       "      <th></th>\n",
       "      <th>国語</th>\n",
       "      <th>社会</th>\n",
       "      <th>理科</th>\n",
       "      <th>英語</th>\n",
       "      <th>数学</th>\n",
       "    </tr>\n",
       "  </thead>\n",
       "  <tbody>\n",
       "    <tr>\n",
       "      <th>A</th>\n",
       "      <td>1.405029</td>\n",
       "      <td>1.785687</td>\n",
       "      <td>-1.194101</td>\n",
       "      <td>0.497245</td>\n",
       "      <td>-0.875763</td>\n",
       "    </tr>\n",
       "    <tr>\n",
       "      <th>B</th>\n",
       "      <td>2.088028</td>\n",
       "      <td>1.602540</td>\n",
       "      <td>-1.194101</td>\n",
       "      <td>1.408861</td>\n",
       "      <td>0.168193</td>\n",
       "    </tr>\n",
       "    <tr>\n",
       "      <th>C</th>\n",
       "      <td>0.526886</td>\n",
       "      <td>0.320508</td>\n",
       "      <td>1.401770</td>\n",
       "      <td>0.580119</td>\n",
       "      <td>1.792125</td>\n",
       "    </tr>\n",
       "    <tr>\n",
       "      <th>D</th>\n",
       "      <td>-0.839114</td>\n",
       "      <td>-0.686803</td>\n",
       "      <td>-0.415339</td>\n",
       "      <td>-0.994490</td>\n",
       "      <td>-0.875763</td>\n",
       "    </tr>\n",
       "    <tr>\n",
       "      <th>E</th>\n",
       "      <td>-0.839114</td>\n",
       "      <td>-0.778377</td>\n",
       "      <td>-1.194101</td>\n",
       "      <td>-0.994490</td>\n",
       "      <td>-1.107754</td>\n",
       "    </tr>\n",
       "    <tr>\n",
       "      <th>F</th>\n",
       "      <td>-1.229400</td>\n",
       "      <td>-1.144671</td>\n",
       "      <td>0.363422</td>\n",
       "      <td>-1.740358</td>\n",
       "      <td>-0.295788</td>\n",
       "    </tr>\n",
       "    <tr>\n",
       "      <th>G</th>\n",
       "      <td>-0.448829</td>\n",
       "      <td>-0.961524</td>\n",
       "      <td>0.623009</td>\n",
       "      <td>1.243113</td>\n",
       "      <td>0.400183</td>\n",
       "    </tr>\n",
       "    <tr>\n",
       "      <th>H</th>\n",
       "      <td>-0.448829</td>\n",
       "      <td>-0.503655</td>\n",
       "      <td>0.363422</td>\n",
       "      <td>-0.662994</td>\n",
       "      <td>-0.643773</td>\n",
       "    </tr>\n",
       "    <tr>\n",
       "      <th>I</th>\n",
       "      <td>-0.253686</td>\n",
       "      <td>-0.320508</td>\n",
       "      <td>-0.415339</td>\n",
       "      <td>0.000000</td>\n",
       "      <td>-0.353785</td>\n",
       "    </tr>\n",
       "    <tr>\n",
       "      <th>J</th>\n",
       "      <td>0.039029</td>\n",
       "      <td>0.686803</td>\n",
       "      <td>1.661357</td>\n",
       "      <td>0.662994</td>\n",
       "      <td>1.792125</td>\n",
       "    </tr>\n",
       "  </tbody>\n",
       "</table>\n",
       "</div>"
      ],
      "text/plain": [
       "         国語        社会        理科        英語        数学\n",
       "A  1.405029  1.785687 -1.194101  0.497245 -0.875763\n",
       "B  2.088028  1.602540 -1.194101  1.408861  0.168193\n",
       "C  0.526886  0.320508  1.401770  0.580119  1.792125\n",
       "D -0.839114 -0.686803 -0.415339 -0.994490 -0.875763\n",
       "E -0.839114 -0.778377 -1.194101 -0.994490 -1.107754\n",
       "F -1.229400 -1.144671  0.363422 -1.740358 -0.295788\n",
       "G -0.448829 -0.961524  0.623009  1.243113  0.400183\n",
       "H -0.448829 -0.503655  0.363422 -0.662994 -0.643773\n",
       "I -0.253686 -0.320508 -0.415339  0.000000 -0.353785\n",
       "J  0.039029  0.686803  1.661357  0.662994  1.792125"
      ]
     },
     "execution_count": 54,
     "metadata": {},
     "output_type": "execute_result"
    }
   ],
   "source": [
    "df_std"
   ]
  },
  {
   "cell_type": "code",
   "execution_count": null,
   "metadata": {
    "collapsed": true
   },
   "outputs": [],
   "source": []
  },
  {
   "cell_type": "code",
   "execution_count": null,
   "metadata": {
    "collapsed": true
   },
   "outputs": [],
   "source": []
  },
  {
   "cell_type": "markdown",
   "metadata": {},
   "source": [
    "## 相関行列"
   ]
  },
  {
   "cell_type": "code",
   "execution_count": 48,
   "metadata": {},
   "outputs": [
    {
     "data": {
      "text/html": [
       "<div>\n",
       "<style scoped>\n",
       "    .dataframe tbody tr th:only-of-type {\n",
       "        vertical-align: middle;\n",
       "    }\n",
       "\n",
       "    .dataframe tbody tr th {\n",
       "        vertical-align: top;\n",
       "    }\n",
       "\n",
       "    .dataframe thead th {\n",
       "        text-align: right;\n",
       "    }\n",
       "</style>\n",
       "<table border=\"1\" class=\"dataframe\">\n",
       "  <thead>\n",
       "    <tr style=\"text-align: right;\">\n",
       "      <th></th>\n",
       "      <th>国語</th>\n",
       "      <th>社会</th>\n",
       "      <th>理科</th>\n",
       "      <th>英語</th>\n",
       "      <th>数学</th>\n",
       "    </tr>\n",
       "  </thead>\n",
       "  <tbody>\n",
       "    <tr>\n",
       "      <th>国語</th>\n",
       "      <td>1.000000</td>\n",
       "      <td>0.942640</td>\n",
       "      <td>-0.280131</td>\n",
       "      <td>0.752012</td>\n",
       "      <td>0.236203</td>\n",
       "    </tr>\n",
       "    <tr>\n",
       "      <th>社会</th>\n",
       "      <td>0.942640</td>\n",
       "      <td>1.000000</td>\n",
       "      <td>-0.230582</td>\n",
       "      <td>0.637484</td>\n",
       "      <td>0.236607</td>\n",
       "    </tr>\n",
       "    <tr>\n",
       "      <th>理科</th>\n",
       "      <td>-0.280131</td>\n",
       "      <td>-0.230582</td>\n",
       "      <td>1.000000</td>\n",
       "      <td>0.114019</td>\n",
       "      <td>0.807573</td>\n",
       "    </tr>\n",
       "    <tr>\n",
       "      <th>英語</th>\n",
       "      <td>0.752012</td>\n",
       "      <td>0.637484</td>\n",
       "      <td>0.114019</td>\n",
       "      <td>1.000000</td>\n",
       "      <td>0.544096</td>\n",
       "    </tr>\n",
       "    <tr>\n",
       "      <th>数学</th>\n",
       "      <td>0.236203</td>\n",
       "      <td>0.236607</td>\n",
       "      <td>0.807573</td>\n",
       "      <td>0.544096</td>\n",
       "      <td>1.000000</td>\n",
       "    </tr>\n",
       "  </tbody>\n",
       "</table>\n",
       "</div>"
      ],
      "text/plain": [
       "          国語        社会        理科        英語        数学\n",
       "国語  1.000000  0.942640 -0.280131  0.752012  0.236203\n",
       "社会  0.942640  1.000000 -0.230582  0.637484  0.236607\n",
       "理科 -0.280131 -0.230582  1.000000  0.114019  0.807573\n",
       "英語  0.752012  0.637484  0.114019  1.000000  0.544096\n",
       "数学  0.236203  0.236607  0.807573  0.544096  1.000000"
      ]
     },
     "execution_count": 48,
     "metadata": {},
     "output_type": "execute_result"
    }
   ],
   "source": [
    "# NumPyのcorrcoefはデフォルトでは行間の相関係数を計算\n",
    "# pandasのデータフレームのcorr()メソッドは、列間の相関を計算\n",
    "\n",
    "correlation_matrix=df_std.corr()\n",
    "correlation_matrix"
   ]
  },
  {
   "cell_type": "markdown",
   "metadata": {},
   "source": [
    "## 固有値、固有ベクトル"
   ]
  },
  {
   "cell_type": "code",
   "execution_count": 103,
   "metadata": {
    "collapsed": true
   },
   "outputs": [],
   "source": [
    "w,v=np.linalg.eig(correlation_matrix)"
   ]
  },
  {
   "cell_type": "code",
   "execution_count": 104,
   "metadata": {},
   "outputs": [
    {
     "data": {
      "text/plain": [
       "array([2.75351334, 1.85890988, 0.29707803, 0.02963954, 0.0608592 ])"
      ]
     },
     "execution_count": 104,
     "metadata": {},
     "output_type": "execute_result"
    }
   ],
   "source": [
    "# 固有値は、説明変数の数と一致\n",
    "# 値が大きい順に第１主成分、第２主成分、・・・、第５主成分\n",
    "w"
   ]
  },
  {
   "cell_type": "code",
   "execution_count": 105,
   "metadata": {},
   "outputs": [
    {
     "data": {
      "text/plain": [
       "array([[ 0.55992543,  0.24599271,  0.13545814, -0.76330003,  0.15809885],\n",
       "       [ 0.53756194,  0.23171743,  0.55348613,  0.50210283, -0.31445196],\n",
       "       [ 0.02537413, -0.71904976,  0.21112241, -0.29800409, -0.59071523],\n",
       "       [ 0.53860062, -0.08865464, -0.78316789,  0.17809881, -0.23870189],\n",
       "       [ 0.32676627, -0.60075154,  0.13183163,  0.21151875,  0.6857125 ]])"
      ]
     },
     "execution_count": 105,
     "metadata": {},
     "output_type": "execute_result"
    }
   ],
   "source": [
    "# 固有ベクトルは、説明変数の数と一致\n",
    "# 固有ベクトル内の要素数も説明変数の数と一致\n",
    "v"
   ]
  },
  {
   "cell_type": "markdown",
   "metadata": {},
   "source": [
    "## 寄与率"
   ]
  },
  {
   "cell_type": "code",
   "execution_count": 97,
   "metadata": {},
   "outputs": [
    {
     "data": {
      "text/plain": [
       "4.999999999999994"
      ]
     },
     "execution_count": 97,
     "metadata": {},
     "output_type": "execute_result"
    }
   ],
   "source": [
    "# 固有値の合計は、説明変数の数と一致★\n",
    "w.sum()"
   ]
  },
  {
   "cell_type": "code",
   "execution_count": 121,
   "metadata": {},
   "outputs": [
    {
     "data": {
      "text/plain": [
       "[2.7535133424096805,\n",
       " 1.8589098815714786,\n",
       " 0.29707802661740446,\n",
       " 0.0608592049124812,\n",
       " 0.029639544488949503]"
      ]
     },
     "execution_count": 121,
     "metadata": {},
     "output_type": "execute_result"
    }
   ],
   "source": [
    "# sorted()：元のリストはそのままで、並び替えられたリストを返す\n",
    "w_sort=sorted(w, reverse=True)\n",
    "w_sort"
   ]
  },
  {
   "cell_type": "code",
   "execution_count": 122,
   "metadata": {},
   "outputs": [
    {
     "name": "stdout",
     "output_type": "stream",
     "text": [
      "第1主成分： 55.070266848193604\n",
      "第2主成分： 37.17819763142957\n",
      "第3主成分： 5.941560532348089\n",
      "第4主成分： 1.217184098249624\n",
      "第5主成分： 0.5927908897789901\n"
     ]
    }
   ],
   "source": [
    "# 各主成分の寄与率：（固有値 / 固有値の数）*100→つまり１説明変数あたりの固有値の値は1\n",
    "for i in range(5):\n",
    "    print(\"第\"+str(i+1)+\"主成分：\",w_sort[i]/len(w)*100)"
   ]
  },
  {
   "cell_type": "code",
   "execution_count": null,
   "metadata": {
    "collapsed": true
   },
   "outputs": [],
   "source": []
  }
 ],
 "metadata": {
  "kernelspec": {
   "display_name": "Python 3",
   "language": "python",
   "name": "python3"
  },
  "language_info": {
   "codemirror_mode": {
    "name": "ipython",
    "version": 3
   },
   "file_extension": ".py",
   "mimetype": "text/x-python",
   "name": "python",
   "nbconvert_exporter": "python",
   "pygments_lexer": "ipython3",
   "version": "3.6.6"
  }
 },
 "nbformat": 4,
 "nbformat_minor": 2
}
