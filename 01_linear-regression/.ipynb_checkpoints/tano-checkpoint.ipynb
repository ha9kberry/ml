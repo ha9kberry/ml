{
 "cells": [
  {
   "cell_type": "code",
   "execution_count": 5,
   "metadata": {},
   "outputs": [
    {
     "data": {
      "text/html": [
       "<style>\n",
       "table {\n",
       "    float:left;\n",
       "    font-size:110% !important;\n",
       "}\n",
       "</style>"
      ],
      "text/plain": [
       "<IPython.core.display.HTML object>"
      ]
     },
     "metadata": {},
     "output_type": "display_data"
    }
   ],
   "source": [
    "%%html\n",
    "<style>\n",
    "table {\n",
    "    float:left;\n",
    "    font-size:110% !important;\n",
    "}\n",
    "</style>"
   ]
  },
  {
   "cell_type": "markdown",
   "metadata": {},
   "source": [
    "# 教師あり学習  \n",
    "　 　概要：様々な入力の各々に対して正しい出力が何であるかを教えることで、入出力の対応関係を学習する。  \n",
    "　　　　　すると、学習に使用した入力に近い未学習の入力に対してもある程度正しい出力を出せるようになる。\n",
    "     　 　この学習を行うには十分な量の正解データを用意する必要がある。\n",
    "### ・分類問題  \n",
    "#### 例：画像に映った犬の犬種を特定する  \n",
    "事前に、正しい犬種が分かっている犬の写真をたくさん用意し、そこから各犬種を特定するのに役立つ特徴を探し出しておくことで、  \n",
    "新しい犬の画像が与えられた時に、その画像にある特徴が各犬種の特徴にどの程度一致するかを調べて最も一致の度合いが高い犬種に分類する。\n",
    "\n",
    "### ・回帰問題   　 　\n",
    "#### 例：電力需要を予測する  \n",
    "例えば、月、曜日、時間、天気、気温がどうであれば、電力需要はどうだったという過去のデータからその関係をできるだけうまく表せる式を作り出す。  \n",
    "その式に、予測したい日のデータを入力して電力需要予測値を出す。\n"
   ]
  },
  {
   "cell_type": "markdown",
   "metadata": {},
   "source": [
    "# 教師なし学習\n",
    "　　 概要：複数の入力データを何らかの特徴に着目していくつかのグループに分類させる。その際、何に着目してどう分類するのが正しいかは教えない。  \n",
    "　 　　　　対象となるデータがどのような特徴を持った集団なのか、どのようなグループ分けが可能なのかを把握するために使用する。  \n",
    "　 　　　　この学習によって、人が気づかなかった特徴に気づけるメリットがある一方で、分類された結果がどういう特徴に基づく  \n",
    "　 　　　　グループなのかは人が判断する必要がある。\n",
    "\n",
    "\n",
    "\n"
   ]
  },
  {
   "cell_type": "code",
   "execution_count": 281,
   "metadata": {
    "collapsed": true
   },
   "outputs": [],
   "source": [
    "# 半教師あり学習"
   ]
  },
  {
   "cell_type": "markdown",
   "metadata": {},
   "source": [
    "# 強化学習  \n",
    "　 　概要：学習システムに自分自身の出力がどの程度よかったかを評価する基準を教え、後は自由に出力させる。  \n",
    "　 　　　　学習システムは色々な出力を試す中でたまたま良い出力を出せた場合、その出力を少しだけ変えた  \n",
    "　 　　　　出力を色々試してさらにいい評価を得られる出力を探すということを繰り返して成長していく。  \n",
    "　 　　　　この学習方法は、正解データを準備するのが困難な課題にも適用できるメリットがあるが、  \n",
    "　 　　　　適切な出力評価基準を与えないと学習がうまく進まないことがよくある。\n",
    "   \n",
    "### 例：２足歩行ロボットを歩かせる  \n",
    "前提１：どのように各関節を曲げれば歩けるかという正解は教えず、ロボットに自由に関節を動かさせる。  \n",
    "前提２：進んだ距離を点数として与えることでその動かし方が良かったどうかをロボットが知ることができるようにする。  \n",
    "  \n",
    "学習過程１：ある時までうまく進めず点数がもらえていなかった後に、ある動かし方を試してたまたま少し歩けた場合、  \n",
    "　　　　　　それまでと比べて良い点数がもらえる。  \n",
    "      \n",
    "学習過程２：ロボットはさらにいい点数を得ようとして、その動かし方を少しだけ変えた動かし方を色々試していく。  \n",
    "　　　　　 　すると、さらに長く歩ける動かし方を見つける場合がある。  \n",
    "学習過程３：同様のサイクルを繰り返してより長く歩ける関節の上手な動かし方を獲得していく。"
   ]
  },
  {
   "cell_type": "code",
   "execution_count": 15,
   "metadata": {
    "collapsed": true
   },
   "outputs": [],
   "source": [
    "import pandas as pd\n",
    "import numpy as np\n",
    "import matplotlib.pyplot as plt\n",
    "%matplotlib inline"
   ]
  },
  {
   "cell_type": "markdown",
   "metadata": {},
   "source": [
    "## データ取得"
   ]
  },
  {
   "cell_type": "code",
   "execution_count": 17,
   "metadata": {},
   "outputs": [],
   "source": [
    "df = pd.read_csv(\"input/train.csv\")\n",
    "\n",
    "y=df[['SalePrice']]\n",
    "X=df[['GrLivArea','YearBuilt']]"
   ]
  },
  {
   "cell_type": "code",
   "execution_count": 18,
   "metadata": {},
   "outputs": [
    {
     "data": {
      "text/html": [
       "<div>\n",
       "<style>\n",
       "    .dataframe thead tr:only-child th {\n",
       "        text-align: right;\n",
       "    }\n",
       "\n",
       "    .dataframe thead th {\n",
       "        text-align: left;\n",
       "    }\n",
       "\n",
       "    .dataframe tbody tr th {\n",
       "        vertical-align: top;\n",
       "    }\n",
       "</style>\n",
       "<table border=\"1\" class=\"dataframe\">\n",
       "  <thead>\n",
       "    <tr style=\"text-align: right;\">\n",
       "      <th></th>\n",
       "      <th>SalePrice</th>\n",
       "    </tr>\n",
       "  </thead>\n",
       "  <tbody>\n",
       "    <tr>\n",
       "      <th>0</th>\n",
       "      <td>208500</td>\n",
       "    </tr>\n",
       "    <tr>\n",
       "      <th>1</th>\n",
       "      <td>181500</td>\n",
       "    </tr>\n",
       "    <tr>\n",
       "      <th>2</th>\n",
       "      <td>223500</td>\n",
       "    </tr>\n",
       "    <tr>\n",
       "      <th>3</th>\n",
       "      <td>140000</td>\n",
       "    </tr>\n",
       "    <tr>\n",
       "      <th>4</th>\n",
       "      <td>250000</td>\n",
       "    </tr>\n",
       "  </tbody>\n",
       "</table>\n",
       "</div>"
      ],
      "text/plain": [
       "   SalePrice\n",
       "0     208500\n",
       "1     181500\n",
       "2     223500\n",
       "3     140000\n",
       "4     250000"
      ]
     },
     "execution_count": 18,
     "metadata": {},
     "output_type": "execute_result"
    }
   ],
   "source": [
    "y.head()"
   ]
  },
  {
   "cell_type": "code",
   "execution_count": 19,
   "metadata": {},
   "outputs": [
    {
     "data": {
      "text/html": [
       "<div>\n",
       "<style>\n",
       "    .dataframe thead tr:only-child th {\n",
       "        text-align: right;\n",
       "    }\n",
       "\n",
       "    .dataframe thead th {\n",
       "        text-align: left;\n",
       "    }\n",
       "\n",
       "    .dataframe tbody tr th {\n",
       "        vertical-align: top;\n",
       "    }\n",
       "</style>\n",
       "<table border=\"1\" class=\"dataframe\">\n",
       "  <thead>\n",
       "    <tr style=\"text-align: right;\">\n",
       "      <th></th>\n",
       "      <th>GrLivArea</th>\n",
       "      <th>YearBuilt</th>\n",
       "    </tr>\n",
       "  </thead>\n",
       "  <tbody>\n",
       "    <tr>\n",
       "      <th>0</th>\n",
       "      <td>1710</td>\n",
       "      <td>2003</td>\n",
       "    </tr>\n",
       "    <tr>\n",
       "      <th>1</th>\n",
       "      <td>1262</td>\n",
       "      <td>1976</td>\n",
       "    </tr>\n",
       "    <tr>\n",
       "      <th>2</th>\n",
       "      <td>1786</td>\n",
       "      <td>2001</td>\n",
       "    </tr>\n",
       "    <tr>\n",
       "      <th>3</th>\n",
       "      <td>1717</td>\n",
       "      <td>1915</td>\n",
       "    </tr>\n",
       "    <tr>\n",
       "      <th>4</th>\n",
       "      <td>2198</td>\n",
       "      <td>2000</td>\n",
       "    </tr>\n",
       "  </tbody>\n",
       "</table>\n",
       "</div>"
      ],
      "text/plain": [
       "   GrLivArea  YearBuilt\n",
       "0       1710       2003\n",
       "1       1262       1976\n",
       "2       1786       2001\n",
       "3       1717       1915\n",
       "4       2198       2000"
      ]
     },
     "execution_count": 19,
     "metadata": {},
     "output_type": "execute_result"
    }
   ],
   "source": [
    "X.head()"
   ]
  },
  {
   "cell_type": "markdown",
   "metadata": {},
   "source": [
    "## GrLivArea とSalePriceのプロット"
   ]
  },
  {
   "cell_type": "code",
   "execution_count": 12,
   "metadata": {},
   "outputs": [
    {
     "data": {
      "image/png": "[encoded data removed]",
      "text/plain": [
       "<matplotlib.figure.Figure at 0x11247c898>"
      ]
     },
     "metadata": {},
     "output_type": "display_data"
    }
   ],
   "source": [
    "plt.scatter(train_df[\"GrLivArea\"],train_df[\"SalePrice\"])\n",
    "plt.xlabel(\"GrLivArea\")\n",
    "plt.ylabel(\"SalePrice\")\n",
    "plt.show()"
   ]
  },
  {
   "cell_type": "markdown",
   "metadata": {},
   "source": [
    "## YearBuiltとGrLivArea のプロット"
   ]
  },
  {
   "cell_type": "code",
   "execution_count": 10,
   "metadata": {},
   "outputs": [
    {
     "data": {
      "image/png": "[encoded data removed]",
      "text/plain": [
       "<matplotlib.figure.Figure at 0x111ae19e8>"
      ]
     },
     "metadata": {},
     "output_type": "display_data"
    }
   ],
   "source": [
    "plt.scatter(train_df[\"GrLivArea\"],train_df[\"YearBuilt\"])\n",
    "plt.xlabel(\"GrLivArea\")\n",
    "plt.ylabel(\"YearBuilt\")\n",
    "plt.show()"
   ]
  },
  {
   "cell_type": "markdown",
   "metadata": {},
   "source": [
    "# フィーチャースケーリング\n",
    "以下それぞれの機械学習の学習について、素人にも分かるように説明すること。尚キーワードをすべて含めて説明すること\n",
    "\n",
    "- 正規化\n",
    "- 標準化\n",
    "- 正規化と標準化の使い分け\n",
    "- フィーチャースケーリングのメリット"
   ]
  },
  {
   "cell_type": "markdown",
   "metadata": {},
   "source": [
    "### １）正規化とは\n",
    "複数の数値データを一定のルールに基づいて変形し、利用しやすくすること。  \n",
    "この場合、ルールとは数値データの範囲を一定の範囲におさめる変換のことであり、主に [ 0, 1 ] か、[ -1, 1 ] の範囲内におさめることが多い。"
   ]
  },
  {
   "cell_type": "markdown",
   "metadata": {},
   "source": [
    "#### 例：あるクラスの数学と英語のテスト結果表\n",
    "生徒はA〜Eの５名で、数学は２００点満点、英語は１００点満点"
   ]
  },
  {
   "cell_type": "markdown",
   "metadata": {},
   "source": [
    "||数学|英語|\n",
    "|---|---|---|\n",
    "|A|90|70|\n",
    "|B|170|80|\n",
    "|C|110|60|\n",
    "|D|100|90|\n",
    "|E|130|80|"
   ]
  },
  {
   "cell_type": "markdown",
   "metadata": {},
   "source": [
    "- 各教科ごとに、各生徒を比較評価できる\n",
    "- 教科を跨いでの比較評価が難しい\n",
    "\n",
    "0〜1の範囲で正規化をすると、"
   ]
  },
  {
   "cell_type": "markdown",
   "metadata": {},
   "source": [
    "|正規化|数学|英語|\n",
    "|---|---|---|\n",
    "|A|0|0.33|\n",
    "|B|1|0.67|\n",
    "|C|0.25|0|\n",
    "|D|0.13|1|\n",
    "|E|0.50|0.67|"
   ]
  },
  {
   "cell_type": "markdown",
   "metadata": {},
   "source": [
    "各教科ごとに、各生徒を比較評価しつつ（互いの数的関係を維持しつつ）、教科を跨いでの比較評価も可能\n",
    "\n",
    "#### 疑問\n",
    "数学0と英語0、数学1と英語１の評価が同じでいいのか。  \n",
    "大きく外れた点数（最大点、最小点）をとっても、値（０、１）が変わらない。"
   ]
  },
  {
   "cell_type": "markdown",
   "metadata": {},
   "source": [
    "### ２）標準化とは\n",
    "数値データの平均を0、分散を1の範囲におさめる変換。"
   ]
  },
  {
   "cell_type": "markdown",
   "metadata": {},
   "source": [
    "|標準化|数学|英語|\n",
    "|---|---|---|\n",
    "|A|-0.948683|-0.526235|\n",
    "|B|1.581139|0.350823|\n",
    "|C|-0.316228|-1.403293|\n",
    "|D|-0.632456|1.227881|\n",
    "|E|0.316228|0.350823|"
   ]
  },
  {
   "cell_type": "markdown",
   "metadata": {},
   "source": [
    "各教科ごとに、各生徒を比較評価しつつ（各数字の関係性は保持しつつ）、教科を跨いで、**すべての生徒の比較評価**が可能  \n",
    "クラス全体の得意不得意教科の評価も可能"
   ]
  },
  {
   "cell_type": "markdown",
   "metadata": {},
   "source": [
    "### ３）正規化、標準化の違い"
   ]
  },
  {
   "cell_type": "markdown",
   "metadata": {},
   "source": [
    "#### 正規化\n",
    "教科ごとの生徒の点数を評価\n",
    "大きく外れたデータ（外れ値）が、最大値（１）、または最小値（０）となり、外れ値かどうかわからない\n",
    "\n",
    "#### 標準化\n",
    "すべての教科で、生徒の点数を評価できる  \n",
    "大きく外れたデータに対しても、評価ができる（外れ値は外れ値として扱われる）"
   ]
  },
  {
   "cell_type": "markdown",
   "metadata": {},
   "source": [
    "### ４）フィーチャースケーリングのメリット\n",
    "\n",
    "数値データの演算結果に対しての各教科（特徴量）の偏りを回避することができる。  \n",
    "具体的に述べると、"
   ]
  },
  {
   "cell_type": "markdown",
   "metadata": {},
   "source": [
    "||2教科合計|\n",
    "|---|---|\n",
    "|A|160|\n",
    "|B|250|\n",
    "|C|170|\n",
    "|D|190|\n",
    "|E|210|"
   ]
  },
  {
   "cell_type": "markdown",
   "metadata": {},
   "source": [
    "正規化、標準化をせずに合計点を出すと、総合的な評価しかできず、各教科の評価は反映されない。"
   ]
  },
  {
   "cell_type": "markdown",
   "metadata": {},
   "source": [
    "|標準化|2教科合計|\n",
    "|---|---|\n",
    "|A|-1.474918|\n",
    "|B|1.931962|\n",
    "|C|-1.719521|\n",
    "|D|0.595425|\n",
    "|E|0.667051|"
   ]
  },
  {
   "cell_type": "markdown",
   "metadata": {},
   "source": [
    "標準化された数値を足し合わせると、各教科の評価が反映される。  \n",
    "例えば、AとCを比較した場合、単純に2教科合計ではCが高いが、標準化された数値の合計はAが高く、数英の評価が反映されている。"
   ]
  },
  {
   "cell_type": "markdown",
   "metadata": {},
   "source": [
    "### SalePrice を標準化"
   ]
  },
  {
   "cell_type": "code",
   "execution_count": 20,
   "metadata": {},
   "outputs": [
    {
     "data": {
      "text/html": [
       "<div>\n",
       "<style>\n",
       "    .dataframe thead tr:only-child th {\n",
       "        text-align: right;\n",
       "    }\n",
       "\n",
       "    .dataframe thead th {\n",
       "        text-align: left;\n",
       "    }\n",
       "\n",
       "    .dataframe tbody tr th {\n",
       "        vertical-align: top;\n",
       "    }\n",
       "</style>\n",
       "<table border=\"1\" class=\"dataframe\">\n",
       "  <thead>\n",
       "    <tr style=\"text-align: right;\">\n",
       "      <th></th>\n",
       "      <th>SalePrice</th>\n",
       "    </tr>\n",
       "  </thead>\n",
       "  <tbody>\n",
       "    <tr>\n",
       "      <th>0</th>\n",
       "      <td>0.347154</td>\n",
       "    </tr>\n",
       "    <tr>\n",
       "      <th>1</th>\n",
       "      <td>0.007286</td>\n",
       "    </tr>\n",
       "    <tr>\n",
       "      <th>2</th>\n",
       "      <td>0.535970</td>\n",
       "    </tr>\n",
       "    <tr>\n",
       "      <th>3</th>\n",
       "      <td>-0.515105</td>\n",
       "    </tr>\n",
       "    <tr>\n",
       "      <th>4</th>\n",
       "      <td>0.869545</td>\n",
       "    </tr>\n",
       "  </tbody>\n",
       "</table>\n",
       "</div>"
      ],
      "text/plain": [
       "   SalePrice\n",
       "0   0.347154\n",
       "1   0.007286\n",
       "2   0.535970\n",
       "3  -0.515105\n",
       "4   0.869545"
      ]
     },
     "execution_count": 20,
     "metadata": {},
     "output_type": "execute_result"
    }
   ],
   "source": [
    "y = (y - y.mean()) / y.std()\n",
    "y.head()"
   ]
  },
  {
   "cell_type": "markdown",
   "metadata": {},
   "source": [
    "### GrLivArea ,YearBuilt を標準化"
   ]
  },
  {
   "cell_type": "code",
   "execution_count": 22,
   "metadata": {},
   "outputs": [
    {
     "data": {
      "text/html": [
       "<div>\n",
       "<style>\n",
       "    .dataframe thead tr:only-child th {\n",
       "        text-align: right;\n",
       "    }\n",
       "\n",
       "    .dataframe thead th {\n",
       "        text-align: left;\n",
       "    }\n",
       "\n",
       "    .dataframe tbody tr th {\n",
       "        vertical-align: top;\n",
       "    }\n",
       "</style>\n",
       "<table border=\"1\" class=\"dataframe\">\n",
       "  <thead>\n",
       "    <tr style=\"text-align: right;\">\n",
       "      <th></th>\n",
       "      <th>GrLivArea</th>\n",
       "      <th>YearBuilt</th>\n",
       "    </tr>\n",
       "  </thead>\n",
       "  <tbody>\n",
       "    <tr>\n",
       "      <th>0</th>\n",
       "      <td>0.370207</td>\n",
       "      <td>1.050634</td>\n",
       "    </tr>\n",
       "    <tr>\n",
       "      <th>1</th>\n",
       "      <td>-0.482347</td>\n",
       "      <td>0.156680</td>\n",
       "    </tr>\n",
       "    <tr>\n",
       "      <th>2</th>\n",
       "      <td>0.514836</td>\n",
       "      <td>0.984415</td>\n",
       "    </tr>\n",
       "    <tr>\n",
       "      <th>3</th>\n",
       "      <td>0.383528</td>\n",
       "      <td>-1.862993</td>\n",
       "    </tr>\n",
       "    <tr>\n",
       "      <th>4</th>\n",
       "      <td>1.298881</td>\n",
       "      <td>0.951306</td>\n",
       "    </tr>\n",
       "  </tbody>\n",
       "</table>\n",
       "</div>"
      ],
      "text/plain": [
       "   GrLivArea  YearBuilt\n",
       "0   0.370207   1.050634\n",
       "1  -0.482347   0.156680\n",
       "2   0.514836   0.984415\n",
       "3   0.383528  -1.862993\n",
       "4   1.298881   0.951306"
      ]
     },
     "execution_count": 22,
     "metadata": {},
     "output_type": "execute_result"
    }
   ],
   "source": [
    "X = (X - X.mean()) / X.std()\n",
    "X.head()"
   ]
  },
  {
   "cell_type": "markdown",
   "metadata": {},
   "source": [
    "#### theta０ 用の列を追加"
   ]
  },
  {
   "cell_type": "code",
   "execution_count": 23,
   "metadata": {},
   "outputs": [
    {
     "data": {
      "text/html": [
       "<div>\n",
       "<style>\n",
       "    .dataframe thead tr:only-child th {\n",
       "        text-align: right;\n",
       "    }\n",
       "\n",
       "    .dataframe thead th {\n",
       "        text-align: left;\n",
       "    }\n",
       "\n",
       "    .dataframe tbody tr th {\n",
       "        vertical-align: top;\n",
       "    }\n",
       "</style>\n",
       "<table border=\"1\" class=\"dataframe\">\n",
       "  <thead>\n",
       "    <tr style=\"text-align: right;\">\n",
       "      <th></th>\n",
       "      <th>GrLivArea</th>\n",
       "      <th>YearBuilt</th>\n",
       "      <th>X0</th>\n",
       "    </tr>\n",
       "  </thead>\n",
       "  <tbody>\n",
       "    <tr>\n",
       "      <th>0</th>\n",
       "      <td>0.370207</td>\n",
       "      <td>1.050634</td>\n",
       "      <td>1</td>\n",
       "    </tr>\n",
       "    <tr>\n",
       "      <th>1</th>\n",
       "      <td>-0.482347</td>\n",
       "      <td>0.156680</td>\n",
       "      <td>1</td>\n",
       "    </tr>\n",
       "    <tr>\n",
       "      <th>2</th>\n",
       "      <td>0.514836</td>\n",
       "      <td>0.984415</td>\n",
       "      <td>1</td>\n",
       "    </tr>\n",
       "    <tr>\n",
       "      <th>3</th>\n",
       "      <td>0.383528</td>\n",
       "      <td>-1.862993</td>\n",
       "      <td>1</td>\n",
       "    </tr>\n",
       "    <tr>\n",
       "      <th>4</th>\n",
       "      <td>1.298881</td>\n",
       "      <td>0.951306</td>\n",
       "      <td>1</td>\n",
       "    </tr>\n",
       "  </tbody>\n",
       "</table>\n",
       "</div>"
      ],
      "text/plain": [
       "   GrLivArea  YearBuilt  X0\n",
       "0   0.370207   1.050634   1\n",
       "1  -0.482347   0.156680   1\n",
       "2   0.514836   0.984415   1\n",
       "3   0.383528  -1.862993   1\n",
       "4   1.298881   0.951306   1"
      ]
     },
     "execution_count": 23,
     "metadata": {},
     "output_type": "execute_result"
    }
   ],
   "source": [
    "X[\"X0\"]=1\n",
    "X.head()"
   ]
  },
  {
   "cell_type": "markdown",
   "metadata": {},
   "source": [
    "# 数式の実装\n",
    "\n",
    "## 線形回帰における、目的関数(コスト関数)\n",
    "線形回帰における、目的関数(コスト関数)を実装すること。"
   ]
  },
  {
   "cell_type": "markdown",
   "metadata": {},
   "source": [
    "$h_\\theta(x) =  \\theta_0 x_0 + \\theta_1 x_1 + ... +\\theta_n x_n   (x_0 = 1)$\n",
    "\n",
    "$J(\\theta)=  \\frac{1 }{ 2m}  \\sum_{i=1}^{m} (h_\\theta(x^{(i)})-y^{(i)})^2$"
   ]
  },
  {
   "cell_type": "code",
   "execution_count": 24,
   "metadata": {
    "collapsed": true
   },
   "outputs": [],
   "source": [
    "# 各データに特徴量の値が１になる列を追記（切片、定数項）\n",
    "X[\"x0\"]=1\n",
    "\n",
    "# ３つの特徴量の係数θ（０〜１のランダム）を作成\n",
    "np.random.seed(0)\n",
    "theta=pd.DataFrame(np.random.rand(3))\n",
    "\n",
    "# 総データ数\n",
    "m = len(X)\n",
    "\n",
    "def compute_cost(X, y, theta):\n",
    "    # 行列の積\n",
    "    h = np.dot(X, theta)\n",
    "    J = np.sum((h - y)**2)/(2*m)\n",
    "    return J\n",
    "\n",
    "compute_cost(X, y, theta)"
   ]
  },
  {
   "cell_type": "markdown",
   "metadata": {},
   "source": [
    "### 最急降下法コード  \n",
    "\n",
    "以下の数式を関数化する。  \n",
    "また、その関数の中に上記のコスト関数を入れて各thetaでのコストを記録したリストを  \n",
    "出力させる。"
   ]
  },
  {
   "cell_type": "markdown",
   "metadata": {},
   "source": [
    "$$\\theta_j := \\theta_j - \\alpha \\frac{1}{m} \\sum_{i=1}^{m}[(h_\\theta(x^{(i)} - y^{(i)} )x_{j}^{(i)}]$$"
   ]
  },
  {
   "cell_type": "code",
   "execution_count": 295,
   "metadata": {
    "collapsed": true
   },
   "outputs": [],
   "source": [
    "def gradient_descent(X, y, theta, iterations, alpha):\n",
    "    \"\"\"\n",
    "    args:\n",
    "      alpha: Step size/Learning rate\n",
    "      iterations: No. of iterations(Number of iterations)\n",
    "    \"\"\" \n",
    "    \n",
    "    m = len(X)\n",
    "    past_costs =[]\n",
    "   \n",
    "    for i in range(iterations):\n",
    "        past_costs.append(compute_cost(X, y, theta))\n",
    "        h_x_y = np.dot(X , theta) - y\n",
    "        theta = theta -  (alpha/m) * np.dot(X.T , h_x_y)  \n",
    "    \n",
    "    return past_costs "
   ]
  },
  {
   "cell_type": "markdown",
   "metadata": {},
   "source": []
  },
  {
   "cell_type": "markdown",
   "metadata": {},
   "source": [
    "### 学習"
   ]
  },
  {
   "cell_type": "markdown",
   "metadata": {},
   "source": [
    "#### thetaの初期値を一様乱数で作成"
   ]
  },
  {
   "cell_type": "code",
   "execution_count": 305,
   "metadata": {
    "collapsed": true
   },
   "outputs": [],
   "source": [
    "theta = np.random.rand(3,1)"
   ]
  },
  {
   "cell_type": "markdown",
   "metadata": {},
   "source": [
    "#### 学習率(α)と 反復回数を指定"
   ]
  },
  {
   "cell_type": "code",
   "execution_count": 306,
   "metadata": {
    "collapsed": true
   },
   "outputs": [],
   "source": [
    "alpha = 0.2\n",
    "iterations = 3000"
   ]
  },
  {
   "cell_type": "markdown",
   "metadata": {},
   "source": [
    "#### 学習実施"
   ]
  },
  {
   "cell_type": "code",
   "execution_count": 307,
   "metadata": {
    "collapsed": true
   },
   "outputs": [],
   "source": [
    "p_c = gradient_descent(X_std, y_std, theta, iterations, alpha)"
   ]
  },
  {
   "cell_type": "markdown",
   "metadata": {},
   "source": [
    "### 学習曲線描画"
   ]
  },
  {
   "cell_type": "code",
   "execution_count": 332,
   "metadata": {
    "scrolled": true
   },
   "outputs": [
    {
     "data": {
      "image/png": "[encoded data removed]",
      "text/plain": [
       "<matplotlib.figure.Figure at 0x121d761d0>"
      ]
     },
     "metadata": {},
     "output_type": "display_data"
    }
   ],
   "source": [
    "plt.plot(range(0,iterations),p_c)\n",
    "plt.show()"
   ]
  },
  {
   "cell_type": "markdown",
   "metadata": {},
   "source": [
    "## クラス化"
   ]
  },
  {
   "cell_type": "code",
   "execution_count": 333,
   "metadata": {
    "collapsed": true
   },
   "outputs": [],
   "source": [
    "class LinearModel():\n",
    "\n",
    "    def __init__(self,X):\n",
    "        theta = np.random.rand(X.shape[1],1)\n",
    "\n",
    "    def compute_cost(self,X, y, theta):\n",
    "        h_x_y = np.dot(X, theta) - y\n",
    "        m = len(X)\n",
    "        J_theta = (1/(2 * m)) *  (h_x_y * h_x_y).sum()\n",
    "    \n",
    "        return J_theta\n",
    "\n",
    "    def gradient_descent(self,X, y, theta, iterations, alpha):  \n",
    "        \"\"\"\n",
    "        args:\n",
    "          alpha: Step size/Learning rate\n",
    "          iterations: No. of iterations(Number of iterations)\n",
    "        \"\"\"\n",
    "        m = len(X)\n",
    "        past_costs =[]\n",
    "   \n",
    "        for i in range(iterations):\n",
    "            h_x_y = np.dot(X , theta) - y\n",
    "            theta = theta -  (alpha/m) * np.dot(X.T , h_x_y) \n",
    "            past_costs.append(compute_cost(X, y, theta))\n",
    "    \n",
    "        return past_costs         \n",
    "\n",
    "    def plot_learning_curve(self,iterations,past_costs):\n",
    "        plt.plot(range(0,iterations),past_costs)\n",
    "        plt.show()\n",
    "        \n",
    "        return None\n",
    "      \n"
   ]
  },
  {
   "cell_type": "code",
   "execution_count": 321,
   "metadata": {
    "collapsed": true
   },
   "outputs": [],
   "source": [
    "iterations = 3000"
   ]
  },
  {
   "cell_type": "code",
   "execution_count": 334,
   "metadata": {
    "collapsed": true
   },
   "outputs": [],
   "source": [
    "p_c = LinearModel(X).gradient_descent(X, y, theta, iterations, alpha=0.001)"
   ]
  },
  {
   "cell_type": "code",
   "execution_count": 335,
   "metadata": {
    "scrolled": true
   },
   "outputs": [
    {
     "data": {
      "image/png": "[encoded data removed]",
      "text/plain": [
       "<matplotlib.figure.Figure at 0x1146e3080>"
      ]
     },
     "metadata": {},
     "output_type": "display_data"
    }
   ],
   "source": [
    "LinearModel.plot_learning_curve(iterations,p_c)"
   ]
  },
  {
   "cell_type": "markdown",
   "metadata": {},
   "source": [
    "## テスト  \n",
    "\n",
    "作成した関数が正しく動作するかどうかを正しい出力結果がわかる入力を用いて確認する"
   ]
  },
  {
   "cell_type": "markdown",
   "metadata": {},
   "source": [
    "### コスト関数テスト "
   ]
  },
  {
   "cell_type": "code",
   "execution_count": 375,
   "metadata": {
    "collapsed": true
   },
   "outputs": [],
   "source": [
    "def test_compute_cost():\n",
    "    X = pd.DataFrame([[1,1],[2,2]])\n",
    "    y = pd.DataFrame([[2],[4]])\n",
    "    theta = pd.DataFrame([[1],[1]])\n",
    "    \n",
    "    np.testing.assert_array_almost_equal((compute_cost(X, y, theta)), 0)"
   ]
  },
  {
   "cell_type": "code",
   "execution_count": 376,
   "metadata": {
    "collapsed": true
   },
   "outputs": [],
   "source": [
    "test_compute_cost()"
   ]
  },
  {
   "cell_type": "markdown",
   "metadata": {},
   "source": [
    "### 最急降下法関数テスト"
   ]
  },
  {
   "cell_type": "code",
   "execution_count": 364,
   "metadata": {
    "collapsed": true
   },
   "outputs": [],
   "source": [
    "def test_gradient_descent():\n",
    "    X = pd.DataFrame([[1,1],[2,2]])\n",
    "    y = pd.DataFrame([[4],[8]])\n",
    "    theta = np.random.rand(2,1)\n",
    "    iterations = 30000\n",
    "    alpha = 0.02\n",
    "    \n",
    "    np.testing.assert_array_almost_equal((gradient_descent\\\n",
    "                                         (X, y, theta, iterations, alpha))\\\n",
    "                                         [iterations-1], 0)"
   ]
  },
  {
   "cell_type": "code",
   "execution_count": 365,
   "metadata": {
    "collapsed": true
   },
   "outputs": [],
   "source": [
    "test_gradient_descent()"
   ]
  },
  {
   "cell_type": "markdown",
   "metadata": {},
   "source": [
    "### コスト関数テスト（クラスから呼び出した場合）"
   ]
  },
  {
   "cell_type": "code",
   "execution_count": 379,
   "metadata": {
    "collapsed": true
   },
   "outputs": [],
   "source": [
    "def test_compute_cost_in_class():\n",
    "    X = pd.DataFrame([[1,1],[2,2]])\n",
    "    y = pd.DataFrame([[2],[4]])\n",
    "    theta = pd.DataFrame([[1],[1]])\n",
    "    \n",
    "    np.testing.assert_array_almost_equal((LinearModel(X).compute_cost(X, y, theta)), 0)"
   ]
  },
  {
   "cell_type": "code",
   "execution_count": 380,
   "metadata": {
    "collapsed": true
   },
   "outputs": [],
   "source": [
    "test_compute_cost_in_class()"
   ]
  },
  {
   "cell_type": "markdown",
   "metadata": {},
   "source": [
    "### 最急降下法関数テスト（クラスから呼び出した場合）"
   ]
  },
  {
   "cell_type": "code",
   "execution_count": 381,
   "metadata": {
    "collapsed": true
   },
   "outputs": [],
   "source": [
    "def test_gradient_descent_in_class():\n",
    "    X = pd.DataFrame([[1,1],[2,2]])\n",
    "    y = pd.DataFrame([[4],[8]])\n",
    "    theta = np.random.rand(2,1)\n",
    "    iterations = 30000\n",
    "    alpha = 0.02\n",
    "    \n",
    "    np.testing.assert_array_almost_equal((LinearModel(X).gradient_descent\\\n",
    "                                         (X, y, theta, iterations, alpha))\\\n",
    "                                         [iterations-1], 0)"
   ]
  },
  {
   "cell_type": "code",
   "execution_count": 382,
   "metadata": {
    "collapsed": true
   },
   "outputs": [],
   "source": [
    "test_gradient_descent_in_class()"
   ]
  }
 ],
 "metadata": {
  "kernelspec": {
   "display_name": "Python 3",
   "language": "python",
   "name": "python3"
  },
  "language_info": {
   "codemirror_mode": {
    "name": "ipython",
    "version": 3
   },
   "file_extension": ".py",
   "mimetype": "text/x-python",
   "name": "python",
   "nbconvert_exporter": "python",
   "pygments_lexer": "ipython3",
   "version": "3.6.1"
  }
 },
 "nbformat": 4,
 "nbformat_minor": 2
}
