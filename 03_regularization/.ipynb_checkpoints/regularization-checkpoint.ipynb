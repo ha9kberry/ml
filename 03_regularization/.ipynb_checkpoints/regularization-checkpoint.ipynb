{
 "cells": [
  {
   "cell_type": "markdown",
   "metadata": {},
   "source": [
    "# 正則化\n",
    "\n",
    "正則化を実装することで、過学習がどのように防げるのか検証  \n",
    "2次元空間内のデータの回帰を想定\n",
    "\n",
    "1. データ作成\n",
    "2. 多項式回帰\n",
    "3. 正則化項を実装"
   ]
  },
  {
   "cell_type": "code",
   "execution_count": 1,
   "metadata": {},
   "outputs": [],
   "source": [
    "import numpy as np\n",
    "import matplotlib.pyplot as plt"
   ]
  },
  {
   "cell_type": "markdown",
   "metadata": {},
   "source": [
    "## 1. データ作成\n",
    "\n",
    "$g(x)=x^3 + x^2 + x$ からデータを作成"
   ]
  },
  {
   "cell_type": "code",
   "execution_count": 2,
   "metadata": {},
   "outputs": [],
   "source": [
    "def g(x):\n",
    "    return 0.1*(x**3+x**2+x)"
   ]
  },
  {
   "cell_type": "code",
   "execution_count": 3,
   "metadata": {},
   "outputs": [
    {
     "data": {
      "image/png": "[encoded data removed]",
      "text/plain": [
       "<Figure size 576x432 with 1 Axes>"
      ]
     },
     "metadata": {},
     "output_type": "display_data"
    }
   ],
   "source": [
    "x=np.arange(-2,2,0.1)\n",
    "plt.figure(figsize =(8,6))\n",
    "plt.plot(x,g(x), linestyle=\"dashed\")\n",
    "plt.grid(color='gray', alpha=0.2)\n",
    "plt.show()"
   ]
  },
  {
   "cell_type": "markdown",
   "metadata": {},
   "source": [
    "### 説明変数作成"
   ]
  },
  {
   "cell_type": "code",
   "execution_count": 4,
   "metadata": {},
   "outputs": [
    {
     "data": {
      "text/plain": [
       "array([-2. , -1.5, -1. , -0.5,  0. ,  0.5,  1. ,  1.5])"
      ]
     },
     "execution_count": 4,
     "metadata": {},
     "output_type": "execute_result"
    }
   ],
   "source": [
    "train_x=np.arange(-2,2,0.5)\n",
    "train_x"
   ]
  },
  {
   "cell_type": "markdown",
   "metadata": {},
   "source": [
    "### 目的変数作成"
   ]
  },
  {
   "cell_type": "code",
   "execution_count": 5,
   "metadata": {},
   "outputs": [
    {
     "data": {
      "text/plain": [
       "array([-0.51179738, -0.24249214, -0.0510631 ,  0.07454466,  0.0933779 ,\n",
       "        0.03863611,  0.34750442,  0.70493214])"
      ]
     },
     "execution_count": 5,
     "metadata": {},
     "output_type": "execute_result"
    }
   ],
   "source": [
    "# データにノイズ付加\n",
    "np.random.seed(0)\n",
    "train_y=g(train_x)+np.random.randn(len(train_x))*0.05\n",
    "train_y"
   ]
  },
  {
   "cell_type": "markdown",
   "metadata": {},
   "source": [
    "### データをプロット"
   ]
  },
  {
   "cell_type": "code",
   "execution_count": 6,
   "metadata": {},
   "outputs": [
    {
     "data": {
      "image/png": "[encoded data removed]",
      "text/plain": [
       "<Figure size 576x432 with 1 Axes>"
      ]
     },
     "metadata": {},
     "output_type": "display_data"
    }
   ],
   "source": [
    "plt.figure(figsize =(8,6))\n",
    "plt.plot(train_x,train_y,\"o\")\n",
    "plt.grid(color='gray', alpha=0.2)\n",
    "plt.show()"
   ]
  },
  {
   "cell_type": "markdown",
   "metadata": {},
   "source": [
    "### 標準化"
   ]
  },
  {
   "cell_type": "code",
   "execution_count": 7,
   "metadata": {},
   "outputs": [],
   "source": [
    "def standardize(x):\n",
    "    return (x-x.mean())/x.std()"
   ]
  },
  {
   "cell_type": "code",
   "execution_count": 8,
   "metadata": {},
   "outputs": [],
   "source": [
    "train_x=standardize(train_x)"
   ]
  },
  {
   "cell_type": "code",
   "execution_count": 9,
   "metadata": {},
   "outputs": [
    {
     "data": {
      "text/plain": [
       "array([-1.52752523, -1.09108945, -0.65465367, -0.21821789,  0.21821789,\n",
       "        0.65465367,  1.09108945,  1.52752523])"
      ]
     },
     "execution_count": 9,
     "metadata": {},
     "output_type": "execute_result"
    }
   ],
   "source": [
    "train_x"
   ]
  },
  {
   "cell_type": "code",
   "execution_count": 10,
   "metadata": {},
   "outputs": [
    {
     "data": {
      "image/png": "[encoded data removed]",
      "text/plain": [
       "<Figure size 576x432 with 1 Axes>"
      ]
     },
     "metadata": {},
     "output_type": "display_data"
    }
   ],
   "source": [
    "plt.figure(figsize =(8,6))\n",
    "plt.plot(train_x,train_y,\"o\")\n",
    "plt.grid(color='gray', alpha=0.2)\n",
    "plt.show()"
   ]
  },
  {
   "cell_type": "markdown",
   "metadata": {},
   "source": [
    "## 2. 多項式回帰\n",
    "7次多項式での回帰"
   ]
  },
  {
   "cell_type": "code",
   "execution_count": 11,
   "metadata": {},
   "outputs": [],
   "source": [
    "# 学習データの行列\n",
    "def to_matrix(x):\n",
    "    return np.vstack((np.ones(len(x)), x, x**2, x**3, x**4, x**5, x**6, x**7)).T"
   ]
  },
  {
   "cell_type": "code",
   "execution_count": 12,
   "metadata": {},
   "outputs": [
    {
     "data": {
      "text/plain": [
       "array([[ 1.00000000e+00, -1.52752523e+00,  2.33333333e+00,\n",
       "        -3.56422554e+00,  5.44444444e+00, -8.31652626e+00,\n",
       "         1.27037037e+01, -1.94052279e+01],\n",
       "       [ 1.00000000e+00, -1.09108945e+00,  1.19047619e+00,\n",
       "        -1.29891601e+00,  1.41723356e+00, -1.54632859e+00,\n",
       "         1.68718281e+00, -1.84086737e+00],\n",
       "       [ 1.00000000e+00, -6.54653671e-01,  4.28571429e-01,\n",
       "        -2.80565859e-01,  1.83673469e-01, -1.20242511e-01,\n",
       "         7.87172012e-02, -5.15325047e-02],\n",
       "       [ 1.00000000e+00, -2.18217890e-01,  4.76190476e-02,\n",
       "        -1.03913281e-02,  2.26757370e-03, -4.94825148e-04,\n",
       "         1.07979700e-04, -2.35631023e-05],\n",
       "       [ 1.00000000e+00,  2.18217890e-01,  4.76190476e-02,\n",
       "         1.03913281e-02,  2.26757370e-03,  4.94825148e-04,\n",
       "         1.07979700e-04,  2.35631023e-05],\n",
       "       [ 1.00000000e+00,  6.54653671e-01,  4.28571429e-01,\n",
       "         2.80565859e-01,  1.83673469e-01,  1.20242511e-01,\n",
       "         7.87172012e-02,  5.15325047e-02],\n",
       "       [ 1.00000000e+00,  1.09108945e+00,  1.19047619e+00,\n",
       "         1.29891601e+00,  1.41723356e+00,  1.54632859e+00,\n",
       "         1.68718281e+00,  1.84086737e+00],\n",
       "       [ 1.00000000e+00,  1.52752523e+00,  2.33333333e+00,\n",
       "         3.56422554e+00,  5.44444444e+00,  8.31652626e+00,\n",
       "         1.27037037e+01,  1.94052279e+01]])"
      ]
     },
     "execution_count": 12,
     "metadata": {},
     "output_type": "execute_result"
    }
   ],
   "source": [
    "X=to_matrix(train_x)\n",
    "X"
   ]
  },
  {
   "cell_type": "code",
   "execution_count": 13,
   "metadata": {},
   "outputs": [
    {
     "name": "stdout",
     "output_type": "stream",
     "text": [
      "theta： [ 1.76405235  0.40015721  0.97873798  2.2408932   1.86755799 -0.97727788\n",
      "  0.95008842 -0.15135721]\n"
     ]
    }
   ],
   "source": [
    "# パラメータ初期化\n",
    "np.random.seed(0)\n",
    "theta=np.random.randn(len(X))\n",
    "print(\"theta：\",theta)"
   ]
  },
  {
   "cell_type": "code",
   "execution_count": 14,
   "metadata": {},
   "outputs": [],
   "source": [
    "# 仮説関数\n",
    "def f(x):\n",
    "    return np.dot(x, theta)"
   ]
  },
  {
   "cell_type": "code",
   "execution_count": 15,
   "metadata": {},
   "outputs": [],
   "source": [
    "# 平均２乗誤差\n",
    "def mse(x,y):\n",
    "    return (1/len(x))*np.sum((y-f(x))**2)"
   ]
  },
  {
   "cell_type": "markdown",
   "metadata": {},
   "source": [
    "### 学習"
   ]
  },
  {
   "cell_type": "code",
   "execution_count": 16,
   "metadata": {},
   "outputs": [],
   "source": [
    "# 学習率\n",
    "alpha=0.001\n",
    "# 反復回数\n",
    "iteration=1000"
   ]
  },
  {
   "cell_type": "code",
   "execution_count": 17,
   "metadata": {},
   "outputs": [],
   "source": [
    "# パラメーター初期化\n",
    "np.random.seed(1)\n",
    "theta=np.random.randn(len(X))\n",
    "\n",
    "loss_list=[]\n",
    "\n",
    "for i in range(iteration):\n",
    "    theta=theta-alpha*np.dot(f(X)-train_y,X)\n",
    "    loss=mse(X,train_y)\n",
    "    loss_list.append(mse(X,train_y))\n",
    "    \n",
    "    #log=\"{}回目 ： loss={:.3f}\"\n",
    "    #print(log.format(i+1,loss))"
   ]
  },
  {
   "cell_type": "markdown",
   "metadata": {},
   "source": [
    "### loss曲線\n"
   ]
  },
  {
   "cell_type": "code",
   "execution_count": 18,
   "metadata": {},
   "outputs": [
    {
     "data": {
      "image/png": "[encoded data removed]",
      "text/plain": [
       "<Figure size 576x432 with 1 Axes>"
      ]
     },
     "metadata": {},
     "output_type": "display_data"
    }
   ],
   "source": [
    "plt.figure(figsize =(8,6))\n",
    "plt.plot(range(0,iteration),loss_list)\n",
    "plt.title(\"LOSS curve\")\n",
    "plt.xlabel(\"Iterations\")\n",
    "plt.ylabel(\"Losses\")\n",
    "plt.grid(color='gray', alpha=0.2)\n",
    "plt.show()"
   ]
  },
  {
   "cell_type": "code",
   "execution_count": 19,
   "metadata": {},
   "outputs": [
    {
     "data": {
      "text/plain": [
       "0.0532259301195983"
      ]
     },
     "execution_count": 19,
     "metadata": {},
     "output_type": "execute_result"
    }
   ],
   "source": [
    "# 最終反復回数のlossを出力\n",
    "loss_list[-1]"
   ]
  },
  {
   "cell_type": "markdown",
   "metadata": {},
   "source": [
    "### 多項式を描画"
   ]
  },
  {
   "cell_type": "code",
   "execution_count": 20,
   "metadata": {},
   "outputs": [
    {
     "data": {
      "image/png": "[encoded data removed]",
      "text/plain": [
       "<Figure size 576x432 with 1 Axes>"
      ]
     },
     "metadata": {},
     "output_type": "display_data"
    }
   ],
   "source": [
    "x=np.arange(-2,2,0.1)\n",
    "x=standardize(x)\n",
    "\n",
    "plt.figure(figsize =(8,6))\n",
    "plt.plot(train_x,train_y,\"o\")\n",
    "plt.plot(x,f(to_matrix(x)), linestyle=\"dashed\")\n",
    "plt.ylim(-0.5,1)\n",
    "plt.grid(color='gray', alpha=0.2)\n",
    "plt.show()"
   ]
  },
  {
   "cell_type": "markdown",
   "metadata": {},
   "source": [
    "曲線が複雑で、過学習している。"
   ]
  },
  {
   "cell_type": "markdown",
   "metadata": {},
   "source": [
    "## 3. 正則化項を実装\n",
    "過学習の要因となっている説明変数に** ペナルティ（パラメータを小さくする）を与え、過学習を抑える。**"
   ]
  },
  {
   "cell_type": "code",
   "execution_count": 21,
   "metadata": {},
   "outputs": [],
   "source": [
    "#  正則化定数\n",
    "lam=1\n",
    "\n",
    "# パラメーター初期化\n",
    "np.random.seed(1)\n",
    "theta=np.random.randn(X.shape[1])\n",
    "\n",
    "# 平均２乗誤差（正則化項つき）\n",
    "def mse(x,y):\n",
    "    return (1/x.shape[0])*(np.sum((y-f(x))**2)+0.5*lam*np.sum(theta**2))\n",
    "\n",
    "# 学習率\n",
    "alpha=0.001\n",
    "# 反復回数\n",
    "iteration=1000\n",
    "\n",
    "loss_list=[]\n",
    "\n",
    "for i in range(iteration):\n",
    "    #正則化項（バイアス項は正則化しないので0）\n",
    "    reg_term=lam*np.hstack([0, theta[1:]])\n",
    "    theta=theta-(alpha*np.dot(f(X)-train_y,X)+reg_term)\n",
    "    loss=mse(X,train_y)\n",
    "    loss_list.append(mse(X,train_y))\n",
    "    \n",
    "    #log=\"{}回目 ： loss={:.3f}\"\n",
    "    #print(log.format(i+1,loss))"
   ]
  },
  {
   "cell_type": "markdown",
   "metadata": {},
   "source": [
    "### loss曲線"
   ]
  },
  {
   "cell_type": "code",
   "execution_count": 22,
   "metadata": {},
   "outputs": [
    {
     "data": {
      "image/png": "[encoded data removed]",
      "text/plain": [
       "<Figure size 576x432 with 1 Axes>"
      ]
     },
     "metadata": {},
     "output_type": "display_data"
    }
   ],
   "source": [
    "plt.figure(figsize =(8,6))\n",
    "plt.plot(range(0,iteration),loss_list)\n",
    "plt.title(\"LOSS curve\")\n",
    "plt.xlabel(\"Iterations\")\n",
    "plt.ylabel(\"Losses\")\n",
    "plt.grid(color='gray', alpha=0.2)\n",
    "plt.show()"
   ]
  },
  {
   "cell_type": "code",
   "execution_count": 23,
   "metadata": {},
   "outputs": [
    {
     "data": {
      "text/plain": [
       "0.04134448310188144"
      ]
     },
     "execution_count": 23,
     "metadata": {},
     "output_type": "execute_result"
    }
   ],
   "source": [
    "loss_list[-1]"
   ]
  },
  {
   "cell_type": "markdown",
   "metadata": {},
   "source": [
    "正則化項実装前に比べ、lossが小さくなった。"
   ]
  },
  {
   "cell_type": "markdown",
   "metadata": {},
   "source": [
    "### 多項式を描画"
   ]
  },
  {
   "cell_type": "code",
   "execution_count": 24,
   "metadata": {},
   "outputs": [
    {
     "data": {
      "image/png": "[encoded data removed]",
      "text/plain": [
       "<Figure size 576x432 with 1 Axes>"
      ]
     },
     "metadata": {},
     "output_type": "display_data"
    }
   ],
   "source": [
    "x=np.arange(-2,2,0.1)\n",
    "x=standardize(x)\n",
    "\n",
    "plt.figure(figsize =(8,6))\n",
    "plt.plot(train_x,train_y,\"o\")\n",
    "plt.plot(x,f(to_matrix(x)), linestyle=\"dashed\")\n",
    "plt.ylim(-0.5,1)\n",
    "plt.grid(color='gray', alpha=0.2)\n",
    "plt.show()"
   ]
  },
  {
   "cell_type": "markdown",
   "metadata": {
    "collapsed": true
   },
   "source": [
    "正則化項実装前に比べ、複雑さが緩和され、過学習が抑えられている。"
   ]
  }
 ],
 "metadata": {
  "kernelspec": {
   "display_name": "Python 3",
   "language": "python",
   "name": "python3"
  },
  "language_info": {
   "codemirror_mode": {
    "name": "ipython",
    "version": 3
   },
   "file_extension": ".py",
   "mimetype": "text/x-python",
   "name": "python",
   "nbconvert_exporter": "python",
   "pygments_lexer": "ipython3",
   "version": "3.6.6"
  }
 },
 "nbformat": 4,
 "nbformat_minor": 2
}
