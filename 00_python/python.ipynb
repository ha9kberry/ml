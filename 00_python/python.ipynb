{
 "cells": [
  {
   "cell_type": "markdown",
   "metadata": {},
   "source": [
    "# Python 備忘録\n",
    "https://qiita.com/tanemaki/items/2ed05e258ef4c9e6caac"
   ]
  },
  {
   "cell_type": "code",
   "execution_count": 1,
   "metadata": {},
   "outputs": [],
   "source": [
    "import numpy as np\n",
    "import pandas as pd\n",
    "import matplotlib.pyplot as plt"
   ]
  },
  {
   "cell_type": "markdown",
   "metadata": {},
   "source": [
    "### データ取得"
   ]
  },
  {
   "cell_type": "code",
   "execution_count": 2,
   "metadata": {},
   "outputs": [],
   "source": [
    "df = pd.DataFrame({\n",
    "    'city': ['osaka', 'osaka', 'osaka', 'osaka', 'tokyo', 'tokyo', 'tokyo'],\n",
    "    'food': ['apple', 'orange', 'banana', 'banana', 'apple', 'apple', 'banana'],\n",
    "    'price': [100, 200, 250, 300, 150, 200, 400],\n",
    "    'quantity': [1, 2, 3, 4, 5, 6, 7]\n",
    "})"
   ]
  },
  {
   "cell_type": "code",
   "execution_count": 3,
   "metadata": {},
   "outputs": [
    {
     "data": {
      "text/html": [
       "<div>\n",
       "<table border=\"1\" class=\"dataframe\">\n",
       "  <thead>\n",
       "    <tr style=\"text-align: right;\">\n",
       "      <th></th>\n",
       "      <th>city</th>\n",
       "      <th>food</th>\n",
       "      <th>price</th>\n",
       "      <th>quantity</th>\n",
       "    </tr>\n",
       "  </thead>\n",
       "  <tbody>\n",
       "    <tr>\n",
       "      <th>0</th>\n",
       "      <td>osaka</td>\n",
       "      <td>apple</td>\n",
       "      <td>100</td>\n",
       "      <td>1</td>\n",
       "    </tr>\n",
       "    <tr>\n",
       "      <th>1</th>\n",
       "      <td>osaka</td>\n",
       "      <td>orange</td>\n",
       "      <td>200</td>\n",
       "      <td>2</td>\n",
       "    </tr>\n",
       "    <tr>\n",
       "      <th>2</th>\n",
       "      <td>osaka</td>\n",
       "      <td>banana</td>\n",
       "      <td>250</td>\n",
       "      <td>3</td>\n",
       "    </tr>\n",
       "    <tr>\n",
       "      <th>3</th>\n",
       "      <td>osaka</td>\n",
       "      <td>banana</td>\n",
       "      <td>300</td>\n",
       "      <td>4</td>\n",
       "    </tr>\n",
       "    <tr>\n",
       "      <th>4</th>\n",
       "      <td>tokyo</td>\n",
       "      <td>apple</td>\n",
       "      <td>150</td>\n",
       "      <td>5</td>\n",
       "    </tr>\n",
       "    <tr>\n",
       "      <th>5</th>\n",
       "      <td>tokyo</td>\n",
       "      <td>apple</td>\n",
       "      <td>200</td>\n",
       "      <td>6</td>\n",
       "    </tr>\n",
       "    <tr>\n",
       "      <th>6</th>\n",
       "      <td>tokyo</td>\n",
       "      <td>banana</td>\n",
       "      <td>400</td>\n",
       "      <td>7</td>\n",
       "    </tr>\n",
       "  </tbody>\n",
       "</table>\n",
       "</div>"
      ],
      "text/plain": [
       "    city    food  price  quantity\n",
       "0  osaka   apple    100         1\n",
       "1  osaka  orange    200         2\n",
       "2  osaka  banana    250         3\n",
       "3  osaka  banana    300         4\n",
       "4  tokyo   apple    150         5\n",
       "5  tokyo   apple    200         6\n",
       "6  tokyo  banana    400         7"
      ]
     },
     "execution_count": 3,
     "metadata": {},
     "output_type": "execute_result"
    }
   ],
   "source": [
    "df"
   ]
  },
  {
   "cell_type": "markdown",
   "metadata": {},
   "source": [
    "### value_counts()"
   ]
  },
  {
   "cell_type": "code",
   "execution_count": 4,
   "metadata": {},
   "outputs": [
    {
     "data": {
      "text/plain": [
       "osaka    4\n",
       "tokyo    3\n",
       "Name: city, dtype: int64"
      ]
     },
     "execution_count": 4,
     "metadata": {},
     "output_type": "execute_result"
    }
   ],
   "source": [
    "# 各カラムの要素の数を取得\n",
    "df[\"city\"].value_counts()"
   ]
  },
  {
   "cell_type": "markdown",
   "metadata": {},
   "source": [
    "### groupby()"
   ]
  },
  {
   "cell_type": "code",
   "execution_count": 5,
   "metadata": {},
   "outputs": [
    {
     "data": {
      "text/html": [
       "<div>\n",
       "<table border=\"1\" class=\"dataframe\">\n",
       "  <thead>\n",
       "    <tr style=\"text-align: right;\">\n",
       "      <th></th>\n",
       "      <th>city</th>\n",
       "      <th>price_mean</th>\n",
       "      <th>quantity_mean</th>\n",
       "    </tr>\n",
       "  </thead>\n",
       "  <tbody>\n",
       "    <tr>\n",
       "      <th>0</th>\n",
       "      <td>osaka</td>\n",
       "      <td>212.5</td>\n",
       "      <td>2.5</td>\n",
       "    </tr>\n",
       "    <tr>\n",
       "      <th>1</th>\n",
       "      <td>tokyo</td>\n",
       "      <td>250.0</td>\n",
       "      <td>6.0</td>\n",
       "    </tr>\n",
       "  </tbody>\n",
       "</table>\n",
       "</div>"
      ],
      "text/plain": [
       "    city  price_mean  quantity_mean\n",
       "0  osaka       212.5            2.5\n",
       "1  tokyo       250.0            6.0"
      ]
     },
     "execution_count": 5,
     "metadata": {},
     "output_type": "execute_result"
    }
   ],
   "source": [
    "# 平均を取得\n",
    "df_mean=df.groupby('city').mean().reset_index()\n",
    "df_mean=df_mean.rename(columns={'price': 'price_mean', 'quantity': 'quantity_mean'})\n",
    "df_mean"
   ]
  },
  {
   "cell_type": "markdown",
   "metadata": {},
   "source": [
    "### merge()"
   ]
  },
  {
   "cell_type": "code",
   "execution_count": 6,
   "metadata": {},
   "outputs": [
    {
     "data": {
      "text/html": [
       "<div>\n",
       "<table border=\"1\" class=\"dataframe\">\n",
       "  <thead>\n",
       "    <tr style=\"text-align: right;\">\n",
       "      <th></th>\n",
       "      <th>city</th>\n",
       "      <th>food</th>\n",
       "      <th>price</th>\n",
       "      <th>quantity</th>\n",
       "      <th>price_mean</th>\n",
       "      <th>quantity_mean</th>\n",
       "    </tr>\n",
       "  </thead>\n",
       "  <tbody>\n",
       "    <tr>\n",
       "      <th>0</th>\n",
       "      <td>osaka</td>\n",
       "      <td>apple</td>\n",
       "      <td>100</td>\n",
       "      <td>1</td>\n",
       "      <td>212.5</td>\n",
       "      <td>2.5</td>\n",
       "    </tr>\n",
       "    <tr>\n",
       "      <th>1</th>\n",
       "      <td>osaka</td>\n",
       "      <td>orange</td>\n",
       "      <td>200</td>\n",
       "      <td>2</td>\n",
       "      <td>212.5</td>\n",
       "      <td>2.5</td>\n",
       "    </tr>\n",
       "    <tr>\n",
       "      <th>2</th>\n",
       "      <td>osaka</td>\n",
       "      <td>banana</td>\n",
       "      <td>250</td>\n",
       "      <td>3</td>\n",
       "      <td>212.5</td>\n",
       "      <td>2.5</td>\n",
       "    </tr>\n",
       "    <tr>\n",
       "      <th>3</th>\n",
       "      <td>osaka</td>\n",
       "      <td>banana</td>\n",
       "      <td>300</td>\n",
       "      <td>4</td>\n",
       "      <td>212.5</td>\n",
       "      <td>2.5</td>\n",
       "    </tr>\n",
       "    <tr>\n",
       "      <th>4</th>\n",
       "      <td>tokyo</td>\n",
       "      <td>apple</td>\n",
       "      <td>150</td>\n",
       "      <td>5</td>\n",
       "      <td>250.0</td>\n",
       "      <td>6.0</td>\n",
       "    </tr>\n",
       "    <tr>\n",
       "      <th>5</th>\n",
       "      <td>tokyo</td>\n",
       "      <td>apple</td>\n",
       "      <td>200</td>\n",
       "      <td>6</td>\n",
       "      <td>250.0</td>\n",
       "      <td>6.0</td>\n",
       "    </tr>\n",
       "    <tr>\n",
       "      <th>6</th>\n",
       "      <td>tokyo</td>\n",
       "      <td>banana</td>\n",
       "      <td>400</td>\n",
       "      <td>7</td>\n",
       "      <td>250.0</td>\n",
       "      <td>6.0</td>\n",
       "    </tr>\n",
       "  </tbody>\n",
       "</table>\n",
       "</div>"
      ],
      "text/plain": [
       "    city    food  price  quantity  price_mean  quantity_mean\n",
       "0  osaka   apple    100         1       212.5            2.5\n",
       "1  osaka  orange    200         2       212.5            2.5\n",
       "2  osaka  banana    250         3       212.5            2.5\n",
       "3  osaka  banana    300         4       212.5            2.5\n",
       "4  tokyo   apple    150         5       250.0            6.0\n",
       "5  tokyo   apple    200         6       250.0            6.0\n",
       "6  tokyo  banana    400         7       250.0            6.0"
      ]
     },
     "execution_count": 6,
     "metadata": {},
     "output_type": "execute_result"
    }
   ],
   "source": [
    "# 平均をデータセットに結合\n",
    "pd.merge(df, df_mean, on='city')"
   ]
  },
  {
   "cell_type": "markdown",
   "metadata": {},
   "source": [
    "### リスト内包表記"
   ]
  },
  {
   "cell_type": "code",
   "execution_count": 7,
   "metadata": {},
   "outputs": [
    {
     "data": {
      "text/plain": [
       "[0, 2, 4, 6, 8]"
      ]
     },
     "execution_count": 7,
     "metadata": {},
     "output_type": "execute_result"
    }
   ],
   "source": [
    "[i for i in range(10) if i%2==0]"
   ]
  },
  {
   "cell_type": "markdown",
   "metadata": {},
   "source": [
    "### 欠損値を含む特徴量"
   ]
  },
  {
   "cell_type": "code",
   "execution_count": 8,
   "metadata": {},
   "outputs": [],
   "source": [
    "for col in df.columns:\n",
    "    null_num = df[col].isnull().sum()\n",
    "    if null_num > 0:\n",
    "        print(col+\" : \"+str(df[col].isnull().sum())+\"(\"+str(df[col].dtype)+\")\")"
   ]
  },
  {
   "cell_type": "markdown",
   "metadata": {},
   "source": [
    "### データ型\n",
    "\n",
    "numpyの基本的な型\n",
    "- 真偽値 (bool),\n",
    "- (符号付き）整数 (int)\n",
    "- 符号なし整数 (uint)\n",
    "- 浮動小数点数 (float)\n",
    "- 複素数 (complex)\n",
    "\n",
    "データ型（bool型除く）は、それぞれ異なるサイズがある。  \n",
    "たとえば、int型なら、\n",
    "\n",
    "- numpy.int8\n",
    "- numpy.int16\n",
    "- numpy.int32\n",
    "- numpy.int64"
   ]
  },
  {
   "cell_type": "code",
   "execution_count": 9,
   "metadata": {},
   "outputs": [
    {
     "data": {
      "text/html": [
       "<div>\n",
       "<table border=\"1\" class=\"dataframe\">\n",
       "  <thead>\n",
       "    <tr style=\"text-align: right;\">\n",
       "      <th></th>\n",
       "      <th>関数</th>\n",
       "      <th>出力範囲</th>\n",
       "      <th>出力タイプ</th>\n",
       "      <th>要素あたりのバイト数</th>\n",
       "    </tr>\n",
       "  </thead>\n",
       "  <tbody>\n",
       "    <tr>\n",
       "      <th>0</th>\n",
       "      <td>int8</td>\n",
       "      <td>-128 ～ 127</td>\n",
       "      <td>符号付き 8 ビット整数</td>\n",
       "      <td>1</td>\n",
       "    </tr>\n",
       "    <tr>\n",
       "      <th>1</th>\n",
       "      <td>int16</td>\n",
       "      <td>-32,768 ～ 32,767</td>\n",
       "      <td>符号付き 16 ビット整数</td>\n",
       "      <td>2</td>\n",
       "    </tr>\n",
       "    <tr>\n",
       "      <th>2</th>\n",
       "      <td>int32</td>\n",
       "      <td>-2,147,483,648 ～ 2,147,483,647</td>\n",
       "      <td>符号付き 32 ビット整数</td>\n",
       "      <td>4</td>\n",
       "    </tr>\n",
       "    <tr>\n",
       "      <th>3</th>\n",
       "      <td>int64</td>\n",
       "      <td>-9,223,372,036,854,775,808 ～ 9,223,372,036,854...</td>\n",
       "      <td>符号付き 64 ビット整数</td>\n",
       "      <td>8</td>\n",
       "    </tr>\n",
       "  </tbody>\n",
       "</table>\n",
       "</div>"
      ],
      "text/plain": [
       "      関数                                               出力範囲          出力タイプ  \\\n",
       "0   int8                                         -128 ～ 127   符号付き 8 ビット整数   \n",
       "1  int16                                   -32,768 ～ 32,767  符号付き 16 ビット整数   \n",
       "2  int32                     -2,147,483,648 ～ 2,147,483,647  符号付き 32 ビット整数   \n",
       "3  int64  -9,223,372,036,854,775,808 ～ 9,223,372,036,854...  符号付き 64 ビット整数   \n",
       "\n",
       "  要素あたりのバイト数  \n",
       "0          1  \n",
       "1          2  \n",
       "2          4  \n",
       "3          8  "
      ]
     },
     "execution_count": 9,
     "metadata": {},
     "output_type": "execute_result"
    }
   ],
   "source": [
    "matrix=[\n",
    "    [\"int8\", \"-128 ～ 127\",  \"符号付き 8 ビット整数\",  \"1\"],\n",
    "    [\"int16\", \"-32,768 ～ 32,767\", \"符号付き 16 ビット整数\", \"2\"],\n",
    "    [\"int32\",  \"-2,147,483,648 ～ 2,147,483,647\" , \"符号付き 32 ビット整数\", \"4\"],\n",
    "    [\"int64\", \"-9,223,372,036,854,775,808 ～ 9,223,372,036,854,775,807\", \"符号付き 64 ビット整数\",  \"8\"]\n",
    "]\n",
    "pd.DataFrame(\n",
    "    matrix,\n",
    "    columns=[\"関数\", \"出力範囲\", \"出力タイプ\", \"要素あたりのバイト数\"]\n",
    ")"
   ]
  },
  {
   "cell_type": "code",
   "execution_count": 10,
   "metadata": {},
   "outputs": [
    {
     "data": {
      "text/plain": [
       "dtype('int64')"
      ]
     },
     "execution_count": 10,
     "metadata": {},
     "output_type": "execute_result"
    }
   ],
   "source": [
    "a = np.array([1, 2, 3])\n",
    "a.dtype"
   ]
  },
  {
   "cell_type": "code",
   "execution_count": 11,
   "metadata": {},
   "outputs": [
    {
     "data": {
      "text/plain": [
       "dtype('float64')"
      ]
     },
     "execution_count": 11,
     "metadata": {},
     "output_type": "execute_result"
    }
   ],
   "source": [
    "# 演算で型変更される\n",
    "b=a*0.1\n",
    "b.dtype"
   ]
  },
  {
   "cell_type": "code",
   "execution_count": 12,
   "metadata": {},
   "outputs": [
    {
     "data": {
      "text/plain": [
       "array([5, 2, 3])"
      ]
     },
     "execution_count": 12,
     "metadata": {},
     "output_type": "execute_result"
    }
   ],
   "source": [
    "# 代入は型を変更しない\n",
    "a[0]=5.5\n",
    "a"
   ]
  },
  {
   "cell_type": "code",
   "execution_count": 13,
   "metadata": {},
   "outputs": [
    {
     "data": {
      "text/plain": [
       "dtype('int64')"
      ]
     },
     "execution_count": 13,
     "metadata": {},
     "output_type": "execute_result"
    }
   ],
   "source": [
    "a.dtype"
   ]
  },
  {
   "cell_type": "markdown",
   "metadata": {},
   "source": [
    "### プロットレイアウト"
   ]
  },
  {
   "cell_type": "code",
   "execution_count": 16,
   "metadata": {},
   "outputs": [
    {
     "data": {
      "image/png": "[encoded data removed]",
      "text/plain": [
       "<Figure size 288x216 with 2 Axes>"
      ]
     },
     "metadata": {},
     "output_type": "display_data"
    }
   ],
   "source": [
    "plt.figure(figsize=(4,3))\n",
    "plt.subplot(1, 2, 1)\n",
    "plt.plot([0, 1],[0, 1],color=\"red\")\n",
    "plt.grid(color='gray', alpha=0.2)\n",
    "plt.subplot(1, 2, 2)\n",
    "plt.plot([0, 1],[0, 1],color=\"blue\")\n",
    "plt.grid(color='gray', alpha=0.2)\n",
    "plt.tight_layout()\n",
    "plt.show()"
   ]
  },
  {
   "cell_type": "code",
   "execution_count": null,
   "metadata": {},
   "outputs": [],
   "source": []
  }
 ],
 "metadata": {
  "kernelspec": {
   "display_name": "Python 3",
   "language": "python",
   "name": "python3"
  },
  "language_info": {
   "codemirror_mode": {
    "name": "ipython",
    "version": 3
   },
   "file_extension": ".py",
   "mimetype": "text/x-python",
   "name": "python",
   "nbconvert_exporter": "python",
   "pygments_lexer": "ipython3",
   "version": "3.6.6"
  }
 },
 "nbformat": 4,
 "nbformat_minor": 2
}
