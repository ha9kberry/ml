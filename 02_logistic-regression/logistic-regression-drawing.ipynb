{
 "cells": [
  {
   "cell_type": "markdown",
   "metadata": {},
   "source": [
    "# ロジスティック回帰の描画\n",
    "2値分類の描画"
   ]
  },
  {
   "cell_type": "code",
   "execution_count": 2,
   "metadata": {},
   "outputs": [],
   "source": [
    "import numpy as np\n",
    "import matplotlib.pyplot as plt"
   ]
  },
  {
   "cell_type": "code",
   "execution_count": 3,
   "metadata": {},
   "outputs": [],
   "source": [
    "train_x=np.array([\n",
    "    [153,432],\n",
    "    [220,262],\n",
    "    [118,214],\n",
    "    [474,384],\n",
    "    [485,411],\n",
    "    [233,430],\n",
    "    [396,361],\n",
    "    [484,349],\n",
    "    [429,256],\n",
    "    [286,220],\n",
    "    [399,433],\n",
    "    [403,340],\n",
    "    [252,34],\n",
    "    [497,472],\n",
    "    [379,416],\n",
    "    [76,163],\n",
    "    [263,112],\n",
    "    [26,193],\n",
    "    [61,473],\n",
    "    [420,253]\n",
    "])"
   ]
  },
  {
   "cell_type": "code",
   "execution_count": 4,
   "metadata": {},
   "outputs": [],
   "source": [
    "train_y=np.array([0,0,0,1,1,0,1,1,1,1,0,1,1,1,0,0,1,0,0,1])"
   ]
  },
  {
   "cell_type": "code",
   "execution_count": 5,
   "metadata": {},
   "outputs": [
    {
     "name": "stdout",
     "output_type": "stream",
     "text": [
      "9\n",
      "11\n"
     ]
    }
   ],
   "source": [
    "print(np.sum(train_y==0))\n",
    "print(np.sum(train_y==1))"
   ]
  },
  {
   "cell_type": "code",
   "execution_count": 6,
   "metadata": {},
   "outputs": [],
   "source": [
    "# 標準化（平均０、標準偏差１）\n",
    "def standardize(x):\n",
    "    return (x-train_x.mean(axis=0))/train_x.std(axis=0)"
   ]
  },
  {
   "cell_type": "code",
   "execution_count": 7,
   "metadata": {},
   "outputs": [],
   "source": [
    "train_str_x=standardize(train_x)"
   ]
  },
  {
   "cell_type": "code",
   "execution_count": 8,
   "metadata": {},
   "outputs": [
    {
     "data": {
      "image/png": "[encoded data removed]",
      "text/plain": [
       "<Figure size 432x288 with 1 Axes>"
      ]
     },
     "metadata": {},
     "output_type": "display_data"
    }
   ],
   "source": [
    "plt.plot(train_str_x[train_y==1,0],train_str_x[train_y==1,1],\"o\")\n",
    "plt.plot(train_str_x[train_y==0,0],train_str_x[train_y==0,1],\"x\")\n",
    "plt.ylim(-2.5,1.5)\n",
    "plt.grid(color='gray', alpha=0.2)\n",
    "plt.show()"
   ]
  },
  {
   "cell_type": "code",
   "execution_count": 9,
   "metadata": {},
   "outputs": [],
   "source": [
    "def to_matrix(x):\n",
    "    x0=np.ones([x.shape[0],1])\n",
    "    return np.concatenate((x0,x),axis=1)"
   ]
  },
  {
   "cell_type": "code",
   "execution_count": 10,
   "metadata": {},
   "outputs": [
    {
     "data": {
      "text/plain": [
       "array([[ 1.        , -0.99163844,  0.98368742],\n",
       "       [ 1.        , -0.54781896, -0.39153348],\n",
       "       [ 1.        , -1.22348444, -0.77983115],\n",
       "       [ 1.        ,  1.13472054,  0.59538976],\n",
       "       [ 1.        ,  1.20758642,  0.81380719],\n",
       "       [ 1.        , -0.46170474,  0.96750835],\n",
       "       [ 1.        ,  0.61803518,  0.40933046],\n",
       "       [ 1.        ,  1.20096225,  0.31225604],\n",
       "       [ 1.        ,  0.83663283, -0.44007069],\n",
       "       [ 1.        , -0.11062366, -0.73129394],\n",
       "       [ 1.        ,  0.63790769,  0.99177696],\n",
       "       [ 1.        ,  0.66440438,  0.23945023],\n",
       "       [ 1.        , -0.33584548, -2.2359474 ],\n",
       "       [ 1.        ,  1.28707648,  1.30726881],\n",
       "       [ 1.        ,  0.50542427,  0.85425487],\n",
       "       [ 1.        , -1.50169963, -1.19239742],\n",
       "       [ 1.        , -0.2629796 , -1.60496369],\n",
       "       [ 1.        , -1.83290819, -0.94971138],\n",
       "       [ 1.        , -1.6010622 ,  1.31535835],\n",
       "       [ 1.        ,  0.77701529, -0.46433929]])"
      ]
     },
     "execution_count": 10,
     "metadata": {},
     "output_type": "execute_result"
    }
   ],
   "source": [
    "X=to_matrix(train_str_x)\n",
    "X"
   ]
  },
  {
   "cell_type": "code",
   "execution_count": 11,
   "metadata": {},
   "outputs": [],
   "source": [
    "# シグモイド関数\n",
    "def sigmoid(x):\n",
    "    return 1/(1+np.exp(-np.dot(x,theta)))\n",
    "    "
   ]
  },
  {
   "cell_type": "code",
   "execution_count": 12,
   "metadata": {},
   "outputs": [],
   "source": [
    "# 平均２乗誤差\n",
    "def mse(x,y):\n",
    "    return (1/x.shape[0])*np.sum((y-f(x))**2)"
   ]
  },
  {
   "cell_type": "code",
   "execution_count": 13,
   "metadata": {},
   "outputs": [],
   "source": [
    "# 学習率\n",
    "alpha=0.001\n",
    "# 反復回数\n",
    "iteration=1000"
   ]
  },
  {
   "cell_type": "code",
   "execution_count": 14,
   "metadata": {},
   "outputs": [],
   "source": [
    "# パラメーター初期化\n",
    "np.random.seed(0)\n",
    "theta=np.random.randn(X.shape[1])\n",
    "\n",
    "acc_list=[]\n",
    "\n",
    "for i in range(iteration):\n",
    "    theta=theta-alpha*np.dot(sigmoid(X)-train_y,X)\n",
    "    mse=(1/X.shape[0])*np.sum((train_y-sigmoid(X))**2)\n",
    "    acc=np.sum((sigmoid(X)>0.5).astype(np.int)==train_y)/len(train_y)\n",
    "    acc_list.append(acc)\n",
    "    \n",
    "    #log=\"{}/{} ： mse={:.3f}, acc={:.3f}\"\n",
    "    #print(log.format(i+1,iteration,mse,acc))\n",
    "\n"
   ]
  },
  {
   "cell_type": "code",
   "execution_count": 15,
   "metadata": {},
   "outputs": [
    {
     "data": {
      "image/png": "[encoded data removed]",
      "text/plain": [
       "<Figure size 432x288 with 1 Axes>"
      ]
     },
     "metadata": {},
     "output_type": "display_data"
    }
   ],
   "source": [
    "# ロジスティック回帰では sigmoid(x)=0.5のとき、つまり np.dot(x,theta)=0 が決定境界になる\n",
    "x=np.arange(-2,1.5,0.1)\n",
    "plt.plot(train_str_x[train_y==1,0],train_str_x[train_y==1,1],\"o\")\n",
    "plt.plot(train_str_x[train_y==0,0],train_str_x[train_y==0,1],\"x\")\n",
    "plt.plot(x,-(theta[0]+theta[1]*x)/theta[2],linestyle=\"dashed\")\n",
    "plt.ylim(-2.5,1.5)\n",
    "plt.grid(color='gray', alpha=0.2)\n",
    "plt.show()"
   ]
  },
  {
   "cell_type": "code",
   "execution_count": 16,
   "metadata": {},
   "outputs": [
    {
     "data": {
      "image/png": "[encoded data removed]",
      "text/plain": [
       "<Figure size 432x288 with 1 Axes>"
      ]
     },
     "metadata": {},
     "output_type": "display_data"
    }
   ],
   "source": [
    "iter=np.arange(len(acc_list))\n",
    "plt.plot(iter, acc_list)\n",
    "plt.grid(color='gray', alpha=0.2)\n",
    "plt.show()"
   ]
  },
  {
   "cell_type": "code",
   "execution_count": 17,
   "metadata": {},
   "outputs": [
    {
     "data": {
      "text/plain": [
       "array([[0.9833468 ],\n",
       "       [0.30010562],\n",
       "       [1.49691416],\n",
       "       [1.2875907 ],\n",
       "       [1.45826497],\n",
       "       [0.21317127],\n",
       "       [0.38196748],\n",
       "       [1.44231033],\n",
       "       [0.6999545 ],\n",
       "       [0.01223759],\n",
       "       [0.40692623],\n",
       "       [0.44143318],\n",
       "       [0.11279219],\n",
       "       [1.65656586],\n",
       "       [0.25545369],\n",
       "       [2.25510178],\n",
       "       [0.06915827],\n",
       "       [3.35955245],\n",
       "       [2.56340016],\n",
       "       [0.60375276]])"
      ]
     },
     "execution_count": 17,
     "metadata": {},
     "output_type": "execute_result"
    }
   ],
   "source": [
    "train_str_x[:,0,None]**2"
   ]
  },
  {
   "cell_type": "code",
   "execution_count": 18,
   "metadata": {},
   "outputs": [],
   "source": [
    "X=np.concatenate((X,train_str_x[:,0,None]**2),axis=1)"
   ]
  },
  {
   "cell_type": "code",
   "execution_count": 19,
   "metadata": {},
   "outputs": [
    {
     "data": {
      "text/plain": [
       "array([[ 1.        , -0.99163844,  0.98368742,  0.9833468 ],\n",
       "       [ 1.        , -0.54781896, -0.39153348,  0.30010562],\n",
       "       [ 1.        , -1.22348444, -0.77983115,  1.49691416],\n",
       "       [ 1.        ,  1.13472054,  0.59538976,  1.2875907 ],\n",
       "       [ 1.        ,  1.20758642,  0.81380719,  1.45826497],\n",
       "       [ 1.        , -0.46170474,  0.96750835,  0.21317127],\n",
       "       [ 1.        ,  0.61803518,  0.40933046,  0.38196748],\n",
       "       [ 1.        ,  1.20096225,  0.31225604,  1.44231033],\n",
       "       [ 1.        ,  0.83663283, -0.44007069,  0.6999545 ],\n",
       "       [ 1.        , -0.11062366, -0.73129394,  0.01223759],\n",
       "       [ 1.        ,  0.63790769,  0.99177696,  0.40692623],\n",
       "       [ 1.        ,  0.66440438,  0.23945023,  0.44143318],\n",
       "       [ 1.        , -0.33584548, -2.2359474 ,  0.11279219],\n",
       "       [ 1.        ,  1.28707648,  1.30726881,  1.65656586],\n",
       "       [ 1.        ,  0.50542427,  0.85425487,  0.25545369],\n",
       "       [ 1.        , -1.50169963, -1.19239742,  2.25510178],\n",
       "       [ 1.        , -0.2629796 , -1.60496369,  0.06915827],\n",
       "       [ 1.        , -1.83290819, -0.94971138,  3.35955245],\n",
       "       [ 1.        , -1.6010622 ,  1.31535835,  2.56340016],\n",
       "       [ 1.        ,  0.77701529, -0.46433929,  0.60375276]])"
      ]
     },
     "execution_count": 19,
     "metadata": {},
     "output_type": "execute_result"
    }
   ],
   "source": [
    "X"
   ]
  },
  {
   "cell_type": "code",
   "execution_count": 20,
   "metadata": {},
   "outputs": [],
   "source": [
    "# 学習率\n",
    "alpha=0.001\n",
    "# 反復回数\n",
    "iteration=1000\n",
    "\n",
    "# パラメーター初期化\n",
    "np.random.seed(0)\n",
    "theta=np.random.randn(X.shape[1])\n",
    "\n",
    "acc_list=[]\n",
    "\n",
    "for i in range(iteration):\n",
    "    theta=theta-alpha*np.dot(sigmoid(X)-train_y,X)\n",
    "    mse=(1/X.shape[0])*np.sum((train_y-sigmoid(X))**2)\n",
    "    acc=np.sum((sigmoid(X)>0.5).astype(np.int)==train_y)/len(train_y)\n",
    "    acc_list.append(acc)\n",
    "    \n",
    "    #log=\"{}/{} ： mse={:.3f}, acc={:.3f}\"\n",
    "    #print(log.format(i+1,iteration,mse,acc))"
   ]
  },
  {
   "cell_type": "code",
   "execution_count": 21,
   "metadata": {},
   "outputs": [
    {
     "data": {
      "image/png": "[encoded data removed]",
      "text/plain": [
       "<Figure size 432x288 with 1 Axes>"
      ]
     },
     "metadata": {},
     "output_type": "display_data"
    }
   ],
   "source": [
    "# ロジスティック回帰では sigmoid(x)=0.5のとき、つまり np.dot(x,theta)=0 が決定境界になる\n",
    "x=np.arange(-2,1.5,0.1)\n",
    "plt.plot(train_str_x[train_y==1,0],train_str_x[train_y==1,1],\"o\")\n",
    "plt.plot(train_str_x[train_y==0,0],train_str_x[train_y==0,1],\"x\")\n",
    "plt.plot(x,-(theta[0]+theta[1]*x+theta[3]*x**2)/theta[2],linestyle=\"dashed\")\n",
    "plt.ylim(-2.5,1.5)\n",
    "plt.grid(color='gray', alpha=0.2)\n",
    "plt.show()"
   ]
  },
  {
   "cell_type": "code",
   "execution_count": 22,
   "metadata": {},
   "outputs": [
    {
     "data": {
      "image/png": "[encoded data removed]",
      "text/plain": [
       "<Figure size 432x288 with 1 Axes>"
      ]
     },
     "metadata": {},
     "output_type": "display_data"
    }
   ],
   "source": [
    "iter=np.arange(len(acc_list))\n",
    "plt.plot(iter, acc_list)\n",
    "plt.grid(color='gray', alpha=0.2)\n",
    "plt.show()"
   ]
  },
  {
   "cell_type": "code",
   "execution_count": null,
   "metadata": {
    "collapsed": true
   },
   "outputs": [],
   "source": []
  }
 ],
 "metadata": {
  "kernelspec": {
   "display_name": "Python 3",
   "language": "python",
   "name": "python3"
  },
  "language_info": {
   "codemirror_mode": {
    "name": "ipython",
    "version": 3
   },
   "file_extension": ".py",
   "mimetype": "text/x-python",
   "name": "python",
   "nbconvert_exporter": "python",
   "pygments_lexer": "ipython3",
   "version": "3.6.6"
  }
 },
 "nbformat": 4,
 "nbformat_minor": 2
}
