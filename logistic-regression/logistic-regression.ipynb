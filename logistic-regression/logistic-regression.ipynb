{
 "cells": [
  {
   "cell_type": "markdown",
   "metadata": {},
   "source": [
    "# ロジスティック回帰\n",
    "Iris Speciesのデータセットを使用して、ロジスティック回帰アルゴリズムによるモデルを構築"
   ]
  },
  {
   "cell_type": "markdown",
   "metadata": {},
   "source": [
    "## データ取得\n",
    "\n",
    "データセット：Iris Species  \n",
    "https://www.kaggle.com/uciml/iris/data"
   ]
  },
  {
   "cell_type": "code",
   "execution_count": 1,
   "metadata": {},
   "outputs": [
    {
     "data": {
      "text/html": [
       "<div>\n",
       "<table border=\"1\" class=\"dataframe\">\n",
       "  <thead>\n",
       "    <tr style=\"text-align: right;\">\n",
       "      <th></th>\n",
       "      <th>Id</th>\n",
       "      <th>SepalLengthCm</th>\n",
       "      <th>SepalWidthCm</th>\n",
       "      <th>PetalLengthCm</th>\n",
       "      <th>PetalWidthCm</th>\n",
       "      <th>Species</th>\n",
       "    </tr>\n",
       "  </thead>\n",
       "  <tbody>\n",
       "    <tr>\n",
       "      <th>0</th>\n",
       "      <td>1</td>\n",
       "      <td>5.1</td>\n",
       "      <td>3.5</td>\n",
       "      <td>1.4</td>\n",
       "      <td>0.2</td>\n",
       "      <td>Iris-setosa</td>\n",
       "    </tr>\n",
       "    <tr>\n",
       "      <th>1</th>\n",
       "      <td>2</td>\n",
       "      <td>4.9</td>\n",
       "      <td>3.0</td>\n",
       "      <td>1.4</td>\n",
       "      <td>0.2</td>\n",
       "      <td>Iris-setosa</td>\n",
       "    </tr>\n",
       "    <tr>\n",
       "      <th>2</th>\n",
       "      <td>3</td>\n",
       "      <td>4.7</td>\n",
       "      <td>3.2</td>\n",
       "      <td>1.3</td>\n",
       "      <td>0.2</td>\n",
       "      <td>Iris-setosa</td>\n",
       "    </tr>\n",
       "    <tr>\n",
       "      <th>3</th>\n",
       "      <td>4</td>\n",
       "      <td>4.6</td>\n",
       "      <td>3.1</td>\n",
       "      <td>1.5</td>\n",
       "      <td>0.2</td>\n",
       "      <td>Iris-setosa</td>\n",
       "    </tr>\n",
       "    <tr>\n",
       "      <th>4</th>\n",
       "      <td>5</td>\n",
       "      <td>5.0</td>\n",
       "      <td>3.6</td>\n",
       "      <td>1.4</td>\n",
       "      <td>0.2</td>\n",
       "      <td>Iris-setosa</td>\n",
       "    </tr>\n",
       "  </tbody>\n",
       "</table>\n",
       "</div>"
      ],
      "text/plain": [
       "   Id  SepalLengthCm  SepalWidthCm  PetalLengthCm  PetalWidthCm      Species\n",
       "0   1            5.1           3.5            1.4           0.2  Iris-setosa\n",
       "1   2            4.9           3.0            1.4           0.2  Iris-setosa\n",
       "2   3            4.7           3.2            1.3           0.2  Iris-setosa\n",
       "3   4            4.6           3.1            1.5           0.2  Iris-setosa\n",
       "4   5            5.0           3.6            1.4           0.2  Iris-setosa"
      ]
     },
     "execution_count": 1,
     "metadata": {},
     "output_type": "execute_result"
    }
   ],
   "source": [
    "import numpy as np\n",
    "import pandas as pd\n",
    "import matplotlib.pyplot as plt\n",
    "%matplotlib inline\n",
    "\n",
    "iris_df = pd.read_csv('input/Iris.csv')\n",
    "iris_df.head()"
   ]
  },
  {
   "cell_type": "markdown",
   "metadata": {},
   "source": [
    "## ２値分類\n",
    "今回は以下のクラスを分類\n",
    "- Iris-versicolor\n",
    "- Iris-virginica"
   ]
  },
  {
   "cell_type": "code",
   "execution_count": 2,
   "metadata": {},
   "outputs": [],
   "source": [
    "iris_df=iris_df[iris_df[\"Species\"]!=\"Iris-setosa\"]\n",
    "\n",
    "x_df=iris_df[['SepalLengthCm', 'SepalWidthCm', 'PetalLengthCm', 'PetalWidthCm']]\n",
    "y_df=iris_df[[\"Species\"]]"
   ]
  },
  {
   "cell_type": "code",
   "execution_count": 3,
   "metadata": {},
   "outputs": [
    {
     "data": {
      "text/plain": [
       "array(['Iris-versicolor', 'Iris-virginica'], dtype=object)"
      ]
     },
     "execution_count": 3,
     "metadata": {},
     "output_type": "execute_result"
    }
   ],
   "source": [
    "y_df[\"Species\"].unique()"
   ]
  },
  {
   "cell_type": "markdown",
   "metadata": {},
   "source": [
    "## EDA"
   ]
  },
  {
   "cell_type": "code",
   "execution_count": 4,
   "metadata": {},
   "outputs": [
    {
     "name": "stdout",
     "output_type": "stream",
     "text": [
      "<class 'pandas.core.frame.DataFrame'>\n",
      "Int64Index: 100 entries, 50 to 149\n",
      "Data columns (total 6 columns):\n",
      "Id               100 non-null int64\n",
      "SepalLengthCm    100 non-null float64\n",
      "SepalWidthCm     100 non-null float64\n",
      "PetalLengthCm    100 non-null float64\n",
      "PetalWidthCm     100 non-null float64\n",
      "Species          100 non-null object\n",
      "dtypes: float64(4), int64(1), object(1)\n",
      "memory usage: 5.5+ KB\n"
     ]
    }
   ],
   "source": [
    "iris_df.info()"
   ]
  },
  {
   "cell_type": "markdown",
   "metadata": {},
   "source": [
    "- 総データ数100（Iris-setosaデータ除く）\n",
    "- IDを除いて４つの特徴（花弁とがく片それぞれの長さと幅）\n",
    "- null値なし\n",
    "- 説明変数は、すべて数値\n",
    "- 目的変数はカテゴリカルデータ"
   ]
  },
  {
   "cell_type": "code",
   "execution_count": 7,
   "metadata": {},
   "outputs": [
    {
     "data": {
      "text/plain": [
       "[<matplotlib.lines.Line2D at 0x11be91860>]"
      ]
     },
     "execution_count": 7,
     "metadata": {},
     "output_type": "execute_result"
    },
    {
     "data": {
      "image/png": "[encoded data removed]",
      "text/plain": [
       "<Figure size 432x288 with 1 Axes>"
      ]
     },
     "metadata": {},
     "output_type": "display_data"
    }
   ],
   "source": [
    "iris_versicolor = iris_df[iris_df['Species'] == 'Iris-versicolor']\n",
    "iris_virginica  = iris_df[iris_df['Species']=='Iris-virginica']\n",
    "\n",
    "plt.plot(iris_versicolor[\"SepalLengthCm\"], iris_versicolor['SepalWidthCm'], 'o')\n",
    "plt.plot(iris_virginica[\"SepalLengthCm\"], iris_virginica['SepalWidthCm'], 'o')"
   ]
  },
  {
   "cell_type": "code",
   "execution_count": 9,
   "metadata": {},
   "outputs": [
    {
     "data": {
      "text/plain": [
       "[<matplotlib.lines.Line2D at 0x11bcfc828>]"
      ]
     },
     "execution_count": 9,
     "metadata": {},
     "output_type": "execute_result"
    },
    {
     "data": {
      "image/png": "[encoded data removed]",
      "text/plain": [
       "<Figure size 432x288 with 1 Axes>"
      ]
     },
     "metadata": {},
     "output_type": "display_data"
    }
   ],
   "source": [
    "plt.plot(iris_versicolor['PetalLengthCm'], iris_versicolor['PetalWidthCm'], 'o')\n",
    "plt.plot(iris_virginica['PetalLengthCm'], iris_virginica['PetalWidthCm'], 'o')"
   ]
  },
  {
   "cell_type": "markdown",
   "metadata": {},
   "source": [
    "## 数式の実装"
   ]
  },
  {
   "cell_type": "markdown",
   "metadata": {},
   "source": [
    "### sigmoid function（シグモイド関数）"
   ]
  },
  {
   "cell_type": "markdown",
   "metadata": {},
   "source": [
    "$g(z) = \\frac{1}{1 + e^{-z}}$"
   ]
  },
  {
   "cell_type": "code",
   "execution_count": 337,
   "metadata": {},
   "outputs": [
    {
     "data": {
      "text/plain": [
       "0.6224593312018546"
      ]
     },
     "execution_count": 337,
     "metadata": {},
     "output_type": "execute_result"
    }
   ],
   "source": [
    "def sigmoid(z):\n",
    "    s = 1 / (1 + np.exp(-z))\n",
    "    return s\n",
    "\n",
    "sigmoid(0.5)"
   ]
  },
  {
   "cell_type": "markdown",
   "metadata": {},
   "source": [
    "### なぜロジスティック回帰はシグモイド関数を用いるのか\n",
    "\n",
    "前提として予測する出力が数値ではなくカテゴリーに属するかどうかの確率になる。\n",
    "このため\n",
    "\n",
    "- $h_\\theta(x)$がどんな値を取ったときも0から1の値を取ることができる。\n",
    "- $x_1 < x_2$のとき$h_\\theta(x_1) < h_\\theta(x_2)$が成り立つ。\n",
    "- $\\theta^Tx$ の正負で分類ができるので判定が簡単\n",
    "\n",
    "上記を満たすためロジスティック関数ではシグモイド関数を用いる。"
   ]
  },
  {
   "cell_type": "markdown",
   "metadata": {},
   "source": [
    "### シグモイド関数を描画"
   ]
  },
  {
   "cell_type": "code",
   "execution_count": 338,
   "metadata": {},
   "outputs": [
    {
     "data": {
      "image/png": "[encoded data removed]",
      "text/plain": [
       "<matplotlib.figure.Figure at 0x11428e390>"
      ]
     },
     "metadata": {},
     "output_type": "display_data"
    }
   ],
   "source": [
    "import math\n",
    "\n",
    "x = np.arange(-10, 10, 0.1)\n",
    "e = math.e\n",
    "\n",
    "y = 1 / (1 + e**-x)\n",
    "\n",
    "plt.plot(x, y)\n",
    "plt.xlabel(\"dot(theta.T, X)\")\n",
    "plt.ylabel(\"probability\")\n",
    "plt.title(\"Sigmoid function\")\n",
    "plt.show()"
   ]
  },
  {
   "cell_type": "markdown",
   "metadata": {},
   "source": [
    "### 正則化とは\n",
    "\n",
    "モデルが複雑（高次数、多特徴量）であるほど、表現力が高くなり、実測値に対して過剰適合（過学習）を起こしやすくなる。  \n",
    "正則化とは、各特徴量の係数に当たるパラメータ $\\theta$（重み）の値を小さくさせ（ペナルティを与えて）、$\\theta$が大きい値を取らないように補正することである。"
   ]
  },
  {
   "cell_type": "markdown",
   "metadata": {},
   "source": [
    "## ロジスティック回帰における、目的関数（コスト関数）\n",
    "ロジスティック回帰における目的関数（コスト関数）を実装  "
   ]
  },
  {
   "cell_type": "markdown",
   "metadata": {},
   "source": [
    "$h_θ(x) = g(θ^T x).$\n",
    "\n",
    "$g(z) = \\frac{1}{1 + e^{-z}}$\n",
    "\n",
    "$J(\\theta) = \\frac{1}{m} \\displaystyle\\sum_{i=1}^{m}[-y^{(i)} log(h_\\theta(x^{(i)})) - (1 - y^{(i)}) log(1 - h_\\theta(x^{(i)}))] +\n",
    "\\frac{λ}{2m} \\displaystyle\\sum_{j=1}^n\n",
    "\\theta^2_j.$"
   ]
  },
  {
   "cell_type": "code",
   "execution_count": 10,
   "metadata": {},
   "outputs": [
    {
     "name": "stderr",
     "output_type": "stream",
     "text": [
      "/Users/enomoto/.pyenv/versions/anaconda3-4.3.0/lib/python3.6/site-packages/ipykernel_launcher.py:2: SettingWithCopyWarning: \n",
      "A value is trying to be set on a copy of a slice from a DataFrame.\n",
      "Try using .loc[row_indexer,col_indexer] = value instead\n",
      "\n",
      "See the caveats in the documentation: http://pandas.pydata.org/pandas-docs/stable/indexing.html#indexing-view-versus-copy\n",
      "  \n"
     ]
    }
   ],
   "source": [
    "# 切片追加\n",
    "x_df[\"x0\"] = 1\n",
    "# 切片カラムを列の先頭に並び替え\n",
    "x_df=x_df.iloc[:,[4, 0,1,2,3]]"
   ]
  },
  {
   "cell_type": "code",
   "execution_count": 11,
   "metadata": {},
   "outputs": [],
   "source": [
    "# 初期値パラメーター設定（切片含め特徴量が５つあるため）\n",
    "theta = np.random.rand(5)"
   ]
  },
  {
   "cell_type": "code",
   "execution_count": 12,
   "metadata": {},
   "outputs": [
    {
     "name": "stderr",
     "output_type": "stream",
     "text": [
      "/Users/enomoto/.pyenv/versions/anaconda3-4.3.0/lib/python3.6/site-packages/ipykernel_launcher.py:8: SettingWithCopyWarning: \n",
      "A value is trying to be set on a copy of a slice from a DataFrame.\n",
      "Try using .loc[row_indexer,col_indexer] = value instead\n",
      "\n",
      "See the caveats in the documentation: http://pandas.pydata.org/pandas-docs/stable/indexing.html#indexing-view-versus-copy\n",
      "  \n"
     ]
    }
   ],
   "source": [
    "# 固有の要素を取得\n",
    "y_df[\"Species\"].unique()\n",
    "# enumerate：インデックス番号、要素の順位に取得\n",
    "class_mapping = {x:i for i, x in enumerate(y_df[\"Species\"].unique())}\n",
    "# カテゴリカルデータを数値に変換\n",
    "# Iris-versicolor→0\n",
    "# Iris-virginica→1\n",
    "y_df[\"Species\"]=y_df[\"Species\"].map(class_mapping)"
   ]
  },
  {
   "cell_type": "code",
   "execution_count": 342,
   "metadata": {},
   "outputs": [
    {
     "data": {
      "text/plain": [
       "5.237056250704451"
      ]
     },
     "execution_count": 342,
     "metadata": {},
     "output_type": "execute_result"
    }
   ],
   "source": [
    "def compute_cost(X, y, theta, lam):\n",
    "    # 仮説関数作成→各データの行列積を取得\n",
    "    z=np.dot(X,theta)\n",
    "    # シグモイド関数に代入\n",
    "    sig=sigmoid(z)\n",
    "    # 総データ数\n",
    "    m=len(X)\n",
    "    # 正則化項：regularization\n",
    "    reg_term=(lam / (2*m))*(theta**2).sum()\n",
    "    # 目的関数\n",
    "    return (-1*y*np.log(sig) - (1 - y)*np.log(1 - sig)).sum() / m + reg_term\n",
    "\n",
    "X=x_df\n",
    "y=y_df[\"Species\"]\n",
    "lam=0.01\n",
    "\n",
    "compute_cost(X, y, theta, lam)"
   ]
  },
  {
   "cell_type": "markdown",
   "metadata": {},
   "source": [
    "## 二乗誤差と交差エントロピー誤差★\n",
    "なぜロジスティック回帰では二乗誤差ではなく交差エントロピー誤差関数を目的関数とするのか。\n",
    "\n",
    "**回帰問題の目的は予測した誤差を最小にするのが目的であるのに対し、\n",
    "分類問題の目的はそれぞれのデータがあるクラスと予測する確率を出し、すべてのデータで予測した分類が正解する、つまりそれぞれの事象の同時確率が最大になることが目的となるため。**\n",
    "\n",
    "各データの同時確率（積集合）が目的関数になる。\n",
    "これだとそれぞれ0~1の値を取るためデータ数が増えるとアンダーフローになり正しく判定できなくなる。\n",
    "これを防ぐために対数をとった式が今回採用する交差誤差エントロピー誤差関数となる。\n",
    "(合わせて正規化もできるというメリットもある。）\n",
    "\n",
    "\n",
    "それぞれのデータのクラスに分類できる確率の同時確率は下記で表される。\n",
    "この確率を最大化したい。\n",
    "\n",
    "$J(\\theta) = \\frac{1}{m} \\displaystyle \\prod_{i=1}^m [y^{(i)}prob(x)^{(i)}+(1-y)^{(i)}(1-prob(x^{(i)}))]$\n",
    "\n",
    "これだと各データの分類確率が0~1なのでかなり小さい値になってしまい、プログラム計算上不都合なので対数を取る。\n",
    "\n",
    "\n",
    "$ J(\\theta) = \\frac{1}{m} log \\displaystyle \\prod_{i=1}^m [y^{(i)}prob(x)^{(i)}+(1-y)^{(i)}(1-prob(x^{(i)}))]$\n",
    "\n",
    "$\\log ab = \\log a + \\log b$ の性質より\n",
    "\n",
    "$ J(\\theta) = \\frac{1}{m} log \\displaystyle \\prod_{i=1}^m [y^{(i)}prob(x)^{(i)}+(1-y)^{(i)}(1-prob(x^{(i)}))]$"
   ]
  },
  {
   "cell_type": "markdown",
   "metadata": {},
   "source": [
    "## 最急降下法(勾配降下法、GradientDescent)"
   ]
  },
  {
   "cell_type": "markdown",
   "metadata": {},
   "source": [
    "$\\frac{\\partial J(\\theta)}{\\partial \\theta_0} = \\frac{1}{m}  \\sum_{i=1}^{m}(h_θ(x^{(i)}) − y^{(i)})x_j^{(i)}  ,j = 0$\n",
    "\n",
    "$\\frac{\\partial J(\\theta)}{\\partial \\theta_j} = \\biggl(\\frac{1}{m}  \\sum_{i=1}^{m}(h_θ(x^{(i)}) − y^{(i)})x_j^{(i)} \\biggr) + \\frac{λ}{m}\\theta_j　 ,j\\geq 1$"
   ]
  },
  {
   "cell_type": "code",
   "execution_count": 343,
   "metadata": {
    "collapsed": true
   },
   "outputs": [],
   "source": [
    "def gradient_descent(X, y, theta, iterations, alpha, lam):\n",
    "\n",
    "    # alpha：学習率（ステップ数）\n",
    "    # iterations：反復回数\n",
    "    \n",
    "    past_costs = []\n",
    "    past_thetas = []\n",
    "    \n",
    "    # j=0のとき、正則化項を0にする\n",
    "    zero_or_one = np.ones(len(theta))\n",
    "    zero_or_one[0]= 0\n",
    "    \n",
    "    # 総データ数\n",
    "    m=len(X)\n",
    "    \n",
    "    for a in range(iterations):\n",
    "        # 正則化項\n",
    "        reg_term = lam * theta * zero_or_one\n",
    "        z=np.dot(X,theta)\n",
    "        sig=sigmoid(z)\n",
    "        # パラメーター更新\n",
    "        theta = theta - alpha / m * (np.dot(X.T, (sig - y)) + reg_term)\n",
    "        past_costs.append(compute_cost(X, y, theta, lam))\n",
    "        past_thetas.append(theta)\n",
    "    return past_costs,past_thetas\n",
    "\n",
    "alpha=0.01\n",
    "iterations=200\n",
    "\n",
    "(past_costs,past_thetas)=gradient_descent(X, y, theta, iterations, alpha, lam)"
   ]
  },
  {
   "cell_type": "markdown",
   "metadata": {},
   "source": [
    "## 学習曲線のプロット"
   ]
  },
  {
   "cell_type": "code",
   "execution_count": 352,
   "metadata": {
    "collapsed": true
   },
   "outputs": [],
   "source": [
    "def plot_learning_curve(X, y, theta, iterations, alpha, lam):\n",
    "    # データを用意\n",
    "    past_costs, past_thetas = gradient_descent(X, y, theta, iterations, alpha, lam)\n",
    "    \n",
    "    plt.figure(figsize=(12, 8))\n",
    "    plt.plot(range(iterations), past_costs)\n",
    "\n",
    "    # 座標系の名前\n",
    "    plt.title('Learning Curve')\n",
    "    # x軸の名前\n",
    "    plt.xlabel(\"Iterations\")\n",
    "    # y軸の名前\n",
    "    plt.ylabel(\"Cost\")\n",
    "    plt.show()"
   ]
  },
  {
   "cell_type": "code",
   "execution_count": 353,
   "metadata": {},
   "outputs": [
    {
     "data": {
      "image/png": "[encoded data removed]",
      "text/plain": [
       "<matplotlib.figure.Figure at 0x114293080>"
      ]
     },
     "metadata": {},
     "output_type": "display_data"
    }
   ],
   "source": [
    "plot_learning_curve(X, y, theta, iterations, alpha, lam)"
   ]
  },
  {
   "cell_type": "markdown",
   "metadata": {},
   "source": [
    "## 予測関数\n",
    "学習済の分類器を使用して、実際に予測を行う関数を作成"
   ]
  },
  {
   "cell_type": "code",
   "execution_count": 346,
   "metadata": {
    "collapsed": true
   },
   "outputs": [],
   "source": [
    "# 各データの分類確率を求める\n",
    "def predict_probs(X, theta):\n",
    "    z=np.dot(X,theta)\n",
    "    sig=sigmoid(z)\n",
    "    return sig"
   ]
  },
  {
   "cell_type": "code",
   "execution_count": 347,
   "metadata": {},
   "outputs": [
    {
     "data": {
      "text/plain": [
       "array([0.45092679, 0.51654135, 0.47237237, 0.48092025, 0.47159503,\n",
       "       0.5331123 , 0.55742171, 0.48985222, 0.44988568, 0.55782295,\n",
       "       0.45007546, 0.53639745, 0.38744696, 0.51968991, 0.50848814,\n",
       "       0.45871769, 0.58354688, 0.46132199, 0.4408964 , 0.46386228,\n",
       "       0.61521157, 0.46434638, 0.47920498, 0.48921922, 0.45654052,\n",
       "       0.45985158, 0.43884673, 0.51014897, 0.53085044, 0.43255545,\n",
       "       0.45998568, 0.44473292, 0.47189893, 0.55174804, 0.60460597,\n",
       "       0.5891614 , 0.48410398, 0.41457653, 0.54335967, 0.50046386,\n",
       "       0.52003927, 0.52441642, 0.46718079, 0.46919555, 0.51917082,\n",
       "       0.52721167, 0.52778654, 0.47828006, 0.47304859, 0.51299514,\n",
       "       0.70381486, 0.60331953, 0.55305671, 0.58384335, 0.62159129,\n",
       "       0.53390044, 0.62956423, 0.5107469 , 0.51194448, 0.64793309,\n",
       "       0.58675231, 0.5492428 , 0.56547008, 0.60013447, 0.66049093,\n",
       "       0.6361724 , 0.56713482, 0.61456914, 0.51974678, 0.48766056,\n",
       "       0.60374224, 0.63340482, 0.49816939, 0.52976977, 0.61413021,\n",
       "       0.53581228, 0.54533383, 0.58026969, 0.5938804 , 0.48553737,\n",
       "       0.49032709, 0.55870392, 0.60382837, 0.5185951 , 0.53567627,\n",
       "       0.51852879, 0.68623441, 0.58733231, 0.58598438, 0.55938438,\n",
       "       0.62024055, 0.56488213, 0.60331953, 0.62365231, 0.65257015,\n",
       "       0.58161346, 0.52562342, 0.57260975, 0.67798062, 0.61100754])"
      ]
     },
     "execution_count": 347,
     "metadata": {},
     "output_type": "execute_result"
    }
   ],
   "source": [
    "# past_thetas[-1]：学習曲線で最も収束した時のパラメータを取得\n",
    "predict_probs(X, past_thetas[-1])"
   ]
  },
  {
   "cell_type": "code",
   "execution_count": 348,
   "metadata": {
    "collapsed": true
   },
   "outputs": [],
   "source": [
    "# 確率を閾値で分類\n",
    "# threshold：閾値\n",
    "def predict(X, theta, threshold=0.5):\n",
    "    # 各データの分類確率を取得\n",
    "    probs=predict_probs(x_df, past_thetas[-1])\n",
    "    species=[]\n",
    "    for i in range(len(X)):\n",
    "        if probs[i] >= threshold:\n",
    "            species.append('Iris-virginica')\n",
    "        else:\n",
    "            species.append('Iris-versicolor')\n",
    "    return species"
   ]
  },
  {
   "cell_type": "code",
   "execution_count": 349,
   "metadata": {
    "collapsed": true
   },
   "outputs": [],
   "source": [
    "#予測分類データ\n",
    "pred= predict(X,past_thetas[-1])"
   ]
  },
  {
   "cell_type": "code",
   "execution_count": 350,
   "metadata": {
    "collapsed": true
   },
   "outputs": [],
   "source": [
    "#実測分類データ\n",
    "real=iris_df[\"Species\"].values.tolist()"
   ]
  },
  {
   "cell_type": "code",
   "execution_count": 351,
   "metadata": {},
   "outputs": [
    {
     "name": "stdout",
     "output_type": "stream",
     "text": [
      "正解率：0.74\n"
     ]
    }
   ],
   "source": [
    "# 正解率\n",
    "count = 0\n",
    "for i in range(len(pred)):\n",
    "    if pred[i] == real[i]:\n",
    "        count += 1\n",
    "print('正解率：'+str(count/100))"
   ]
  },
  {
   "cell_type": "markdown",
   "metadata": {},
   "source": [
    "## クラス化\n",
    "今まで作成した関数のクラス化"
   ]
  },
  {
   "cell_type": "code",
   "execution_count": 375,
   "metadata": {
    "collapsed": true
   },
   "outputs": [],
   "source": [
    "class LogisticModel():\n",
    "\n",
    "    def __init__(self):\n",
    "        pass\n",
    "        \n",
    "    def compute_cost(self, X, y, theta, lam):\n",
    "        z=np.dot(X, theta)\n",
    "        sig=sigmoid(z)\n",
    "        m=len(X)\n",
    "        reg_term=(lam / (2*m))*(theta**2).sum()\n",
    "        return (-1*y*np.log(sig) - (1 - y)*np.log(1 - sig)).sum() / m + reg_term\n",
    "    \n",
    "    def gradient_descent(self, X, y, theta, iterations, alpha, lam):\n",
    "\n",
    "        past_costs = []\n",
    "        past_thetas = []\n",
    "        zero_or_one = np.ones(len(theta))\n",
    "        zero_or_one[0]= 0\n",
    "        m=len(X)\n",
    "\n",
    "        for a in range(iterations):\n",
    "            reg_term = lam * theta * zero_or_one\n",
    "            z=np.dot(X,theta)\n",
    "            sig=sigmoid(z)\n",
    "            theta = theta - alpha / m * (np.dot(X.T, (sig - y)) + reg_term)\n",
    "            past_costs.append(self.compute_cost(X, y, theta, lam))\n",
    "            past_thetas.append(theta)\n",
    "        return past_costs, past_thetas\n",
    "    \n",
    "    def plot_learning_curve(self, X, y, theta, iterations, alpha, lam):\n",
    "        past_costs, past_thetas = self.gradient_descent(X, y, theta, iterations, alpha, lam)\n",
    "\n",
    "        plt.figure(figsize=(12, 8))\n",
    "        plt.plot(range(iterations), past_costs)\n",
    "        plt.title('Learning Curve')\n",
    "        plt.xlabel(\"Iterations\")\n",
    "        plt.ylabel(\"Cost\")\n",
    "        plt.show()"
   ]
  },
  {
   "cell_type": "code",
   "execution_count": 381,
   "metadata": {
    "collapsed": true
   },
   "outputs": [],
   "source": [
    "# LinearModelオブジェクト作成\n",
    "model = LogisticModel()\n",
    "theta = np.random.rand(5)"
   ]
  },
  {
   "cell_type": "code",
   "execution_count": 382,
   "metadata": {},
   "outputs": [
    {
     "data": {
      "text/plain": [
       "5.681967925219509"
      ]
     },
     "execution_count": 382,
     "metadata": {},
     "output_type": "execute_result"
    }
   ],
   "source": [
    "# 目的関数\n",
    "model.compute_cost(X, y, theta, 0.01)"
   ]
  },
  {
   "cell_type": "code",
   "execution_count": 383,
   "metadata": {
    "collapsed": true
   },
   "outputs": [],
   "source": [
    "# 最急降下法\n",
    "(past_costs,past_thetas)=model.gradient_descent(X, y, theta, 400, 0.01, 0.01)"
   ]
  },
  {
   "cell_type": "code",
   "execution_count": 385,
   "metadata": {},
   "outputs": [
    {
     "name": "stdout",
     "output_type": "stream",
     "text": [
      "正解率：0.92\n"
     ]
    }
   ],
   "source": [
    "pred= predict(x_df,past_thetas[-1])\n",
    "\n",
    "# 正解率\n",
    "count = 0\n",
    "for i in range(len(pred)):\n",
    "    if pred[i] == real[i]:\n",
    "        count += 1\n",
    "print(\"正解率：\"+str(count/100))"
   ]
  },
  {
   "cell_type": "code",
   "execution_count": 386,
   "metadata": {},
   "outputs": [
    {
     "data": {
      "image/png": "[encoded data removed]",
      "text/plain": [
       "<matplotlib.figure.Figure at 0x1150622b0>"
      ]
     },
     "metadata": {},
     "output_type": "display_data"
    }
   ],
   "source": [
    "# 学習曲線\n",
    "model.plot_learning_curve(X, y, theta, 400, 0.01, 0.01)"
   ]
  }
 ],
 "metadata": {
  "kernelspec": {
   "display_name": "Python 3",
   "language": "python",
   "name": "python3"
  },
  "language_info": {
   "codemirror_mode": {
    "name": "ipython",
    "version": 3
   },
   "file_extension": ".py",
   "mimetype": "text/x-python",
   "name": "python",
   "nbconvert_exporter": "python",
   "pygments_lexer": "ipython3",
   "version": "3.6.6"
  }
 },
 "nbformat": 4,
 "nbformat_minor": 2
}
