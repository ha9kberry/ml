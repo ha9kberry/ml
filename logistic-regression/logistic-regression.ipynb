{
 "cells": [
  {
   "cell_type": "markdown",
   "metadata": {},
   "source": [
    "# ロジスティック回帰アルゴリズム\n",
    "ロジスティック回帰アルゴリズムをスクラッチで構築\n",
    "1. データ取得\n",
    "2. シグモイド関数について\n",
    "3. 二乗誤差と交差エントロピー誤差について\n",
    "4. 学習曲線のプロット\n",
    "5. 予測関数について\n",
    "6. クラス化"
   ]
  },
  {
   "cell_type": "markdown",
   "metadata": {},
   "source": [
    "## 1. データ取得\n",
    "\n",
    "データセット：Iris Species  \n",
    "https://www.kaggle.com/uciml/iris/data"
   ]
  },
  {
   "cell_type": "code",
   "execution_count": 1,
   "metadata": {},
   "outputs": [
    {
     "data": {
      "text/html": [
       "<div>\n",
       "<table border=\"1\" class=\"dataframe\">\n",
       "  <thead>\n",
       "    <tr style=\"text-align: right;\">\n",
       "      <th></th>\n",
       "      <th>Id</th>\n",
       "      <th>SepalLengthCm</th>\n",
       "      <th>SepalWidthCm</th>\n",
       "      <th>PetalLengthCm</th>\n",
       "      <th>PetalWidthCm</th>\n",
       "      <th>Species</th>\n",
       "    </tr>\n",
       "  </thead>\n",
       "  <tbody>\n",
       "    <tr>\n",
       "      <th>0</th>\n",
       "      <td>1</td>\n",
       "      <td>5.1</td>\n",
       "      <td>3.5</td>\n",
       "      <td>1.4</td>\n",
       "      <td>0.2</td>\n",
       "      <td>Iris-setosa</td>\n",
       "    </tr>\n",
       "    <tr>\n",
       "      <th>1</th>\n",
       "      <td>2</td>\n",
       "      <td>4.9</td>\n",
       "      <td>3.0</td>\n",
       "      <td>1.4</td>\n",
       "      <td>0.2</td>\n",
       "      <td>Iris-setosa</td>\n",
       "    </tr>\n",
       "    <tr>\n",
       "      <th>2</th>\n",
       "      <td>3</td>\n",
       "      <td>4.7</td>\n",
       "      <td>3.2</td>\n",
       "      <td>1.3</td>\n",
       "      <td>0.2</td>\n",
       "      <td>Iris-setosa</td>\n",
       "    </tr>\n",
       "    <tr>\n",
       "      <th>3</th>\n",
       "      <td>4</td>\n",
       "      <td>4.6</td>\n",
       "      <td>3.1</td>\n",
       "      <td>1.5</td>\n",
       "      <td>0.2</td>\n",
       "      <td>Iris-setosa</td>\n",
       "    </tr>\n",
       "    <tr>\n",
       "      <th>4</th>\n",
       "      <td>5</td>\n",
       "      <td>5.0</td>\n",
       "      <td>3.6</td>\n",
       "      <td>1.4</td>\n",
       "      <td>0.2</td>\n",
       "      <td>Iris-setosa</td>\n",
       "    </tr>\n",
       "  </tbody>\n",
       "</table>\n",
       "</div>"
      ],
      "text/plain": [
       "   Id  SepalLengthCm  SepalWidthCm  PetalLengthCm  PetalWidthCm      Species\n",
       "0   1            5.1           3.5            1.4           0.2  Iris-setosa\n",
       "1   2            4.9           3.0            1.4           0.2  Iris-setosa\n",
       "2   3            4.7           3.2            1.3           0.2  Iris-setosa\n",
       "3   4            4.6           3.1            1.5           0.2  Iris-setosa\n",
       "4   5            5.0           3.6            1.4           0.2  Iris-setosa"
      ]
     },
     "execution_count": 1,
     "metadata": {},
     "output_type": "execute_result"
    }
   ],
   "source": [
    "import numpy as np\n",
    "import pandas as pd\n",
    "import matplotlib.pyplot as plt\n",
    "\n",
    "iris_df = pd.read_csv('input/Iris.csv')\n",
    "iris_df.head()"
   ]
  },
  {
   "cell_type": "code",
   "execution_count": 2,
   "metadata": {},
   "outputs": [
    {
     "name": "stdout",
     "output_type": "stream",
     "text": [
      "<class 'pandas.core.frame.DataFrame'>\n",
      "RangeIndex: 150 entries, 0 to 149\n",
      "Data columns (total 6 columns):\n",
      "Id               150 non-null int64\n",
      "SepalLengthCm    150 non-null float64\n",
      "SepalWidthCm     150 non-null float64\n",
      "PetalLengthCm    150 non-null float64\n",
      "PetalWidthCm     150 non-null float64\n",
      "Species          150 non-null object\n",
      "dtypes: float64(4), int64(1), object(1)\n",
      "memory usage: 7.1+ KB\n"
     ]
    }
   ],
   "source": [
    "iris_df.info()"
   ]
  },
  {
   "cell_type": "markdown",
   "metadata": {},
   "source": [
    "- 総データ数150\n",
    "- IDを除いて４つの特徴（がく片と花弁、それぞれの長さと幅）\n",
    "- null値なし\n",
    "- 説明変数：数値\n",
    "- 目的変数：カテゴリカルデータ"
   ]
  },
  {
   "cell_type": "markdown",
   "metadata": {},
   "source": [
    "### ２値分類\n",
    "今回は以下のクラスを分類（Iris-setosaを除外）\n",
    "- Iris-versicolor\n",
    "- Iris-virginica"
   ]
  },
  {
   "cell_type": "code",
   "execution_count": 3,
   "metadata": {},
   "outputs": [],
   "source": [
    "# Iris-setosa除外\n",
    "iris_df=iris_df[iris_df[\"Species\"]!=\"Iris-setosa\"]\n",
    "\n",
    "# drop=True：旧インデックスのデータフレーム挿入回避\n",
    "x_df=iris_df.drop([\"Species\",\"Id\"], axis=1).reset_index(drop=True)\n",
    "y_df=iris_df[[\"Species\"]].reset_index(drop=True)"
   ]
  },
  {
   "cell_type": "code",
   "execution_count": 4,
   "metadata": {},
   "outputs": [
    {
     "data": {
      "text/html": [
       "<div>\n",
       "<table border=\"1\" class=\"dataframe\">\n",
       "  <thead>\n",
       "    <tr style=\"text-align: right;\">\n",
       "      <th></th>\n",
       "      <th>SepalLengthCm</th>\n",
       "      <th>SepalWidthCm</th>\n",
       "      <th>PetalLengthCm</th>\n",
       "      <th>PetalWidthCm</th>\n",
       "    </tr>\n",
       "  </thead>\n",
       "  <tbody>\n",
       "    <tr>\n",
       "      <th>0</th>\n",
       "      <td>7.0</td>\n",
       "      <td>3.2</td>\n",
       "      <td>4.7</td>\n",
       "      <td>1.4</td>\n",
       "    </tr>\n",
       "    <tr>\n",
       "      <th>1</th>\n",
       "      <td>6.4</td>\n",
       "      <td>3.2</td>\n",
       "      <td>4.5</td>\n",
       "      <td>1.5</td>\n",
       "    </tr>\n",
       "    <tr>\n",
       "      <th>2</th>\n",
       "      <td>6.9</td>\n",
       "      <td>3.1</td>\n",
       "      <td>4.9</td>\n",
       "      <td>1.5</td>\n",
       "    </tr>\n",
       "    <tr>\n",
       "      <th>3</th>\n",
       "      <td>5.5</td>\n",
       "      <td>2.3</td>\n",
       "      <td>4.0</td>\n",
       "      <td>1.3</td>\n",
       "    </tr>\n",
       "    <tr>\n",
       "      <th>4</th>\n",
       "      <td>6.5</td>\n",
       "      <td>2.8</td>\n",
       "      <td>4.6</td>\n",
       "      <td>1.5</td>\n",
       "    </tr>\n",
       "  </tbody>\n",
       "</table>\n",
       "</div>"
      ],
      "text/plain": [
       "   SepalLengthCm  SepalWidthCm  PetalLengthCm  PetalWidthCm\n",
       "0            7.0           3.2            4.7           1.4\n",
       "1            6.4           3.2            4.5           1.5\n",
       "2            6.9           3.1            4.9           1.5\n",
       "3            5.5           2.3            4.0           1.3\n",
       "4            6.5           2.8            4.6           1.5"
      ]
     },
     "execution_count": 4,
     "metadata": {},
     "output_type": "execute_result"
    }
   ],
   "source": [
    "x_df.head()"
   ]
  },
  {
   "cell_type": "code",
   "execution_count": 5,
   "metadata": {},
   "outputs": [
    {
     "data": {
      "text/html": [
       "<div>\n",
       "<table border=\"1\" class=\"dataframe\">\n",
       "  <thead>\n",
       "    <tr style=\"text-align: right;\">\n",
       "      <th></th>\n",
       "      <th>Species</th>\n",
       "    </tr>\n",
       "  </thead>\n",
       "  <tbody>\n",
       "    <tr>\n",
       "      <th>0</th>\n",
       "      <td>Iris-versicolor</td>\n",
       "    </tr>\n",
       "    <tr>\n",
       "      <th>1</th>\n",
       "      <td>Iris-versicolor</td>\n",
       "    </tr>\n",
       "    <tr>\n",
       "      <th>2</th>\n",
       "      <td>Iris-versicolor</td>\n",
       "    </tr>\n",
       "    <tr>\n",
       "      <th>3</th>\n",
       "      <td>Iris-versicolor</td>\n",
       "    </tr>\n",
       "    <tr>\n",
       "      <th>4</th>\n",
       "      <td>Iris-versicolor</td>\n",
       "    </tr>\n",
       "  </tbody>\n",
       "</table>\n",
       "</div>"
      ],
      "text/plain": [
       "           Species\n",
       "0  Iris-versicolor\n",
       "1  Iris-versicolor\n",
       "2  Iris-versicolor\n",
       "3  Iris-versicolor\n",
       "4  Iris-versicolor"
      ]
     },
     "execution_count": 5,
     "metadata": {},
     "output_type": "execute_result"
    }
   ],
   "source": [
    "y_df.head()"
   ]
  },
  {
   "cell_type": "code",
   "execution_count": 6,
   "metadata": {},
   "outputs": [
    {
     "data": {
      "text/plain": [
       "Iris-versicolor    50\n",
       "Iris-virginica     50\n",
       "Name: Species, dtype: int64"
      ]
     },
     "execution_count": 6,
     "metadata": {},
     "output_type": "execute_result"
    }
   ],
   "source": [
    "y_df[\"Species\"].value_counts()"
   ]
  },
  {
   "cell_type": "markdown",
   "metadata": {},
   "source": [
    "### SepalLengthCm と SepalWidthCm のプロット\n",
    "品種ごとのがく片の長さと幅のプロット"
   ]
  },
  {
   "cell_type": "code",
   "execution_count": 7,
   "metadata": {},
   "outputs": [],
   "source": [
    "iris_versicolor = iris_df[iris_df['Species'] == 'Iris-versicolor']\n",
    "iris_virginica  = iris_df[iris_df['Species'] == 'Iris-virginica']"
   ]
  },
  {
   "cell_type": "code",
   "execution_count": 8,
   "metadata": {},
   "outputs": [
    {
     "data": {
      "image/png": "[encoded data removed]",
      "text/plain": [
       "<Figure size 432x288 with 1 Axes>"
      ]
     },
     "metadata": {},
     "output_type": "display_data"
    }
   ],
   "source": [
    "plt.plot(iris_versicolor[\"SepalLengthCm\"], iris_versicolor['SepalWidthCm'], 'o',label=\"versicolor\")\n",
    "plt.plot(iris_virginica[\"SepalLengthCm\"], iris_virginica['SepalWidthCm'], 'o',label=\"virginica\")\n",
    "plt.title(\"SepalLengthCm vs SepalWidthCm\")\n",
    "plt.xlabel(\"SepalLengthCm\")\n",
    "plt.ylabel(\"SepalWidthCm\")\n",
    "plt.legend(loc='best')\n",
    "plt.show()"
   ]
  },
  {
   "cell_type": "markdown",
   "metadata": {},
   "source": [
    "### PetalLengthCm と PetalWidthCm のプロット\n",
    "品種ごとの花弁の長さと幅のプロット"
   ]
  },
  {
   "cell_type": "code",
   "execution_count": 9,
   "metadata": {},
   "outputs": [
    {
     "data": {
      "image/png": "[encoded data removed]",
      "text/plain": [
       "<Figure size 432x288 with 1 Axes>"
      ]
     },
     "metadata": {},
     "output_type": "display_data"
    }
   ],
   "source": [
    "plt.plot(iris_versicolor[\"PetalLengthCm\"], iris_versicolor['PetalWidthCm'], 'o',label=\"versicolor\")\n",
    "plt.plot(iris_virginica[\"PetalLengthCm\"], iris_virginica['PetalWidthCm'], 'o',label=\"virginica\")\n",
    "plt.title(\"PetalLengthCm vs PetalWidthCm\")\n",
    "plt.xlabel(\"PetalLengthCm\")\n",
    "plt.ylabel(\"PetalWidthCm\")\n",
    "plt.legend(loc='best')\n",
    "plt.show()"
   ]
  },
  {
   "cell_type": "markdown",
   "metadata": {},
   "source": [
    "ともに正の相関があることがわかる。また** 花弁のほうが、品種の違いが明確 **である。"
   ]
  },
  {
   "cell_type": "markdown",
   "metadata": {},
   "source": [
    "## 2. シグモイド関数について\n",
    "### シグモイド関数の実装\n",
    "$g(z) = \\frac{1}{1 + e^{-z}}$"
   ]
  },
  {
   "cell_type": "code",
   "execution_count": 10,
   "metadata": {},
   "outputs": [
    {
     "data": {
      "text/plain": [
       "0.6224593312018546"
      ]
     },
     "execution_count": 10,
     "metadata": {},
     "output_type": "execute_result"
    }
   ],
   "source": [
    "def sigmoid(z):\n",
    "    s = 1 / (1 + np.exp(-z))\n",
    "    return s\n",
    "\n",
    "sigmoid(0.5)"
   ]
  },
  {
   "cell_type": "markdown",
   "metadata": {},
   "source": [
    "### なぜロジスティック回帰はシグモイド関数を用いるのか\n",
    "\n",
    "前提として予測する出力が数値ではなくカテゴリーに属するかどうかの確率になる。  \n",
    "このため、\n",
    "\n",
    "- $h_\\theta(x)$がどんな値を取ったときも0から1の値を取ることができる。\n",
    "- $x_1 < x_2$のとき$h_\\theta(x_1) < h_\\theta(x_2)$が成り立つ。\n",
    "- $\\theta^Tx$ の正負で分類ができるので判定が簡単\n",
    "\n",
    "上記を満たすためロジスティック関数ではシグモイド関数を用いる。"
   ]
  },
  {
   "cell_type": "markdown",
   "metadata": {},
   "source": [
    "### シグモイド関数を描画"
   ]
  },
  {
   "cell_type": "code",
   "execution_count": 11,
   "metadata": {},
   "outputs": [
    {
     "data": {
      "image/png": "[encoded data removed]",
      "text/plain": [
       "<Figure size 432x288 with 1 Axes>"
      ]
     },
     "metadata": {},
     "output_type": "display_data"
    }
   ],
   "source": [
    "import math\n",
    "\n",
    "x = np.arange(-10, 10, 0.1)\n",
    "e = math.e\n",
    "\n",
    "y = 1 / (1 + e**-x)\n",
    "\n",
    "plt.plot(x, y)\n",
    "plt.xlabel(\"dot(theta.T, X)\")\n",
    "plt.ylabel(\"probability\")\n",
    "plt.title(\"Sigmoid function\")\n",
    "plt.show()"
   ]
  },
  {
   "cell_type": "markdown",
   "metadata": {},
   "source": [
    "### 正則化とは\n",
    "\n",
    "モデルが複雑（高次数、多特徴量）であるほど、表現力が高くなり、実測値に対して過剰適合（過学習）を起こしやすくなる。  \n",
    "正則化とは、各特徴量の係数に当たるパラメータ $\\theta$（重み）の値を小さくさせ（ペナルティを与えて）、$\\theta$が大きい値を取らないように補正することである。"
   ]
  },
  {
   "cell_type": "markdown",
   "metadata": {},
   "source": [
    "## 3. 二乗誤差と交差エントロピー誤差について\n",
    "なぜロジスティック回帰では二乗誤差ではなく交差エントロピー誤差関数を目的関数とするのか。\n",
    "\n",
    "**回帰問題の目的は予測した誤差を最小にするのが目的であるのに対し、\n",
    "分類問題の目的はそれぞれのデータがあるクラスと予測する確率を出し、すべてのデータで予測した分類が正解する、つまりそれぞれの事象の同時確率が最大になることが目的となるため。**\n",
    "\n",
    "各データの同時確率（積集合）が目的関数になる。\n",
    "これだとそれぞれ0~1の値を取るためデータ数が増えるとアンダーフローになり正しく判定できなくなる。\n",
    "これを防ぐために対数をとった式が今回採用する交差誤差エントロピー誤差関数となる。\n",
    "(合わせて正規化もできるというメリットもある。）\n",
    "\n",
    "\n",
    "それぞれのデータのクラスに分類できる確率の同時確率は下記で表される。\n",
    "この確率を最大化したい。\n",
    "\n",
    "$J(\\theta) = \\frac{1}{m} \\displaystyle \\prod_{i=1}^m [y^{(i)}prob(x)^{(i)}+(1-y)^{(i)}(1-prob(x^{(i)}))]$\n",
    "\n",
    "これだと各データの分類確率が0~1なのでかなり小さい値になってしまい、プログラム計算上不都合なので対数を取る。\n",
    "\n",
    "\n",
    "$ J(\\theta) = \\frac{1}{m} log \\displaystyle \\prod_{i=1}^m [y^{(i)}prob(x)^{(i)}+(1-y)^{(i)}(1-prob(x^{(i)}))]$\n",
    "\n",
    "$\\log ab = \\log a + \\log b$ の性質より\n",
    "\n",
    "$ J(\\theta) = \\frac{1}{m} log \\displaystyle \\prod_{i=1}^m [y^{(i)}prob(x)^{(i)}+(1-y)^{(i)}(1-prob(x^{(i)}))]$"
   ]
  },
  {
   "cell_type": "markdown",
   "metadata": {},
   "source": [
    "### ロジスティック回帰における目的関数の実装\n",
    "\n",
    "仮説関数  \n",
    "$h_\\theta(x) = g(\\theta^T x)$\n",
    "\n",
    "$g(z) = \\frac{1}{1 + e^{-z}}$\n",
    "\n",
    "目的関数  \n",
    "$J(\\theta) = \\frac{1}{m} \\displaystyle\\sum_{i=1}^{m}[-y^{(i)} log(h_\\theta(x^{(i)})) - (1 - y^{(i)}) log(1 - h_\\theta(x^{(i)}))] +\n",
    "\\frac{\\lambda}{2m} \\displaystyle\\sum_{j=1}^n\n",
    "\\theta^2_j$"
   ]
  },
  {
   "cell_type": "code",
   "execution_count": 59,
   "metadata": {},
   "outputs": [],
   "source": [
    "# 切片追加\n",
    "x_df[\"x0\"] = 1\n",
    "# 切片カラムを列の先頭に並び替え\n",
    "x_df=x_df.iloc[:,[4,0,1,2,3]]"
   ]
  },
  {
   "cell_type": "code",
   "execution_count": 60,
   "metadata": {},
   "outputs": [],
   "source": [
    "# 初期値パラメーター設定（切片含め特徴量が５つあるため）\n",
    "theta = np.random.rand(5)"
   ]
  },
  {
   "cell_type": "code",
   "execution_count": 61,
   "metadata": {},
   "outputs": [],
   "source": [
    "# 固有の要素を取得\n",
    "y_df[\"Species\"].unique()\n",
    "# enumerate：インデックス番号、要素の順位に取得\n",
    "class_mapping = {x:i for i, x in enumerate(y_df[\"Species\"].unique())}\n",
    "# カテゴリカルデータを数値に変換\n",
    "# Iris-versicolor→0\n",
    "# Iris-virginica→1\n",
    "y_df[\"Species\"]=y_df[\"Species\"].map(class_mapping)"
   ]
  },
  {
   "cell_type": "code",
   "execution_count": 62,
   "metadata": {},
   "outputs": [
    {
     "data": {
      "text/plain": [
       "2.893770043843341"
      ]
     },
     "execution_count": 62,
     "metadata": {},
     "output_type": "execute_result"
    }
   ],
   "source": [
    "def compute_cost(X, y, theta, lam):\n",
    "    \n",
    "    # 仮説関数作成→各データの行列積を取得\n",
    "    z=np.dot(X,theta)\n",
    "    # シグモイド関数に代入\n",
    "    sig=sigmoid(z)\n",
    "    # 総データ数\n",
    "    m=len(X)\n",
    "    # 正則化項：regularization\n",
    "    reg_term=(lam / (2*m))*(theta**2).sum()\n",
    "    # 目的関数\n",
    "    return (-1*y*np.log(sig) - (1 - y)*np.log(1 - sig)).sum() / m + reg_term\n",
    "\n",
    "X=x_df\n",
    "y=y_df[\"Species\"]\n",
    "lam=0.01\n",
    "\n",
    "compute_cost(X, y, theta, lam)"
   ]
  },
  {
   "cell_type": "markdown",
   "metadata": {},
   "source": [
    "### 最急降下法（勾配降下法）の実装\n",
    "$\\frac{\\partial J(\\theta)}{\\partial \\theta_0} = \\frac{1}{m} \\displaystyle\\sum_{i=1}^{m}(h_\\theta(x^{(i)}) - y^{(i)})x_j^{(i)}  ,j = 0$\n",
    "\n",
    "$\\frac{\\partial J(\\theta)}{\\partial \\theta_j} = \\biggl(\\frac{1}{m} \\displaystyle\\sum_{i=1}^{m}(h_\\theta(x^{(i)}) - y^{(i)})x_j^{(i)} \\biggr) + \\frac{\\lambda}{m}\\theta_j　 ,j\\geq 1$"
   ]
  },
  {
   "cell_type": "code",
   "execution_count": 63,
   "metadata": {},
   "outputs": [],
   "source": [
    "def gradient_descent(X, y, theta, iterations, alpha, lam):\n",
    "\n",
    "    # alpha：学習率（ステップ数）\n",
    "    # iterations：反復回数\n",
    "    \n",
    "    past_costs = []\n",
    "    past_thetas = []\n",
    "    \n",
    "    # j=0のとき、正則化項を0にする\n",
    "    zero_or_one = np.ones(len(theta))\n",
    "    zero_or_one[0]= 0\n",
    "    \n",
    "    # 総データ数\n",
    "    m=len(X)\n",
    "    \n",
    "    for a in range(iterations):\n",
    "        # 正則化項\n",
    "        reg_term = lam * theta * zero_or_one\n",
    "        z=np.dot(X,theta)\n",
    "        sig=sigmoid(z)\n",
    "        # パラメーター更新\n",
    "        theta = theta - alpha / m * (np.dot(X.T, (sig - y)) + reg_term)\n",
    "        past_costs.append(compute_cost(X, y, theta, lam))\n",
    "        past_thetas.append(theta)\n",
    "    return past_costs,past_thetas\n",
    "\n",
    "alpha=0.01\n",
    "iterations=200\n",
    "\n",
    "(past_costs,past_thetas)=gradient_descent(X, y, theta, iterations, alpha, lam)"
   ]
  },
  {
   "cell_type": "markdown",
   "metadata": {},
   "source": [
    "## 4. 学習曲線のプロット"
   ]
  },
  {
   "cell_type": "code",
   "execution_count": 64,
   "metadata": {},
   "outputs": [],
   "source": [
    "def plot_learning_curve(X, y, theta, iterations, alpha, lam):\n",
    "    # データを用意\n",
    "    past_costs, past_thetas = gradient_descent(X, y, theta, iterations, alpha, lam)\n",
    "    \n",
    "    plt.plot(range(iterations), past_costs)\n",
    "    plt.title('Learning Curve')\n",
    "    plt.xlabel(\"Iterations\")\n",
    "    plt.ylabel(\"Cost\")\n",
    "    plt.show()"
   ]
  },
  {
   "cell_type": "code",
   "execution_count": 65,
   "metadata": {},
   "outputs": [
    {
     "data": {
      "image/png": "[encoded data removed]",
      "text/plain": [
       "<Figure size 432x288 with 1 Axes>"
      ]
     },
     "metadata": {},
     "output_type": "display_data"
    }
   ],
   "source": [
    "plot_learning_curve(X, y, theta, iterations, alpha, lam)"
   ]
  },
  {
   "cell_type": "markdown",
   "metadata": {},
   "source": [
    "## 5. 予測関数について\n",
    "学習済のモデルを使用して、実際に予測を行う関数を作成"
   ]
  },
  {
   "cell_type": "code",
   "execution_count": 66,
   "metadata": {},
   "outputs": [],
   "source": [
    "# 各データの分類確率を求める\n",
    "def predict_probs(X, theta):\n",
    "    z=np.dot(X,theta)\n",
    "    sig=sigmoid(z)\n",
    "    return sig"
   ]
  },
  {
   "cell_type": "code",
   "execution_count": 67,
   "metadata": {},
   "outputs": [
    {
     "data": {
      "text/plain": [
       "array([0.372614  , 0.41517242, 0.42933766, 0.506797  , 0.4524645 ,\n",
       "       0.52537495, 0.45689781, 0.44067315, 0.42339601, 0.49796557,\n",
       "       0.49536912, 0.44209306, 0.4403483 , 0.50602389, 0.37887895,\n",
       "       0.36741616, 0.52988872, 0.44040074, 0.52240617, 0.45207727,\n",
       "       0.54032691, 0.39263726, 0.55285566, 0.50552518, 0.39796743,\n",
       "       0.38686183, 0.44503595, 0.48776051, 0.48880605, 0.36244942,\n",
       "       0.45574423, 0.43458799, 0.41576003, 0.61006168, 0.55443536,\n",
       "       0.45169745, 0.42027459, 0.47590709, 0.45322654, 0.49012882,\n",
       "       0.54525287, 0.48069851, 0.44056669, 0.43670491, 0.49509468,\n",
       "       0.4534443 , 0.46611288, 0.42188719, 0.36423793, 0.45749828,\n",
       "       0.70478441, 0.64553826, 0.60728   , 0.64745428, 0.66424964,\n",
       "       0.66029888, 0.66103666, 0.64321035, 0.66360675, 0.59702192,\n",
       "       0.52604307, 0.60796251, 0.57743518, 0.66044657, 0.65801964,\n",
       "       0.58485272, 0.60051622, 0.60685751, 0.72866681, 0.62915689,\n",
       "       0.59084414, 0.63337415, 0.67528449, 0.54947217, 0.59813296,\n",
       "       0.58291647, 0.53659752, 0.54919763, 0.65582749, 0.55727239,\n",
       "       0.61179765, 0.52394986, 0.65980429, 0.56173312, 0.67614852,\n",
       "       0.5770072 , 0.63347961, 0.60437591, 0.54460192, 0.54027682,\n",
       "       0.61048999, 0.49819703, 0.64553826, 0.63481137, 0.61499588,\n",
       "       0.54811055, 0.58683254, 0.55945425, 0.60896382, 0.60643283])"
      ]
     },
     "execution_count": 67,
     "metadata": {},
     "output_type": "execute_result"
    }
   ],
   "source": [
    "# past_thetas[-1]：学習曲線で最も収束した時のパラメータを取得\n",
    "predict_probs(X, past_thetas[-1])"
   ]
  },
  {
   "cell_type": "code",
   "execution_count": 68,
   "metadata": {},
   "outputs": [],
   "source": [
    "# 確率を閾値で分類\n",
    "# threshold：閾値\n",
    "def predict(X, theta, threshold=0.5):\n",
    "    # 各データの分類確率を取得\n",
    "    probs=predict_probs(x_df, past_thetas[-1])\n",
    "    species=[]\n",
    "    for i in range(len(X)):\n",
    "        if probs[i] >= threshold:\n",
    "            species.append('Iris-virginica')\n",
    "        else:\n",
    "            species.append('Iris-versicolor')\n",
    "    return species"
   ]
  },
  {
   "cell_type": "code",
   "execution_count": 69,
   "metadata": {},
   "outputs": [],
   "source": [
    "# 予測分類データ\n",
    "pred= predict(X,past_thetas[-1])"
   ]
  },
  {
   "cell_type": "code",
   "execution_count": 70,
   "metadata": {},
   "outputs": [],
   "source": [
    "# 実測分類データ\n",
    "real=iris_df[\"Species\"].values.tolist()"
   ]
  },
  {
   "cell_type": "code",
   "execution_count": 71,
   "metadata": {},
   "outputs": [
    {
     "name": "stdout",
     "output_type": "stream",
     "text": [
      "正解率：0.88\n"
     ]
    }
   ],
   "source": [
    "# 正解率\n",
    "count = 0\n",
    "for i in range(len(pred)):\n",
    "    if pred[i] == real[i]:\n",
    "        count += 1\n",
    "print('正解率：'+str(count/100))"
   ]
  },
  {
   "cell_type": "markdown",
   "metadata": {},
   "source": [
    "## 6. クラス化"
   ]
  },
  {
   "cell_type": "code",
   "execution_count": 25,
   "metadata": {},
   "outputs": [],
   "source": [
    "class LogisticModel():\n",
    "\n",
    "    def __init__(self):\n",
    "        pass\n",
    "        \n",
    "    def compute_cost(self, X, y, theta, lam):\n",
    "        z=np.dot(X, theta)\n",
    "        sig=sigmoid(z)\n",
    "        m=len(X)\n",
    "        reg_term=(lam / (2*m))*(theta**2).sum()\n",
    "        return (-1*y*np.log(sig) - (1 - y)*np.log(1 - sig)).sum() / m + reg_term\n",
    "    \n",
    "    def gradient_descent(self, X, y, theta, iterations, alpha, lam):\n",
    "\n",
    "        past_costs = []\n",
    "        past_thetas = []\n",
    "        zero_or_one = np.ones(len(theta))\n",
    "        zero_or_one[0]= 0\n",
    "        m=len(X)\n",
    "\n",
    "        for a in range(iterations):\n",
    "            reg_term = lam * theta * zero_or_one\n",
    "            z=np.dot(X,theta)\n",
    "            sig=sigmoid(z)\n",
    "            theta = theta - alpha / m * (np.dot(X.T, (sig - y)) + reg_term)\n",
    "            past_costs.append(self.compute_cost(X, y, theta, lam))\n",
    "            past_thetas.append(theta)\n",
    "        return past_costs, past_thetas\n",
    "    \n",
    "    def plot_learning_curve(self, X, y, theta, iterations, alpha, lam):\n",
    "        past_costs, past_thetas = self.gradient_descent(X, y, theta, iterations, alpha, lam)\n",
    "\n",
    "        plt.plot(range(iterations), past_costs)\n",
    "        plt.title('Learning Curve')\n",
    "        plt.xlabel(\"Iterations\")\n",
    "        plt.ylabel(\"Cost\")\n",
    "        plt.show()"
   ]
  },
  {
   "cell_type": "markdown",
   "metadata": {},
   "source": [
    "### 動作確認"
   ]
  },
  {
   "cell_type": "code",
   "execution_count": 26,
   "metadata": {},
   "outputs": [],
   "source": [
    "# LinearModelオブジェクト作成\n",
    "model = LogisticModel()\n",
    "theta = np.random.rand(5)\n",
    "\n",
    "alpha=0.01\n",
    "lam=0.01\n",
    "iterations=400"
   ]
  },
  {
   "cell_type": "code",
   "execution_count": 27,
   "metadata": {},
   "outputs": [
    {
     "data": {
      "text/plain": [
       "4.455546049497605"
      ]
     },
     "execution_count": 27,
     "metadata": {},
     "output_type": "execute_result"
    }
   ],
   "source": [
    "# 目的関数\n",
    "model.compute_cost(X, y, theta, lam)"
   ]
  },
  {
   "cell_type": "code",
   "execution_count": 28,
   "metadata": {},
   "outputs": [],
   "source": [
    "# 最急降下法\n",
    "(past_costs,past_thetas)=model.gradient_descent(X, y, theta, iterations, alpha, lam)"
   ]
  },
  {
   "cell_type": "code",
   "execution_count": 29,
   "metadata": {},
   "outputs": [
    {
     "name": "stdout",
     "output_type": "stream",
     "text": [
      "正解率：0.83\n"
     ]
    }
   ],
   "source": [
    "pred= predict(x_df,past_thetas[-1])\n",
    "\n",
    "# 正解率\n",
    "count = 0\n",
    "for i in range(len(pred)):\n",
    "    if pred[i] == real[i]:\n",
    "        count += 1\n",
    "print(\"正解率：\"+str(count/100))"
   ]
  },
  {
   "cell_type": "code",
   "execution_count": 30,
   "metadata": {},
   "outputs": [
    {
     "data": {
      "image/png": "[encoded data removed]",
      "text/plain": [
       "<Figure size 432x288 with 1 Axes>"
      ]
     },
     "metadata": {},
     "output_type": "display_data"
    }
   ],
   "source": [
    "# 学習曲線\n",
    "model.plot_learning_curve(X, y, theta, iterations, alpha, lam)"
   ]
  },
  {
   "cell_type": "markdown",
   "metadata": {},
   "source": [
    "正常に動作していることを確認"
   ]
  }
 ],
 "metadata": {
  "kernelspec": {
   "display_name": "Python 3",
   "language": "python",
   "name": "python3"
  },
  "language_info": {
   "codemirror_mode": {
    "name": "ipython",
    "version": 3
   },
   "file_extension": ".py",
   "mimetype": "text/x-python",
   "name": "python",
   "nbconvert_exporter": "python",
   "pygments_lexer": "ipython3",
   "version": "3.6.6"
  }
 },
 "nbformat": 4,
 "nbformat_minor": 2
}
