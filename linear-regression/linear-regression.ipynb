{
 "cells": [
  {
   "cell_type": "markdown",
   "metadata": {},
   "source": [
    "# 線形回帰アルゴリズム\n",
    "線形回帰を通して、基本的な機械学習のアルゴリズムをスクラッチで構築\n",
    "\n",
    "1. 機械学習について\n",
    "2. データ取得\n",
    "3. フィーチャースケーリングについて\n",
    "4. 最急降下法について\n",
    "5. 学習について\n",
    "6. 学習曲線のプロット\n",
    "7. クラス化\n",
    "8. 正規方程式"
   ]
  },
  {
   "cell_type": "markdown",
   "metadata": {},
   "source": [
    "## 1. 機械学習について"
   ]
  },
  {
   "cell_type": "markdown",
   "metadata": {},
   "source": [
    "### 教師あり学習  \n",
    "教師あり学習とは、正解が分かっているデータをプログラムに学習させることで、正解が分からない同様のデータから正解を算出する手法。  \n",
    "データから正解を分類する分類問題と、数値を予想する回帰問題の大きく２つに分けられる。  \n",
    "それぞれの具体例として、\n",
    "\n",
    "分類問題：犬の画像データから、犬種を特定  \n",
    "回帰問題：過去の電力使用に関連するデータから、未来の電力需要を予測"
   ]
  },
  {
   "cell_type": "markdown",
   "metadata": {},
   "source": [
    "### 教師なし学習 \n",
    "教師なし学習とは、複数のデータから相違や傾向を見つけ、無理のない最適なグループに分類する手法。  \n",
    "データにどのような特徴があるのか、どのような性質のグループ分けが可能なのかを把握することが目的なので、  \n",
    "事前に正解が分かっている、上記分類問題と異なる。  \n",
    "具体例として、\n",
    "\n",
    "- 購買記録から顧客を分類し、販売戦略を考える\n",
    "- アンケートなどの文章を分類し、どういった内容のものがあるか見る\n",
    "- 不良品を分類し、工程の管理方法を考える\n",
    "\n",
    "\n",
    "\n"
   ]
  },
  {
   "cell_type": "markdown",
   "metadata": {
    "collapsed": true
   },
   "source": [
    "### 半教師あり学習 \n",
    "正解が分かっているデータの数が少ない場合、正解が分かってない同様の多くのデータで補完することで、予測したり、分類したりする手法。  \n",
    "具体例として、\n",
    "\n",
    "正解が分かっている犬猫の写真データ（数が少ない）と正解が分かっていない同様の写真データ（数が多い）で、犬と猫の写真を分類"
   ]
  },
  {
   "cell_type": "markdown",
   "metadata": {},
   "source": [
    "### 強化学習  \n",
    " \n",
    "人の期待に応えるようプログラムを調整して、期待に応じた行動をさせる手法。  \n",
    "具体例として、\n",
    "\n",
    "- 歩行ロボットの姿勢制御\n",
    "- 碁や将棋などの対局"
   ]
  },
  {
   "cell_type": "markdown",
   "metadata": {},
   "source": [
    "## 2. データ取得\n",
    "データセット：House Prices: Advanced Regression Techniques  \n",
    "https://www.kaggle.com/c/house-prices-advanced-regression-techniques/data\n",
    "\n",
    "目的変数としてSalePrice、説明変数として、GrLivAreaとYearBuiltを使用"
   ]
  },
  {
   "cell_type": "code",
   "execution_count": 1,
   "metadata": {},
   "outputs": [
    {
     "data": {
      "text/html": [
       "<div>\n",
       "<table border=\"1\" class=\"dataframe\">\n",
       "  <thead>\n",
       "    <tr style=\"text-align: right;\">\n",
       "      <th></th>\n",
       "      <th>Id</th>\n",
       "      <th>MSSubClass</th>\n",
       "      <th>MSZoning</th>\n",
       "      <th>LotFrontage</th>\n",
       "      <th>LotArea</th>\n",
       "      <th>Street</th>\n",
       "      <th>Alley</th>\n",
       "      <th>LotShape</th>\n",
       "      <th>LandContour</th>\n",
       "      <th>Utilities</th>\n",
       "      <th>...</th>\n",
       "      <th>PoolArea</th>\n",
       "      <th>PoolQC</th>\n",
       "      <th>Fence</th>\n",
       "      <th>MiscFeature</th>\n",
       "      <th>MiscVal</th>\n",
       "      <th>MoSold</th>\n",
       "      <th>YrSold</th>\n",
       "      <th>SaleType</th>\n",
       "      <th>SaleCondition</th>\n",
       "      <th>SalePrice</th>\n",
       "    </tr>\n",
       "  </thead>\n",
       "  <tbody>\n",
       "    <tr>\n",
       "      <th>0</th>\n",
       "      <td>1</td>\n",
       "      <td>60</td>\n",
       "      <td>RL</td>\n",
       "      <td>65.0</td>\n",
       "      <td>8450</td>\n",
       "      <td>Pave</td>\n",
       "      <td>NaN</td>\n",
       "      <td>Reg</td>\n",
       "      <td>Lvl</td>\n",
       "      <td>AllPub</td>\n",
       "      <td>...</td>\n",
       "      <td>0</td>\n",
       "      <td>NaN</td>\n",
       "      <td>NaN</td>\n",
       "      <td>NaN</td>\n",
       "      <td>0</td>\n",
       "      <td>2</td>\n",
       "      <td>2008</td>\n",
       "      <td>WD</td>\n",
       "      <td>Normal</td>\n",
       "      <td>208500</td>\n",
       "    </tr>\n",
       "    <tr>\n",
       "      <th>1</th>\n",
       "      <td>2</td>\n",
       "      <td>20</td>\n",
       "      <td>RL</td>\n",
       "      <td>80.0</td>\n",
       "      <td>9600</td>\n",
       "      <td>Pave</td>\n",
       "      <td>NaN</td>\n",
       "      <td>Reg</td>\n",
       "      <td>Lvl</td>\n",
       "      <td>AllPub</td>\n",
       "      <td>...</td>\n",
       "      <td>0</td>\n",
       "      <td>NaN</td>\n",
       "      <td>NaN</td>\n",
       "      <td>NaN</td>\n",
       "      <td>0</td>\n",
       "      <td>5</td>\n",
       "      <td>2007</td>\n",
       "      <td>WD</td>\n",
       "      <td>Normal</td>\n",
       "      <td>181500</td>\n",
       "    </tr>\n",
       "    <tr>\n",
       "      <th>2</th>\n",
       "      <td>3</td>\n",
       "      <td>60</td>\n",
       "      <td>RL</td>\n",
       "      <td>68.0</td>\n",
       "      <td>11250</td>\n",
       "      <td>Pave</td>\n",
       "      <td>NaN</td>\n",
       "      <td>IR1</td>\n",
       "      <td>Lvl</td>\n",
       "      <td>AllPub</td>\n",
       "      <td>...</td>\n",
       "      <td>0</td>\n",
       "      <td>NaN</td>\n",
       "      <td>NaN</td>\n",
       "      <td>NaN</td>\n",
       "      <td>0</td>\n",
       "      <td>9</td>\n",
       "      <td>2008</td>\n",
       "      <td>WD</td>\n",
       "      <td>Normal</td>\n",
       "      <td>223500</td>\n",
       "    </tr>\n",
       "    <tr>\n",
       "      <th>3</th>\n",
       "      <td>4</td>\n",
       "      <td>70</td>\n",
       "      <td>RL</td>\n",
       "      <td>60.0</td>\n",
       "      <td>9550</td>\n",
       "      <td>Pave</td>\n",
       "      <td>NaN</td>\n",
       "      <td>IR1</td>\n",
       "      <td>Lvl</td>\n",
       "      <td>AllPub</td>\n",
       "      <td>...</td>\n",
       "      <td>0</td>\n",
       "      <td>NaN</td>\n",
       "      <td>NaN</td>\n",
       "      <td>NaN</td>\n",
       "      <td>0</td>\n",
       "      <td>2</td>\n",
       "      <td>2006</td>\n",
       "      <td>WD</td>\n",
       "      <td>Abnorml</td>\n",
       "      <td>140000</td>\n",
       "    </tr>\n",
       "    <tr>\n",
       "      <th>4</th>\n",
       "      <td>5</td>\n",
       "      <td>60</td>\n",
       "      <td>RL</td>\n",
       "      <td>84.0</td>\n",
       "      <td>14260</td>\n",
       "      <td>Pave</td>\n",
       "      <td>NaN</td>\n",
       "      <td>IR1</td>\n",
       "      <td>Lvl</td>\n",
       "      <td>AllPub</td>\n",
       "      <td>...</td>\n",
       "      <td>0</td>\n",
       "      <td>NaN</td>\n",
       "      <td>NaN</td>\n",
       "      <td>NaN</td>\n",
       "      <td>0</td>\n",
       "      <td>12</td>\n",
       "      <td>2008</td>\n",
       "      <td>WD</td>\n",
       "      <td>Normal</td>\n",
       "      <td>250000</td>\n",
       "    </tr>\n",
       "  </tbody>\n",
       "</table>\n",
       "<p>5 rows × 81 columns</p>\n",
       "</div>"
      ],
      "text/plain": [
       "   Id  MSSubClass MSZoning  LotFrontage  LotArea Street Alley LotShape  \\\n",
       "0   1          60       RL         65.0     8450   Pave   NaN      Reg   \n",
       "1   2          20       RL         80.0     9600   Pave   NaN      Reg   \n",
       "2   3          60       RL         68.0    11250   Pave   NaN      IR1   \n",
       "3   4          70       RL         60.0     9550   Pave   NaN      IR1   \n",
       "4   5          60       RL         84.0    14260   Pave   NaN      IR1   \n",
       "\n",
       "  LandContour Utilities    ...     PoolArea PoolQC Fence MiscFeature MiscVal  \\\n",
       "0         Lvl    AllPub    ...            0    NaN   NaN         NaN       0   \n",
       "1         Lvl    AllPub    ...            0    NaN   NaN         NaN       0   \n",
       "2         Lvl    AllPub    ...            0    NaN   NaN         NaN       0   \n",
       "3         Lvl    AllPub    ...            0    NaN   NaN         NaN       0   \n",
       "4         Lvl    AllPub    ...            0    NaN   NaN         NaN       0   \n",
       "\n",
       "  MoSold YrSold  SaleType  SaleCondition  SalePrice  \n",
       "0      2   2008        WD         Normal     208500  \n",
       "1      5   2007        WD         Normal     181500  \n",
       "2      9   2008        WD         Normal     223500  \n",
       "3      2   2006        WD        Abnorml     140000  \n",
       "4     12   2008        WD         Normal     250000  \n",
       "\n",
       "[5 rows x 81 columns]"
      ]
     },
     "execution_count": 1,
     "metadata": {},
     "output_type": "execute_result"
    }
   ],
   "source": [
    "import numpy as np\n",
    "import pandas as pd\n",
    "import matplotlib.pyplot as plt\n",
    "%matplotlib inline\n",
    "import seaborn as sns\n",
    "from IPython.display import display\n",
    "\n",
    "df = pd.read_csv('input/train.csv')\n",
    "df.head()"
   ]
  },
  {
   "cell_type": "code",
   "execution_count": 2,
   "metadata": {},
   "outputs": [],
   "source": [
    "# 説明変数\n",
    "X=df[['GrLivArea','YearBuilt']]\n",
    "# 目的変数\n",
    "y=df[['SalePrice']]"
   ]
  },
  {
   "cell_type": "markdown",
   "metadata": {},
   "source": [
    "### GrLivArea と SalePrice のプロット"
   ]
  },
  {
   "cell_type": "code",
   "execution_count": 3,
   "metadata": {},
   "outputs": [
    {
     "data": {
      "image/png": "[encoded data removed]",
      "text/plain": [
       "<Figure size 432x288 with 1 Axes>"
      ]
     },
     "metadata": {},
     "output_type": "display_data"
    }
   ],
   "source": [
    "plt.scatter(X[\"GrLivArea\"],y['SalePrice'])\n",
    "plt.xlabel(\"GrLivArea\")\n",
    "plt.ylabel(\"SalePrice\")\n",
    "plt.show()"
   ]
  },
  {
   "cell_type": "markdown",
   "metadata": {},
   "source": [
    "### YearBuilt と SalePrice のプロット"
   ]
  },
  {
   "cell_type": "code",
   "execution_count": 4,
   "metadata": {},
   "outputs": [
    {
     "data": {
      "image/png": "[encoded data removed]",
      "text/plain": [
       "<Figure size 432x288 with 1 Axes>"
      ]
     },
     "metadata": {},
     "output_type": "display_data"
    }
   ],
   "source": [
    "plt.scatter(X[\"YearBuilt\"],y[\"SalePrice\"])\n",
    "plt.xlabel(\"YearBuilt\")\n",
    "plt.ylabel(\"SalePrice\")\n",
    "plt.show()"
   ]
  },
  {
   "cell_type": "markdown",
   "metadata": {},
   "source": [
    "ともに正の相関であることがわかる。"
   ]
  },
  {
   "cell_type": "markdown",
   "metadata": {},
   "source": [
    "## 3. フィーチャースケーリングについて\n"
   ]
  },
  {
   "cell_type": "markdown",
   "metadata": {},
   "source": [
    "### １）正規化とは\n",
    "複数の数値データを数的関係を保持しながら集約し、利用しやすくすること。  \n",
    "主に [ 0, 1 ] か[ -1, 1 ] の範囲内におさめることが多い。"
   ]
  },
  {
   "cell_type": "markdown",
   "metadata": {},
   "source": [
    "#### 例：あるクラスの数学と英語のテスト結果表\n",
    "生徒はA〜Eの５名で、数学は２００点満点、英語は１００点満点"
   ]
  },
  {
   "cell_type": "code",
   "execution_count": 5,
   "metadata": {},
   "outputs": [
    {
     "data": {
      "text/html": [
       "<div>\n",
       "<table border=\"1\" class=\"dataframe\">\n",
       "  <thead>\n",
       "    <tr style=\"text-align: right;\">\n",
       "      <th></th>\n",
       "      <th>数学</th>\n",
       "      <th>英語</th>\n",
       "    </tr>\n",
       "  </thead>\n",
       "  <tbody>\n",
       "    <tr>\n",
       "      <th>A</th>\n",
       "      <td>90</td>\n",
       "      <td>70</td>\n",
       "    </tr>\n",
       "    <tr>\n",
       "      <th>B</th>\n",
       "      <td>170</td>\n",
       "      <td>80</td>\n",
       "    </tr>\n",
       "    <tr>\n",
       "      <th>C</th>\n",
       "      <td>110</td>\n",
       "      <td>60</td>\n",
       "    </tr>\n",
       "    <tr>\n",
       "      <th>D</th>\n",
       "      <td>100</td>\n",
       "      <td>90</td>\n",
       "    </tr>\n",
       "    <tr>\n",
       "      <th>E</th>\n",
       "      <td>130</td>\n",
       "      <td>80</td>\n",
       "    </tr>\n",
       "  </tbody>\n",
       "</table>\n",
       "</div>"
      ],
      "text/plain": [
       "    数学  英語\n",
       "A   90  70\n",
       "B  170  80\n",
       "C  110  60\n",
       "D  100  90\n",
       "E  130  80"
      ]
     },
     "execution_count": 5,
     "metadata": {},
     "output_type": "execute_result"
    }
   ],
   "source": [
    "test=pd.DataFrame({\"A\":[90,70],\"B\":[170,80], \"C\":[110,60], \"D\":[100,90], \"E\":[130,80]}, index=[\"数学\", \"英語\"]).T\n",
    "test"
   ]
  },
  {
   "cell_type": "markdown",
   "metadata": {},
   "source": [
    "- 各教科ごとに、各生徒を比較評価できる\n",
    "- 教科を跨いでの比較評価が難しい\n",
    "\n",
    "0〜1の範囲で正規化をすると、"
   ]
  },
  {
   "cell_type": "code",
   "execution_count": 6,
   "metadata": {},
   "outputs": [
    {
     "data": {
      "text/html": [
       "<div>\n",
       "<table border=\"1\" class=\"dataframe\">\n",
       "  <thead>\n",
       "    <tr style=\"text-align: right;\">\n",
       "      <th></th>\n",
       "      <th>数学</th>\n",
       "      <th>英語</th>\n",
       "    </tr>\n",
       "  </thead>\n",
       "  <tbody>\n",
       "    <tr>\n",
       "      <th>A</th>\n",
       "      <td>0.00</td>\n",
       "      <td>0.33</td>\n",
       "    </tr>\n",
       "    <tr>\n",
       "      <th>B</th>\n",
       "      <td>1.00</td>\n",
       "      <td>0.67</td>\n",
       "    </tr>\n",
       "    <tr>\n",
       "      <th>C</th>\n",
       "      <td>0.25</td>\n",
       "      <td>0.00</td>\n",
       "    </tr>\n",
       "    <tr>\n",
       "      <th>D</th>\n",
       "      <td>0.12</td>\n",
       "      <td>1.00</td>\n",
       "    </tr>\n",
       "    <tr>\n",
       "      <th>E</th>\n",
       "      <td>0.50</td>\n",
       "      <td>0.67</td>\n",
       "    </tr>\n",
       "  </tbody>\n",
       "</table>\n",
       "</div>"
      ],
      "text/plain": [
       "     数学    英語\n",
       "A  0.00  0.33\n",
       "B  1.00  0.67\n",
       "C  0.25  0.00\n",
       "D  0.12  1.00\n",
       "E  0.50  0.67"
      ]
     },
     "execution_count": 6,
     "metadata": {},
     "output_type": "execute_result"
    }
   ],
   "source": [
    "test_norm = (test-test.min()) / (test.max()-test.min())\n",
    "test_norm = round(test_norm, 2)\n",
    "test_norm"
   ]
  },
  {
   "cell_type": "markdown",
   "metadata": {},
   "source": [
    "各教科ごとに、各生徒を比較評価しつつ（互いの数的関係を維持しつつ）、教科を跨いでの比較評価も可能\n",
    "\n",
    "#### 疑問\n",
    "数学0と英語0、数学1と英語１の評価が同じでいいのか。  \n",
    "大きく外れた点数（最大点、最小点）をとっても、値が変わらない。"
   ]
  },
  {
   "cell_type": "markdown",
   "metadata": {},
   "source": [
    "### ２）標準化とは\n",
    "正規化と同様、複数の数値データを数的関係を保持しながら集約し、利用しやすくすること。  \n",
    "ただ集約のルールが異なり、平均を0、標準偏差を1になるように集約させる。"
   ]
  },
  {
   "cell_type": "code",
   "execution_count": 7,
   "metadata": {},
   "outputs": [
    {
     "data": {
      "text/html": [
       "<div>\n",
       "<table border=\"1\" class=\"dataframe\">\n",
       "  <thead>\n",
       "    <tr style=\"text-align: right;\">\n",
       "      <th></th>\n",
       "      <th>数学</th>\n",
       "      <th>英語</th>\n",
       "    </tr>\n",
       "  </thead>\n",
       "  <tbody>\n",
       "    <tr>\n",
       "      <th>A</th>\n",
       "      <td>-0.95</td>\n",
       "      <td>-0.53</td>\n",
       "    </tr>\n",
       "    <tr>\n",
       "      <th>B</th>\n",
       "      <td>1.58</td>\n",
       "      <td>0.35</td>\n",
       "    </tr>\n",
       "    <tr>\n",
       "      <th>C</th>\n",
       "      <td>-0.32</td>\n",
       "      <td>-1.40</td>\n",
       "    </tr>\n",
       "    <tr>\n",
       "      <th>D</th>\n",
       "      <td>-0.63</td>\n",
       "      <td>1.23</td>\n",
       "    </tr>\n",
       "    <tr>\n",
       "      <th>E</th>\n",
       "      <td>0.32</td>\n",
       "      <td>0.35</td>\n",
       "    </tr>\n",
       "  </tbody>\n",
       "</table>\n",
       "</div>"
      ],
      "text/plain": [
       "     数学    英語\n",
       "A -0.95 -0.53\n",
       "B  1.58  0.35\n",
       "C -0.32 -1.40\n",
       "D -0.63  1.23\n",
       "E  0.32  0.35"
      ]
     },
     "execution_count": 7,
     "metadata": {},
     "output_type": "execute_result"
    }
   ],
   "source": [
    "test_std = (test-test.mean()) / test.std()\n",
    "test_std = round(test_std, 2)\n",
    "test_std"
   ]
  },
  {
   "cell_type": "markdown",
   "metadata": {},
   "source": [
    "各教科ごとに、各生徒を比較評価しつつ（互いの数的関係を維持しつつ）、教科を跨いで、すべての生徒の比較評価が可能  \n",
    "各クラスのごとの得意不得意教科も判断できる"
   ]
  },
  {
   "cell_type": "markdown",
   "metadata": {},
   "source": [
    "### ３）正規化、標準化の違い"
   ]
  },
  {
   "cell_type": "markdown",
   "metadata": {},
   "source": [
    "上記例からもわかるように、標準化の場合、大きく外れた数値（外れ値）に対しても、比較評価ができる。  \n",
    "また正規化は、データが一様分布と想定する場合に、標準化は正規分布（ガウス分布）と想定する場合に使用される。"
   ]
  },
  {
   "cell_type": "markdown",
   "metadata": {},
   "source": [
    "### ４）フィーチャースケーリングのメリット"
   ]
  },
  {
   "cell_type": "markdown",
   "metadata": {},
   "source": [
    "各数値データの尺度が統一されることで、数値データを跨いで、比較評価することができるようになる。  \n",
    "また各特徴量のスケールを同じ範囲にすることで、より少ない学習回数で収束することができる。"
   ]
  },
  {
   "cell_type": "markdown",
   "metadata": {},
   "source": [
    "### SalePrice を標準化"
   ]
  },
  {
   "cell_type": "code",
   "execution_count": 8,
   "metadata": {},
   "outputs": [
    {
     "data": {
      "text/html": [
       "<div>\n",
       "<table border=\"1\" class=\"dataframe\">\n",
       "  <thead>\n",
       "    <tr style=\"text-align: right;\">\n",
       "      <th></th>\n",
       "      <th>SalePrice</th>\n",
       "    </tr>\n",
       "  </thead>\n",
       "  <tbody>\n",
       "    <tr>\n",
       "      <th>0</th>\n",
       "      <td>0.347154</td>\n",
       "    </tr>\n",
       "    <tr>\n",
       "      <th>1</th>\n",
       "      <td>0.007286</td>\n",
       "    </tr>\n",
       "    <tr>\n",
       "      <th>2</th>\n",
       "      <td>0.535970</td>\n",
       "    </tr>\n",
       "    <tr>\n",
       "      <th>3</th>\n",
       "      <td>-0.515105</td>\n",
       "    </tr>\n",
       "    <tr>\n",
       "      <th>4</th>\n",
       "      <td>0.869545</td>\n",
       "    </tr>\n",
       "  </tbody>\n",
       "</table>\n",
       "</div>"
      ],
      "text/plain": [
       "   SalePrice\n",
       "0   0.347154\n",
       "1   0.007286\n",
       "2   0.535970\n",
       "3  -0.515105\n",
       "4   0.869545"
      ]
     },
     "execution_count": 8,
     "metadata": {},
     "output_type": "execute_result"
    }
   ],
   "source": [
    "y = (y - y.mean()) / y.std()\n",
    "y.head()"
   ]
  },
  {
   "cell_type": "markdown",
   "metadata": {},
   "source": [
    "### GrLivArea ,YearBuilt を標準化"
   ]
  },
  {
   "cell_type": "code",
   "execution_count": 9,
   "metadata": {},
   "outputs": [
    {
     "data": {
      "text/html": [
       "<div>\n",
       "<table border=\"1\" class=\"dataframe\">\n",
       "  <thead>\n",
       "    <tr style=\"text-align: right;\">\n",
       "      <th></th>\n",
       "      <th>GrLivArea</th>\n",
       "      <th>YearBuilt</th>\n",
       "    </tr>\n",
       "  </thead>\n",
       "  <tbody>\n",
       "    <tr>\n",
       "      <th>0</th>\n",
       "      <td>0.370207</td>\n",
       "      <td>1.050634</td>\n",
       "    </tr>\n",
       "    <tr>\n",
       "      <th>1</th>\n",
       "      <td>-0.482347</td>\n",
       "      <td>0.156680</td>\n",
       "    </tr>\n",
       "    <tr>\n",
       "      <th>2</th>\n",
       "      <td>0.514836</td>\n",
       "      <td>0.984415</td>\n",
       "    </tr>\n",
       "    <tr>\n",
       "      <th>3</th>\n",
       "      <td>0.383528</td>\n",
       "      <td>-1.862993</td>\n",
       "    </tr>\n",
       "    <tr>\n",
       "      <th>4</th>\n",
       "      <td>1.298881</td>\n",
       "      <td>0.951306</td>\n",
       "    </tr>\n",
       "  </tbody>\n",
       "</table>\n",
       "</div>"
      ],
      "text/plain": [
       "   GrLivArea  YearBuilt\n",
       "0   0.370207   1.050634\n",
       "1  -0.482347   0.156680\n",
       "2   0.514836   0.984415\n",
       "3   0.383528  -1.862993\n",
       "4   1.298881   0.951306"
      ]
     },
     "execution_count": 9,
     "metadata": {},
     "output_type": "execute_result"
    }
   ],
   "source": [
    "X = (X - X.mean()) / X.std()\n",
    "X.head()"
   ]
  },
  {
   "cell_type": "markdown",
   "metadata": {},
   "source": [
    "## 4. 最急降下法について"
   ]
  },
  {
   "cell_type": "markdown",
   "metadata": {},
   "source": [
    "### 線形回帰における目的関数（コスト関数、損失関数）を実装  "
   ]
  },
  {
   "cell_type": "markdown",
   "metadata": {},
   "source": [
    "仮説関数（線形回帰モデル）  \n",
    "$h_\\theta(x) =  \\theta_0 x_0 + \\theta_1 x_1 + ... +\\theta_n x_n   (x_0 = 1)$\n",
    "\n",
    "目的関数（コスト関数、損失関数）  \n",
    "$J(\\theta)=  \\frac{1 }{ 2m}  \\sum_{i=1}^{m} (h_\\theta(x^{(i)})-y^{(i)})^2$"
   ]
  },
  {
   "cell_type": "code",
   "execution_count": 10,
   "metadata": {},
   "outputs": [
    {
     "data": {
      "text/html": [
       "<div>\n",
       "<table border=\"1\" class=\"dataframe\">\n",
       "  <thead>\n",
       "    <tr style=\"text-align: right;\">\n",
       "      <th></th>\n",
       "      <th>GrLivArea</th>\n",
       "      <th>YearBuilt</th>\n",
       "      <th>x0</th>\n",
       "    </tr>\n",
       "  </thead>\n",
       "  <tbody>\n",
       "    <tr>\n",
       "      <th>0</th>\n",
       "      <td>0.370207</td>\n",
       "      <td>1.050634</td>\n",
       "      <td>1</td>\n",
       "    </tr>\n",
       "    <tr>\n",
       "      <th>1</th>\n",
       "      <td>-0.482347</td>\n",
       "      <td>0.156680</td>\n",
       "      <td>1</td>\n",
       "    </tr>\n",
       "    <tr>\n",
       "      <th>2</th>\n",
       "      <td>0.514836</td>\n",
       "      <td>0.984415</td>\n",
       "      <td>1</td>\n",
       "    </tr>\n",
       "    <tr>\n",
       "      <th>3</th>\n",
       "      <td>0.383528</td>\n",
       "      <td>-1.862993</td>\n",
       "      <td>1</td>\n",
       "    </tr>\n",
       "    <tr>\n",
       "      <th>4</th>\n",
       "      <td>1.298881</td>\n",
       "      <td>0.951306</td>\n",
       "      <td>1</td>\n",
       "    </tr>\n",
       "  </tbody>\n",
       "</table>\n",
       "</div>"
      ],
      "text/plain": [
       "   GrLivArea  YearBuilt  x0\n",
       "0   0.370207   1.050634   1\n",
       "1  -0.482347   0.156680   1\n",
       "2   0.514836   0.984415   1\n",
       "3   0.383528  -1.862993   1\n",
       "4   1.298881   0.951306   1"
      ]
     },
     "execution_count": 10,
     "metadata": {},
     "output_type": "execute_result"
    }
   ],
   "source": [
    "# 各データに特徴量の値が１になる列を追記（切片、定数項）\n",
    "X[\"x0\"]=1\n",
    "X.head()"
   ]
  },
  {
   "cell_type": "code",
   "execution_count": 11,
   "metadata": {},
   "outputs": [
    {
     "data": {
      "text/html": [
       "<div>\n",
       "<table border=\"1\" class=\"dataframe\">\n",
       "  <thead>\n",
       "    <tr style=\"text-align: right;\">\n",
       "      <th></th>\n",
       "      <th>0</th>\n",
       "    </tr>\n",
       "  </thead>\n",
       "  <tbody>\n",
       "    <tr>\n",
       "      <th>0</th>\n",
       "      <td>0.548814</td>\n",
       "    </tr>\n",
       "    <tr>\n",
       "      <th>1</th>\n",
       "      <td>0.715189</td>\n",
       "    </tr>\n",
       "    <tr>\n",
       "      <th>2</th>\n",
       "      <td>0.602763</td>\n",
       "    </tr>\n",
       "  </tbody>\n",
       "</table>\n",
       "</div>"
      ],
      "text/plain": [
       "          0\n",
       "0  0.548814\n",
       "1  0.715189\n",
       "2  0.602763"
      ]
     },
     "execution_count": 11,
     "metadata": {},
     "output_type": "execute_result"
    }
   ],
   "source": [
    "# ３つの特徴量の係数θ（ランダム）を作成\n",
    "np.random.seed(0)\n",
    "theta=pd.DataFrame(np.random.rand(3))\n",
    "theta"
   ]
  },
  {
   "cell_type": "code",
   "execution_count": 12,
   "metadata": {},
   "outputs": [
    {
     "data": {
      "text/plain": [
       "SalePrice    0.403095\n",
       "dtype: float64"
      ]
     },
     "execution_count": 12,
     "metadata": {},
     "output_type": "execute_result"
    }
   ],
   "source": [
    "# 総データ数\n",
    "m = len(X)\n",
    "\n",
    "def compute_cost(X, y, theta):\n",
    "    h = np.dot(X, theta)\n",
    "    J = np.sum((h - y)**2)/(2*m)\n",
    "    return J\n",
    "\n",
    "compute_cost(X, y, theta)"
   ]
  },
  {
   "cell_type": "markdown",
   "metadata": {},
   "source": [
    "### $\\theta_0$ の役割\n",
    "線形回帰モデルは、以下のように $\\theta_0$ つまり、切片が存在する。\n",
    "\n",
    "$h_\\theta(x) =  \\theta_0 x_0 + \\theta_1 x_1 + ... +\\theta_n x_n   (x_0 = 1)$\n",
    "\n",
    "この $\\theta_0$ の役割として、説明変数すべての値が０のとき、目的変数が０になるかわからないデータセットの場合、切片を０にしてしまうと、それが縛りとなり、モデルの表現力を下げることになる。"
   ]
  },
  {
   "cell_type": "markdown",
   "metadata": {},
   "source": [
    "### 最急降下法（勾配降下法）の実装"
   ]
  },
  {
   "cell_type": "markdown",
   "metadata": {},
   "source": [
    "$\\theta_j := \\theta_j - \\alpha \\frac{1}{m} \\displaystyle\\sum_{i=1}^{m}[(h_\\theta(x^{(i)}) - y^{(i)} )x_{j}^{(i)}]$"
   ]
  },
  {
   "cell_type": "code",
   "execution_count": 13,
   "metadata": {},
   "outputs": [],
   "source": [
    "def gradient_descent(X, y, theta, iterations, alpha):\n",
    "    \n",
    "    # alpha： ステップ幅（学習率）\n",
    "    # iterations： 反復回数\n",
    "    \n",
    "    m = len(X)\n",
    "    past_costs = []\n",
    "    past_thetas = []\n",
    "\n",
    "    for i in range(iterations):\n",
    "        past_costs.append(compute_cost(X, y, theta))\n",
    "        past_thetas.append(theta)\n",
    "        h = np.dot(X, theta)\n",
    "        theta = theta - (alpha/m) * np.dot(X.T, h - y)\n",
    "    return past_costs"
   ]
  },
  {
   "cell_type": "markdown",
   "metadata": {
    "collapsed": true
   },
   "source": [
    "### 線形回帰における最急降下法の導出式\n",
    "以下の式から、\n",
    "\n",
    "$\\theta_j := \\theta_j - \\frac{\\partial}{\\partial \\theta_j}J(\\theta) $\n",
    "\n",
    "以下の式が得られるまでを導出すれば良い\n",
    "\n",
    "$\\theta_j := \\theta_j - \\alpha \\frac{1}{m} \\displaystyle\\sum_{i=1}^{m}[(h_\\theta(x^{(i)} - y^{(i)} )x_{j}^{(i)}]$\n",
    "\n",
    "但し、 $i\\neq0$ である。"
   ]
  },
  {
   "cell_type": "markdown",
   "metadata": {
    "collapsed": true
   },
   "source": [
    " $v = h_\\theta(x)$ とする。\n",
    "\n",
    "$ \\frac{\\partial}{\\partial \\theta_j}J(\\theta) = \\frac{\\partial}{\\partial v} J(\\theta)\\frac{\\partial v}{\\partial \\theta_j}$\n",
    "\n",
    "$ \\frac{\\partial}{\\partial \\theta_j}J(\\theta) $\n",
    "\n",
    "$ = \\frac{1}{2m}\\displaystyle\\sum_{i=1}^{m}\\frac{\\partial}{\\partial v}(v - y_i)^2 $\n",
    "\n",
    "$ = \\frac{1}{m}\\displaystyle\\sum_{i=1}^{m}(v - y_i) $ ①\n",
    "\n",
    "$ \\frac{\\partial v}{\\partial \\theta_j}$\n",
    "\n",
    "$ = \\frac{\\partial}{\\partial \\theta_j}(\\theta_0x_0 + \\theta_1x_1 + ... + \\theta_jx_j + ... + \\theta_nx_n)$\n",
    "\n",
    "$ = x_j $ ②\n",
    "\n",
    "①②より\n",
    "\n",
    "$ \\frac{\\partial}{\\partial \\theta_j}J(\\theta) $\n",
    "\n",
    "$=\\frac{1}{m}\\displaystyle\\sum_{i=1}^{m}(v - y_i)x_j$\n",
    "\n",
    "$=\\frac{1}{m} \\displaystyle\\sum_{i=1}^{m}[(h_\\theta(x^{(i)} - y^{(i)} )x_{j}^{(i)}]$\n",
    "\n",
    "したがって\n",
    "\n",
    "$\\theta_j := \\theta_j - \\alpha \\frac{1}{m} \\displaystyle\\sum_{i=1}^{m}[(h_\\theta(x^{(i)} - y^{(i)} )x_{j}^{(i)}]$\n"
   ]
  },
  {
   "cell_type": "markdown",
   "metadata": {},
   "source": [
    "### 最急降下法について、なぜ局所解が得られるのか"
   ]
  },
  {
   "cell_type": "markdown",
   "metadata": {
    "collapsed": true
   },
   "source": [
    "多項式回帰の場合、目的関数が $\\theta$ の3次式以上となるため、凸の数が複数になり、局所解（コストが最小にならない解）が発生し得る。  \n",
    "そのため、ランダムに生成された初期値$\\theta$が、グラフの局所解付近からスタートし始めたら、局所解に捕まることになる。  \n",
    "単回帰や重回帰の場合、目的関数が $\\theta$ の2次式で、凸の数がひとつしかないため、そもそも局所解が存在しない。よって、自ずと最適解が得られる。"
   ]
  },
  {
   "cell_type": "markdown",
   "metadata": {},
   "source": [
    "## 5. 学習について"
   ]
  },
  {
   "cell_type": "markdown",
   "metadata": {},
   "source": [
    "### 学習率\n",
    "一般的には0から1の間で、学習率を選択し、0.001〜0.01あたりから始めるのが通例とされている。  \n",
    "学習率を大きめにとると、最適解を跨ぎつづけ収束しきれない。その際のパラメーターを取得しても誤差が大きいため、未学習（Underfitting）の可能性が高い。  \n",
    "学習率を小さめにとると、移動量が多くなって、パラメータの更新回数は増えるものの、最適解に収束しやすい。なので誤差が限りなく小さいパラメータを取得できるが、あくまでもトレインデータでのモデルなので、  過学習（Overfitting）していないかどうか、テストデータでの検証は必要である。"
   ]
  },
  {
   "cell_type": "markdown",
   "metadata": {},
   "source": [
    "### 学習曲線について\n",
    "パラメータを都度更新させ、実測値との誤差が最小の値をとる最適解に収束しているかどうかグラフで判断するときに使用。  \n",
    "曲線にブレが見られると、収束しきれていないと見ることができ、大きく上に反れていると発散しているということがが分かる。  \n",
    "逆に目視で曲線にブレが見られなければ、最適解付近に収束していると判断することができる。"
   ]
  },
  {
   "cell_type": "markdown",
   "metadata": {},
   "source": [
    "## 6. 学習曲線のプロット\n",
    "past_costsを使用して、学習曲線を表示する関数を作成せよ。"
   ]
  },
  {
   "cell_type": "code",
   "execution_count": 15,
   "metadata": {},
   "outputs": [],
   "source": [
    "def plot_learning_curve(iterations, past_costs):\n",
    "    plt.plot(range(0,iterations),past_costs)\n",
    "    plt.xlabel(\"Iterations\")\n",
    "    plt.ylabel(\"Costs\")\n",
    "    plt.show()"
   ]
  },
  {
   "cell_type": "markdown",
   "metadata": {},
   "source": [
    "### 学習率 0.001のプロット"
   ]
  },
  {
   "cell_type": "code",
   "execution_count": 16,
   "metadata": {},
   "outputs": [
    {
     "data": {
      "image/png": "[encoded data removed]",
      "text/plain": [
       "<Figure size 432x288 with 1 Axes>"
      ]
     },
     "metadata": {},
     "output_type": "display_data"
    }
   ],
   "source": [
    "# 学習率\n",
    "alpha = 0.001\n",
    "# 反復回数\n",
    "iterations = 300\n",
    "past_costs=gradient_descent(X, y, theta, iterations, alpha)\n",
    "plot_learning_curve(iterations, past_costs)"
   ]
  },
  {
   "cell_type": "markdown",
   "metadata": {},
   "source": [
    "### 学習率 0.01のプロット"
   ]
  },
  {
   "cell_type": "code",
   "execution_count": 17,
   "metadata": {},
   "outputs": [
    {
     "data": {
      "image/png": "[encoded data removed]",
      "text/plain": [
       "<Figure size 432x288 with 1 Axes>"
      ]
     },
     "metadata": {},
     "output_type": "display_data"
    }
   ],
   "source": [
    "# 学習率\n",
    "alpha = 0.01\n",
    "# 反復回数\n",
    "iterations = 300\n",
    "past_costs=gradient_descent(X, y, theta, iterations, alpha)\n",
    "plot_learning_curve(iterations, past_costs)"
   ]
  },
  {
   "cell_type": "markdown",
   "metadata": {},
   "source": [
    "### 学習率 0.1のプロット"
   ]
  },
  {
   "cell_type": "code",
   "execution_count": 18,
   "metadata": {},
   "outputs": [
    {
     "data": {
      "image/png": "[encoded data removed]",
      "text/plain": [
       "<Figure size 432x288 with 1 Axes>"
      ]
     },
     "metadata": {},
     "output_type": "display_data"
    }
   ],
   "source": [
    "# 学習率\n",
    "alpha = 0.1\n",
    "# 反復回数\n",
    "iterations = 300\n",
    "past_costs=gradient_descent(X, y, theta, iterations, alpha)\n",
    "plot_learning_curve(iterations, past_costs)"
   ]
  },
  {
   "cell_type": "markdown",
   "metadata": {},
   "source": [
    "学習率を上げていくと、少ない学習回数で収束していくことが分かる。"
   ]
  },
  {
   "cell_type": "markdown",
   "metadata": {},
   "source": [
    "## 7. クラス化"
   ]
  },
  {
   "cell_type": "code",
   "execution_count": 19,
   "metadata": {},
   "outputs": [],
   "source": [
    "class LinearModel():\n",
    "\n",
    "    def __init__(self, X, y):\n",
    "        self.X=X\n",
    "        self.y=y\n",
    "\n",
    "    # 目的関数\n",
    "    def compute_cost(self, theta):\n",
    "        h = np.dot(self.X, theta)\n",
    "        J = np.sum((h - self.y)**2)/(2*m)\n",
    "        return J \n",
    "\n",
    "    # 最急降下法関数\n",
    "    def gradient_descent(self, theta, iterations, alpha):\n",
    "        m = len(self.X)\n",
    "        past_costs = []\n",
    "        past_thetas = []\n",
    "\n",
    "        for i in range(iterations):\n",
    "            past_costs.append(self.compute_cost(theta))\n",
    "            past_thetas.append(theta)\n",
    "            h = np.dot(self.X, theta)\n",
    "            theta = theta - (alpha/m) * np.dot(self.X.T, h - self.y)\n",
    "        return past_costs, past_thetas\n",
    "\n",
    "    # 学習曲線プロット関数\n",
    "    def plot_learning_curve(self, iterations, past_costs):\n",
    "        plt.plot(range(0,iterations),past_costs)\n",
    "        plt.xlabel(\"Iterations\")\n",
    "        plt.ylabel(\"Costs\")\n",
    "        plt.show()\n"
   ]
  },
  {
   "cell_type": "markdown",
   "metadata": {},
   "source": [
    "### 動作確認"
   ]
  },
  {
   "cell_type": "code",
   "execution_count": 20,
   "metadata": {},
   "outputs": [],
   "source": [
    "np.random.seed(0)\n",
    "theta=pd.DataFrame(np.random.rand(3))\n",
    "iterations=10\n",
    "alpha=0.01\n",
    "\n",
    "# クラスオブジェクト作成\n",
    "LM = LinearModel(X, y)"
   ]
  },
  {
   "cell_type": "code",
   "execution_count": 21,
   "metadata": {},
   "outputs": [
    {
     "data": {
      "text/plain": [
       "SalePrice    0.403095\n",
       "dtype: float64"
      ]
     },
     "execution_count": 21,
     "metadata": {},
     "output_type": "execute_result"
    }
   ],
   "source": [
    "# 目的関数の動作確認\n",
    "LM.compute_cost(theta)"
   ]
  },
  {
   "cell_type": "code",
   "execution_count": 22,
   "metadata": {},
   "outputs": [],
   "source": [
    "# 最急降下法関数の動作確認\n",
    "(past_costs, past_thetas) = LM.gradient_descent(theta, iterations, alpha)"
   ]
  },
  {
   "cell_type": "code",
   "execution_count": 23,
   "metadata": {},
   "outputs": [
    {
     "name": "stdout",
     "output_type": "stream",
     "text": [
      "1：0.4030952478405966 \n",
      "2：0.3985737266019625 \n",
      "3：0.3941417517304722 \n",
      "4：0.38979753577838616 \n",
      "5：0.3855393272499306 \n",
      "6：0.3813654098727522 \n",
      "7：0.37727410188424537 \n",
      "8：0.37326375533245454 \n",
      "9：0.3693327553912311 \n",
      "10：0.3654795196893806 \n"
     ]
    }
   ],
   "source": [
    "for i,past_cost in enumerate(past_costs):\n",
    "    print(\"{}：{} \".format(i+1, float(past_cost)))"
   ]
  },
  {
   "cell_type": "code",
   "execution_count": 24,
   "metadata": {},
   "outputs": [
    {
     "data": {
      "image/png": "[encoded data removed]",
      "text/plain": [
       "<Figure size 432x288 with 1 Axes>"
      ]
     },
     "metadata": {},
     "output_type": "display_data"
    }
   ],
   "source": [
    "# 学習曲線プロット関数の動作確認\n",
    "LM.plot_learning_curve(iterations, past_costs)"
   ]
  },
  {
   "cell_type": "markdown",
   "metadata": {},
   "source": [
    "正常に動作していることを確認"
   ]
  },
  {
   "cell_type": "markdown",
   "metadata": {},
   "source": [
    "## 8. 正規方程式\n",
    "https://qiita.com/antimon2/items/ac1ebaed75ad58406b94\n",
    "\n",
    "### 最急降下法\n",
    "シンプルな機械学習アルゴリズムのため、 特徴量が増えても遅くなりにくいが、適切な学習率を選定する必要がある。  \n",
    "また、パラメーターを更新しつづけて最適解に収束させる手法なので、解を得るまで時間がかかる。\n",
    "\n",
    "### 正規方程式 \n",
    "学習率を選定することなく解を求めることができる。  \n",
    "ただし、逆行列の計算式を含むため、特徴量が多いと計算量が増え遅くなる"
   ]
  }
 ],
 "metadata": {
  "kernelspec": {
   "display_name": "Python 3",
   "language": "python",
   "name": "python3"
  },
  "language_info": {
   "codemirror_mode": {
    "name": "ipython",
    "version": 3
   },
   "file_extension": ".py",
   "mimetype": "text/x-python",
   "name": "python",
   "nbconvert_exporter": "python",
   "pygments_lexer": "ipython3",
   "version": "3.6.6"
  }
 },
 "nbformat": 4,
 "nbformat_minor": 2
}
